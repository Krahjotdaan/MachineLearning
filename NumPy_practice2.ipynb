{
  "cells": [
    {
      "cell_type": "markdown",
      "metadata": {
        "id": "view-in-github",
        "colab_type": "text"
      },
      "source": [
        "<a href=\"https://colab.research.google.com/github/Krahjotdaan/MachineLearning/blob/main/NumPy_practice2.ipynb\" target=\"_parent\"><img src=\"https://colab.research.google.com/assets/colab-badge.svg\" alt=\"Open In Colab\"/></a>"
      ]
    },
    {
      "cell_type": "markdown",
      "metadata": {
        "id": "GWokNLDC8kNu"
      },
      "source": [
        "### Всё и вся про numpy\n",
        "\n",
        "В этом ноутбуке в каждой ячейке отдельное задание - читайте комментарий в ячейке.\n",
        "\n",
        "**ВАЖНО** - выполнить задания надо с использованием библиотеки!\n",
        "\n",
        "подсказки:\n",
        "- тензор - это многомерная матрица\n",
        "- измерить время операции можно, поставив в начале строки %timeit\n",
        "        например: %timeit x+x"
      ]
    },
    {
      "cell_type": "code",
      "execution_count": null,
      "metadata": {
        "id": "7JmqxGJg8kNz"
      },
      "outputs": [],
      "source": [
        "# импорт библиотеки\n",
        "import numpy as np"
      ]
    },
    {
      "cell_type": "code",
      "execution_count": null,
      "metadata": {
        "colab": {
          "base_uri": "https://localhost:8080/"
        },
        "id": "Ko6g0wUi8kN2",
        "outputId": "c577d5f8-7411-41b8-c2eb-04694e5c83c0"
      },
      "outputs": [
        {
          "output_type": "execute_result",
          "data": {
            "text/plain": [
              "array([4, 3, 2, 1])"
            ]
          },
          "metadata": {},
          "execution_count": 4
        }
      ],
      "source": [
        "# перевернуть вектор задом наперед\n",
        "a = np.array([1, 2, 3, 4])\n",
        "a[::-1]"
      ]
    },
    {
      "cell_type": "code",
      "execution_count": null,
      "metadata": {
        "colab": {
          "base_uri": "https://localhost:8080/"
        },
        "id": "xSoqaDTt8kN2",
        "outputId": "f2ce96f3-6fc9-4fec-8d39-530a98b973f0"
      },
      "outputs": [
        {
          "output_type": "execute_result",
          "data": {
            "text/plain": [
              "array([[0, 1, 2],\n",
              "       [3, 4, 5],\n",
              "       [6, 7, 8]])"
            ]
          },
          "metadata": {},
          "execution_count": 6
        }
      ],
      "source": [
        "# создать матрицу 3х3 из значений от 0 до 8\n",
        "np.arange(0, 9).reshape((3, 3))"
      ]
    },
    {
      "cell_type": "code",
      "execution_count": null,
      "metadata": {
        "id": "tQMCBSU88kN3",
        "colab": {
          "base_uri": "https://localhost:8080/"
        },
        "outputId": "fd841728-d25d-412b-c472-7327584249f5"
      },
      "outputs": [
        {
          "output_type": "execute_result",
          "data": {
            "text/plain": [
              "array([[1., 0., 0.],\n",
              "       [0., 1., 0.],\n",
              "       [0., 0., 1.]])"
            ]
          },
          "metadata": {},
          "execution_count": 7
        }
      ],
      "source": [
        "# создать матрицу 3х3 из нулей и диагональю из 1\n",
        "np.eye(3)"
      ]
    },
    {
      "cell_type": "code",
      "execution_count": null,
      "metadata": {
        "id": "SU2XeOX78kN4",
        "colab": {
          "base_uri": "https://localhost:8080/"
        },
        "outputId": "58628bf4-7486-4174-b367-1899fad2b9d6"
      },
      "outputs": [
        {
          "output_type": "execute_result",
          "data": {
            "text/plain": [
              "array([[[0.44724968, 0.88029969, 0.27306691],\n",
              "        [0.7939959 , 0.7453421 , 0.36087175],\n",
              "        [0.89695919, 0.50931538, 0.45129369]],\n",
              "\n",
              "       [[0.21699288, 0.74998199, 0.6808775 ],\n",
              "        [0.73957894, 0.93058212, 0.44794474],\n",
              "        [0.54109533, 0.33007923, 0.91364475]],\n",
              "\n",
              "       [[0.85168582, 0.04468645, 0.41924544],\n",
              "        [0.70935026, 0.19653004, 0.98283213],\n",
              "        [0.86792398, 0.53633586, 0.028935  ]]])"
            ]
          },
          "metadata": {},
          "execution_count": 10
        }
      ],
      "source": [
        "# создать тензор 3х3х3 из случайных чисел\n",
        "np.random.random((3, 3, 3))"
      ]
    },
    {
      "cell_type": "code",
      "execution_count": null,
      "metadata": {
        "id": "7up5KJex8kN4",
        "colab": {
          "base_uri": "https://localhost:8080/"
        },
        "outputId": "24b4453a-981b-43a6-ac61-627e858aba32"
      },
      "outputs": [
        {
          "output_type": "stream",
          "name": "stdout",
          "text": [
            "[[0.64526786 0.50708268 0.20581455 0.73520823 0.96411973 0.61637654\n",
            "  0.91029275 0.68856257 0.69539853 0.93454024]\n",
            " [0.98811575 0.72856657 0.2998111  0.28459793 0.68421128 0.3653897\n",
            "  0.00113768 0.88078532 0.25894666 0.76810772]\n",
            " [0.61801207 0.72230809 0.01820827 0.9155601  0.97307082 0.77598075\n",
            "  0.01071405 0.56405452 0.60767366 0.05026862]\n",
            " [0.05584821 0.65261298 0.69885557 0.18001218 0.85675402 0.56105411\n",
            "  0.86996676 0.74324515 0.94478489 0.58592682]\n",
            " [0.22657528 0.38182246 0.22746982 0.65472301 0.33427616 0.76674765\n",
            "  0.4607254  0.13872329 0.71707778 0.89240907]\n",
            " [0.51810378 0.95879792 0.69872091 0.67137923 0.95810056 0.08108715\n",
            "  0.53316791 0.02899446 0.76048058 0.53334513]\n",
            " [0.66174577 0.95177924 0.18381414 0.08042076 0.16529196 0.96994924\n",
            "  0.1342524  0.85146332 0.18796568 0.15930079]\n",
            " [0.90327035 0.92866363 0.82464954 0.39711884 0.35029097 0.36991114\n",
            "  0.74806931 0.33115818 0.97746235 0.89139528]\n",
            " [0.16276808 0.7192251  0.14240315 0.38577815 0.22441165 0.55572306\n",
            "  0.27232974 0.97874462 0.92039215 0.09457527]\n",
            " [0.86131611 0.69723158 0.84620201 0.5326895  0.75490086 0.33634096\n",
            "  0.28012498 0.92176107 0.64078693 0.38714035]]\n",
            "0.9881157483807392\n",
            "0.0011376827955237312\n"
          ]
        }
      ],
      "source": [
        "# создать матрицу 10х10 из случайных чисел и вывести минимальное и максимальное значения\n",
        "a = np.random.random((10, 10))\n",
        "print(a)\n",
        "print(a.max())\n",
        "print(a.min())"
      ]
    },
    {
      "cell_type": "code",
      "execution_count": null,
      "metadata": {
        "id": "tPPavW6B8kN5",
        "colab": {
          "base_uri": "https://localhost:8080/"
        },
        "outputId": "652a42b4-3d48-4ea0-cb7b-583586b45543"
      },
      "outputs": [
        {
          "output_type": "stream",
          "name": "stdout",
          "text": [
            "[0.83526144 0.11054074 0.36025129 0.41794202 0.50949428 0.7061641\n",
            " 0.78260987 0.92665111 0.42703553 0.88925692 0.76553149 0.11502529\n",
            " 0.49062675 0.66188921 0.77291724 0.30168993 0.19535618 0.63095545\n",
            " 0.35685875 0.11359042 0.48507766 0.99989721 0.19766111 0.9741225\n",
            " 0.28859    0.74715535 0.66770594 0.05838086 0.56330816 0.84335183]\n",
            "0.5398299534034218\n"
          ]
        }
      ],
      "source": [
        "# создать вектор из 30 случайных чисел и вывести среднее значение\n",
        "a = np.random.random(30)\n",
        "print(a)\n",
        "print(a.mean())"
      ]
    },
    {
      "cell_type": "code",
      "execution_count": null,
      "metadata": {
        "id": "IzTgz5xz8kN6",
        "colab": {
          "base_uri": "https://localhost:8080/"
        },
        "outputId": "ebeb9018-e95b-4bb4-fa51-d4dcd28175f9"
      },
      "outputs": [
        {
          "output_type": "execute_result",
          "data": {
            "text/plain": [
              "array([[1., 1., 1., 1., 1., 1., 1., 1., 1., 1.],\n",
              "       [1., 0., 0., 0., 0., 0., 0., 0., 0., 1.],\n",
              "       [1., 0., 0., 0., 0., 0., 0., 0., 0., 1.],\n",
              "       [1., 0., 0., 0., 0., 0., 0., 0., 0., 1.],\n",
              "       [1., 0., 0., 0., 0., 0., 0., 0., 0., 1.],\n",
              "       [1., 0., 0., 0., 0., 0., 0., 0., 0., 1.],\n",
              "       [1., 0., 0., 0., 0., 0., 0., 0., 0., 1.],\n",
              "       [1., 0., 0., 0., 0., 0., 0., 0., 0., 1.],\n",
              "       [1., 0., 0., 0., 0., 0., 0., 0., 0., 1.],\n",
              "       [1., 1., 1., 1., 1., 1., 1., 1., 1., 1.]])"
            ]
          },
          "metadata": {},
          "execution_count": 21
        }
      ],
      "source": [
        "# создать матрицу 10х10 из нулей и единицами по границам матрицы\n",
        "a = np.ones((10, 10))\n",
        "a[1:-1,1:-1] = 0\n",
        "a"
      ]
    },
    {
      "cell_type": "code",
      "execution_count": null,
      "metadata": {
        "id": "JZYBQORO8kN6",
        "colab": {
          "base_uri": "https://localhost:8080/"
        },
        "outputId": "c87c5fda-0c16-40e3-f9ac-327411bb9efc"
      },
      "outputs": [
        {
          "output_type": "execute_result",
          "data": {
            "text/plain": [
              "array([[1., 1., 1., 1., 1., 1., 1.],\n",
              "       [1., 0., 0., 0., 0., 0., 1.],\n",
              "       [1., 0., 0., 0., 0., 0., 1.],\n",
              "       [1., 0., 0., 0., 0., 0., 1.],\n",
              "       [1., 0., 0., 0., 0., 0., 1.],\n",
              "       [1., 0., 0., 0., 0., 0., 1.],\n",
              "       [1., 1., 1., 1., 1., 1., 1.]])"
            ]
          },
          "metadata": {},
          "execution_count": 40
        }
      ],
      "source": [
        "# создать матрицу 5х5 из единиц и превратить ее в 7х7, окружив нули единицами по границе матрицы\n",
        "a = np.ones((5, 5))\n",
        "a = np.ones((7, 7))\n",
        "a[1:-1,1:-1] = 0\n",
        "a"
      ]
    },
    {
      "cell_type": "code",
      "execution_count": null,
      "metadata": {
        "id": "UGW1tXm38kN7",
        "colab": {
          "base_uri": "https://localhost:8080/"
        },
        "outputId": "f59f2698-3abb-455e-dc6b-14a605641dc7"
      },
      "outputs": [
        {
          "output_type": "execute_result",
          "data": {
            "text/plain": [
              "array([[0., 0., 0., 0., 0., 0., 0.],\n",
              "       [0., 1., 1., 1., 1., 1., 0.],\n",
              "       [0., 1., 1., 1., 1., 1., 0.],\n",
              "       [0., 1., 1., 1., 1., 1., 0.],\n",
              "       [0., 1., 1., 1., 1., 1., 0.],\n",
              "       [0., 1., 1., 1., 1., 1., 0.],\n",
              "       [0., 0., 0., 0., 0., 0., 0.]])"
            ]
          },
          "metadata": {},
          "execution_count": 34
        }
      ],
      "source": [
        "# создать матрицу 7х7 из единиц в середине и нулей по периметру, используя индексацию\n",
        "a = np.zeros((7, 7))\n",
        "a[1:-1,1:-1] = 1\n",
        "a"
      ]
    },
    {
      "cell_type": "code",
      "execution_count": null,
      "metadata": {
        "id": "XDPkm3hD8kN8",
        "colab": {
          "base_uri": "https://localhost:8080/"
        },
        "outputId": "45b9abb1-403f-4acc-c2a5-47ee7a2038df"
      },
      "outputs": [
        {
          "output_type": "execute_result",
          "data": {
            "text/plain": [
              "False"
            ]
          },
          "metadata": {},
          "execution_count": 17
        }
      ],
      "source": [
        "# что будет результатом каждой строки?\n",
        "0 * np.nan\n",
        "np.nan == np.nan\n",
        "np.inf > np.nan\n",
        "np.nan - np.nan\n",
        "np.nan in set([np.nan])\n",
        "0.3 == 3 * 0.1\n",
        "\n",
        "# проверьте свои предположения\n"
      ]
    },
    {
      "cell_type": "code",
      "execution_count": null,
      "metadata": {
        "id": "PayVvG9W8kN9",
        "colab": {
          "base_uri": "https://localhost:8080/"
        },
        "outputId": "6b1a7f1e-bb64-4c86-a3b4-e068987e5a18"
      },
      "outputs": [
        {
          "output_type": "stream",
          "name": "stdout",
          "text": [
            "[[0 0 0 0 0]\n",
            " [1 0 0 0 0]\n",
            " [0 2 0 0 0]\n",
            " [0 0 3 0 0]\n",
            " [0 0 0 4 0]]\n"
          ]
        }
      ],
      "source": [
        "# создать (код в одну строку) матрицу 5х5 из нулей и чисел 1 2 3 4 под главной диагональю\n",
        "a = np.diag(np.arange(1, 5), k =- 1)\n",
        "print(a)"
      ]
    },
    {
      "cell_type": "code",
      "execution_count": null,
      "metadata": {
        "id": "E7oJvSCX8kN9",
        "colab": {
          "base_uri": "https://localhost:8080/"
        },
        "outputId": "ab12a6da-4186-44b0-8aa0-cbb404d9e222"
      },
      "outputs": [
        {
          "output_type": "stream",
          "name": "stdout",
          "text": [
            "[[0 1 0 1 0 1 0 1]\n",
            " [1 0 1 0 1 0 1 0]\n",
            " [0 1 0 1 0 1 0 1]\n",
            " [1 0 1 0 1 0 1 0]\n",
            " [0 1 0 1 0 1 0 1]\n",
            " [1 0 1 0 1 0 1 0]\n",
            " [0 1 0 1 0 1 0 1]\n",
            " [1 0 1 0 1 0 1 0]]\n"
          ]
        }
      ],
      "source": [
        "# создать (через работу со срезами) матрицу 8х8, заполнив ее нулями и единицами по образу шахматной доски\n",
        "a = np.zeros((8,8), dtype=int)\n",
        "a[1::2,::2] = 1\n",
        "a[::2,1::2] = 1\n",
        "print(a)"
      ]
    },
    {
      "cell_type": "code",
      "execution_count": null,
      "metadata": {
        "id": "LGPzn2Cm8kN-",
        "colab": {
          "base_uri": "https://localhost:8080/"
        },
        "outputId": "3fc89fd3-d77a-4215-94ef-096335d6a66f"
      },
      "outputs": [
        {
          "output_type": "stream",
          "name": "stdout",
          "text": [
            "[[0 1 0 1 0 1 0 1]\n",
            " [1 0 1 0 1 0 1 0]\n",
            " [0 1 0 1 0 1 0 1]\n",
            " [1 0 1 0 1 0 1 0]\n",
            " [0 1 0 1 0 1 0 1]\n",
            " [1 0 1 0 1 0 1 0]\n",
            " [0 1 0 1 0 1 0 1]\n",
            " [1 0 1 0 1 0 1 0]]\n"
          ]
        }
      ],
      "source": [
        "# создать (код в одну строку с использованием библиотечной функции) матрицу 8х8,\n",
        "# заполнив ее нулями и единицами по образу шахматной доски\n",
        "a = np.tile(np.array([[0, 1], [1, 0]]), (4, 4))\n",
        "print(a)"
      ]
    },
    {
      "cell_type": "code",
      "execution_count": null,
      "metadata": {
        "id": "u0qE02n98kN-",
        "colab": {
          "base_uri": "https://localhost:8080/"
        },
        "outputId": "3ba65b45-dd1d-4ff6-e51b-18ecb41b5fcd"
      },
      "outputs": [
        {
          "output_type": "stream",
          "name": "stdout",
          "text": [
            "(1, 5, 4)\n"
          ]
        }
      ],
      "source": [
        "# в тензоре 6х7х8 найти индексы сотого элемента (счет элементов идет по слоям)\n",
        "print(np.unravel_index(100, (6,7,8)))"
      ]
    },
    {
      "cell_type": "code",
      "execution_count": null,
      "metadata": {
        "id": "TCyff8Uz8kN_",
        "colab": {
          "base_uri": "https://localhost:8080/"
        },
        "outputId": "c4922ee3-4fe8-41a6-cbce-986af8b8b821"
      },
      "outputs": [
        {
          "output_type": "stream",
          "name": "stdout",
          "text": [
            "[[ 0.95560257  0.22282863  0.75121527 -0.52011482  0.37561181]\n",
            " [-0.58749741  1.62258718  1.58761914  1.43629341 -0.8632197 ]\n",
            " [-0.84372749  0.99596534 -0.43997664 -1.26560637  0.86757829]\n",
            " [-0.6308487  -0.87072772 -0.88170795 -1.25314929  0.35575198]\n",
            " [ 0.73249238 -1.39391836 -0.67822423 -1.2302393   1.55541199]]\n"
          ]
        }
      ],
      "source": [
        "# создать матрицу 5х5 из случайных чисел и нормализовать ее\n",
        "a = np.random.random((5, 5))\n",
        "a = (a - np.mean(a)) / (np.std(a))\n",
        "print(a)"
      ]
    },
    {
      "cell_type": "code",
      "execution_count": null,
      "metadata": {
        "id": "eX93hFG28kN_",
        "colab": {
          "base_uri": "https://localhost:8080/"
        },
        "outputId": "62b86ce3-ce4c-4fc4-ea14-1f989b7c67c9"
      },
      "outputs": [
        {
          "output_type": "execute_result",
          "data": {
            "text/plain": [
              "array([[3., 3.],\n",
              "       [3., 3.],\n",
              "       [3., 3.],\n",
              "       [3., 3.],\n",
              "       [3., 3.]])"
            ]
          },
          "metadata": {},
          "execution_count": 42
        }
      ],
      "source": [
        "# выполнить матричное умножение матриц 5х3 и 3х2 из единиц\n",
        "a = np.dot(np.ones((5,3)), np.ones((3,2)))\n",
        "a"
      ]
    },
    {
      "cell_type": "code",
      "execution_count": null,
      "metadata": {
        "id": "dFxWf-gt8kOB",
        "colab": {
          "base_uri": "https://localhost:8080/"
        },
        "outputId": "05f30fb3-c3ed-4208-9fd0-afd95c24259e"
      },
      "outputs": [
        {
          "output_type": "execute_result",
          "data": {
            "text/plain": [
              "array([[[  0.,   2.,   4.],\n",
              "        [  6.,   8.,  10.],\n",
              "        [ 12.,  14.,  16.],\n",
              "        [ 18.,  20.,  22.],\n",
              "        [ 24.,  26.,  28.]],\n",
              "\n",
              "       [[ 30.,  32.,  34.],\n",
              "        [ 36.,  38.,  40.],\n",
              "        [ 42.,  44.,  46.],\n",
              "        [ 48.,  50.,  52.],\n",
              "        [ 54.,  56.,  58.]],\n",
              "\n",
              "       [[ 60.,  62.,  64.],\n",
              "        [ 66.,  68.,  70.],\n",
              "        [ 72.,  74.,  76.],\n",
              "        [ 78.,  80.,  82.],\n",
              "        [ 84.,  86.,  88.]],\n",
              "\n",
              "       [[ 90.,  92.,  94.],\n",
              "        [ 96.,  98., 100.],\n",
              "        [102., 104., 106.],\n",
              "        [108., 110., 112.],\n",
              "        [114., 116., 118.]],\n",
              "\n",
              "       [[120., 122., 124.],\n",
              "        [126., 128., 130.],\n",
              "        [132., 134., 136.],\n",
              "        [138., 140., 142.],\n",
              "        [144., 146., 148.]]])"
            ]
          },
          "metadata": {},
          "execution_count": 51
        }
      ],
      "source": [
        "# написать умножение тензора 5х5х3 на матрицу 5х3\n",
        "a = np.arange(5 * 5 * 3).reshape(5, 5, 3)\n",
        "b = 2 * np.ones((5, 5))\n",
        "a * b[:, :, None]"
      ]
    },
    {
      "cell_type": "code",
      "execution_count": null,
      "metadata": {
        "id": "MQJpnx1g8kOD",
        "colab": {
          "base_uri": "https://localhost:8080/"
        },
        "outputId": "f42835e5-4857-4c69-c065-15468e0e92b9"
      },
      "outputs": [
        {
          "output_type": "execute_result",
          "data": {
            "text/plain": [
              "8"
            ]
          },
          "metadata": {},
          "execution_count": 63
        }
      ],
      "source": [
        "# найти самое частое значение в матрице\n",
        "Z = np.random.randint(10, size = (10, 10))\n",
        "Z_bincount_flat = np.bincount(Z.flatten())\n",
        "top_elem = Z_bincount_flat.argmax()\n",
        "top_elem"
      ]
    },
    {
      "cell_type": "code",
      "execution_count": null,
      "metadata": {
        "id": "2loxFJ1W8kOE",
        "colab": {
          "base_uri": "https://localhost:8080/"
        },
        "outputId": "0d1d3378-150f-4091-ed1c-a4dd28ca49dd"
      },
      "outputs": [
        {
          "output_type": "execute_result",
          "data": {
            "text/plain": [
              "array([[16., 16., 16., 16.],\n",
              "       [16., 16., 16., 16.],\n",
              "       [16., 16., 16., 16.],\n",
              "       [16., 16., 16., 16.]])"
            ]
          },
          "metadata": {},
          "execution_count": 52
        }
      ],
      "source": [
        "# для матрицы 16х16 вывести матрицу из сумм блоков 4х4\n",
        "a = np.ones((16,16))\n",
        "k = 4\n",
        "b = np.add.reduceat(np.add.reduceat(a, np.arange(0, a.shape[0], k), axis=0),\n",
        "                                       np.arange(0, a.shape[1], k), axis=1)\n",
        "b"
      ]
    },
    {
      "cell_type": "code",
      "execution_count": null,
      "metadata": {
        "id": "QCIDxUVG8kOF",
        "colab": {
          "base_uri": "https://localhost:8080/"
        },
        "outputId": "ea02cc30-e96f-4f51-e02c-52c9970fc947"
      },
      "outputs": [
        {
          "output_type": "execute_result",
          "data": {
            "text/plain": [
              "array([[0, 0, 0, 0, 0, 0, 0, 0, 0, 0, 0],\n",
              "       [0, 0, 0, 0, 0, 0, 0, 0, 0, 0, 1],\n",
              "       [0, 0, 0, 0, 0, 0, 0, 0, 0, 1, 0],\n",
              "       [0, 0, 0, 0, 0, 0, 0, 0, 0, 1, 1],\n",
              "       [0, 0, 0, 0, 0, 0, 0, 1, 1, 1, 1],\n",
              "       [0, 0, 0, 0, 0, 0, 1, 0, 0, 0, 0],\n",
              "       [0, 0, 0, 0, 1, 0, 0, 0, 0, 0, 0],\n",
              "       [0, 0, 0, 1, 1, 1, 1, 1, 1, 1, 1],\n",
              "       [0, 0, 1, 0, 0, 0, 0, 0, 0, 0, 0],\n",
              "       [1, 0, 0, 0, 0, 0, 0, 0, 0, 0, 0]])"
            ]
          },
          "metadata": {},
          "execution_count": 67
        }
      ],
      "source": [
        "# преобразовать вектор целых чисел в матрицу их двоичного представления\n",
        "arr_numbers = np.array([0, 1, 2, 3, 15, 16, 64, 255, 256, 1024])\n",
        "import math\n",
        "\n",
        "max_number = arr_numbers.max()\n",
        "N = math.ceil(np.log2(max_number)) + 1\n",
        "\n",
        "binary_numbers = ((arr_numbers.reshape(-1, 1) & (2 ** np.arange(N))) != 0).astype(int)\n",
        "binary_numbers = binary_numbers[:, ::-1]\n",
        "binary_numbers"
      ]
    },
    {
      "cell_type": "code",
      "execution_count": null,
      "metadata": {
        "id": "19CIl70H8kOG",
        "colab": {
          "base_uri": "https://localhost:8080/"
        },
        "outputId": "d124f741-f8a8-49a8-a59b-ee7ebfcda5b2"
      },
      "outputs": [
        {
          "output_type": "execute_result",
          "data": {
            "text/plain": [
              "10"
            ]
          },
          "metadata": {},
          "execution_count": 65
        }
      ],
      "source": [
        "# для матрицы вывести все уникальные строки\n",
        "Z = np.random.randint(0, 20, (10, 3))\n",
        "uniq_rows_Z2 = np.unique(Z, axis=0)\n",
        "len_arr = len(uniq_rows_Z2)\n",
        "len_arr"
      ]
    }
  ],
  "metadata": {
    "kernelspec": {
      "display_name": "Python 3",
      "language": "python",
      "name": "python3"
    },
    "language_info": {
      "codemirror_mode": {
        "name": "ipython",
        "version": 3
      },
      "file_extension": ".py",
      "mimetype": "text/x-python",
      "name": "python",
      "nbconvert_exporter": "python",
      "pygments_lexer": "ipython3",
      "version": "3.8.5"
    },
    "colab": {
      "provenance": [],
      "include_colab_link": true
    }
  },
  "nbformat": 4,
  "nbformat_minor": 0
}