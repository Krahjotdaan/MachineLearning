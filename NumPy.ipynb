{
  "nbformat": 4,
  "nbformat_minor": 0,
  "metadata": {
    "colab": {
      "provenance": [],
      "include_colab_link": true
    },
    "kernelspec": {
      "display_name": "Python 3",
      "language": "python",
      "name": "python3"
    },
    "language_info": {
      "codemirror_mode": {
        "name": "ipython",
        "version": 3
      },
      "file_extension": ".py",
      "mimetype": "text/x-python",
      "name": "python",
      "nbconvert_exporter": "python",
      "pygments_lexer": "ipython3",
      "version": "3.8.5"
    }
  },
  "cells": [
    {
      "cell_type": "markdown",
      "metadata": {
        "id": "view-in-github",
        "colab_type": "text"
      },
      "source": [
        "<a href=\"https://colab.research.google.com/github/Krahjotdaan/MachineLearning/blob/main/NumPy.ipynb\" target=\"_parent\"><img src=\"https://colab.research.google.com/assets/colab-badge.svg\" alt=\"Open In Colab\"/></a>"
      ]
    },
    {
      "cell_type": "markdown",
      "metadata": {
        "id": "U6R8P_AuEVy-"
      },
      "source": [
        "# Введение в Numpy."
      ]
    },
    {
      "cell_type": "markdown",
      "metadata": {
        "id": "uRE0YC3csEWa"
      },
      "source": [
        "\n",
        "**NumPy** — библиотека языка Python, позволяющая [удобно] работать с многомерными массивами и матрицами, содержащая математические функции.\n",
        "\n",
        "- быстрые векторные операции:\n",
        "    - переформатирование данных\n",
        "    - очистка/удаление дубликатов\n",
        "    - выборка подмножества\n",
        "    - фильтрация\n",
        "- описательные статистики, агрегирование\n",
        "- объединения и соединения разнородных данных\n",
        "- выражения-массивы для условной логики\n",
        "- групповое применение функций\n",
        "\n",
        " [numpy](http://www.numpy.org)\n"
      ]
    },
    {
      "cell_type": "code",
      "metadata": {
        "id": "r6S-49xJEVzS"
      },
      "source": [
        "# импорт библиотеки - самое начало!\n",
        "import numpy as np"
      ],
      "execution_count": null,
      "outputs": []
    },
    {
      "cell_type": "markdown",
      "metadata": {
        "id": "xyG7mDAcEVzY"
      },
      "source": [
        "Основной тип данных - многомерный массив элементов одного типа — [numpy.ndarray] - контейнер для хранения больших наборов данных.\n",
        "\n",
        "Одномерный массив называем ВЕКТОР"
      ]
    },
    {
      "cell_type": "code",
      "metadata": {
        "id": "TcmdA_E3EVza"
      },
      "source": [
        "# вектор из обычного списка\n",
        "vec = np.array([1, 2, 3, 4])"
      ],
      "execution_count": null,
      "outputs": []
    },
    {
      "cell_type": "code",
      "metadata": {
        "id": "UG8QJ9_uEjMh",
        "colab": {
          "base_uri": "https://localhost:8080/"
        },
        "outputId": "263f1012-798a-4213-ab00-42628a1c9b65"
      },
      "source": [
        "# количество осей/измерений\n",
        "vec.ndim"
      ],
      "execution_count": null,
      "outputs": [
        {
          "output_type": "execute_result",
          "data": {
            "text/plain": [
              "1"
            ]
          },
          "metadata": {},
          "execution_count": 3
        }
      ]
    },
    {
      "cell_type": "code",
      "metadata": {
        "id": "6rQ1ci-aEVzn",
        "colab": {
          "base_uri": "https://localhost:8080/"
        },
        "outputId": "3379bcc5-93c5-4227-a126-20c79e14a7b3"
      },
      "source": [
        "# длина массива по каждой из осей\n",
        "vec.shape"
      ],
      "execution_count": null,
      "outputs": [
        {
          "output_type": "execute_result",
          "data": {
            "text/plain": [
              "(4,)"
            ]
          },
          "metadata": {},
          "execution_count": 4
        }
      ]
    },
    {
      "cell_type": "code",
      "metadata": {
        "id": "SNpNYtbZEVzt",
        "colab": {
          "base_uri": "https://localhost:8080/",
          "height": 35
        },
        "outputId": "9933e02b-328f-4c41-891d-0b94c894f7fc"
      },
      "source": [
        "# тип элемента массива\n",
        "vec.dtype.name"
      ],
      "execution_count": null,
      "outputs": [
        {
          "output_type": "execute_result",
          "data": {
            "text/plain": [
              "'int64'"
            ],
            "application/vnd.google.colaboratory.intrinsic+json": {
              "type": "string"
            }
          },
          "metadata": {},
          "execution_count": 5
        }
      ]
    },
    {
      "cell_type": "code",
      "metadata": {
        "id": "Pyaqex-bEVzx",
        "colab": {
          "base_uri": "https://localhost:8080/"
        },
        "outputId": "e9b68915-0238-4d21-99fb-afe2194c14b5"
      },
      "source": [
        "# размер элемента массива\n",
        "vec.itemsize"
      ],
      "execution_count": null,
      "outputs": [
        {
          "output_type": "execute_result",
          "data": {
            "text/plain": [
              "8"
            ]
          },
          "metadata": {},
          "execution_count": 6
        }
      ]
    },
    {
      "cell_type": "markdown",
      "metadata": {
        "id": "fwRQ9RXVEVz0"
      },
      "source": [
        "## Создание массивов\n",
        "\n",
        "* Передать итерируемый объект в качестве параметра функции array (можно также явно указать тип элементов):"
      ]
    },
    {
      "cell_type": "code",
      "metadata": {
        "id": "-NjhNZfVEVz1",
        "colab": {
          "base_uri": "https://localhost:8080/"
        },
        "outputId": "90a762b5-001e-49c6-874a-a481646ac7eb"
      },
      "source": [
        "ls = [1, 2, 3, 4]\n",
        "vec = np.array(ls)\n",
        "vec"
      ],
      "execution_count": null,
      "outputs": [
        {
          "output_type": "execute_result",
          "data": {
            "text/plain": [
              "array([1, 2, 3, 4])"
            ]
          },
          "metadata": {},
          "execution_count": 7
        }
      ]
    },
    {
      "cell_type": "code",
      "metadata": {
        "id": "gBqK_fWaEVz5",
        "colab": {
          "base_uri": "https://localhost:8080/"
        },
        "outputId": "7bd5238c-04cc-4cb8-a2f8-dd38a66006ba"
      },
      "source": [
        "ls = [1, 2, 3, 4]\n",
        "vec = np.array(ls, dtype=float)\n",
        "vec"
      ],
      "execution_count": null,
      "outputs": [
        {
          "output_type": "execute_result",
          "data": {
            "text/plain": [
              "array([1., 2., 3., 4.])"
            ]
          },
          "metadata": {},
          "execution_count": 8
        }
      ]
    },
    {
      "cell_type": "markdown",
      "metadata": {
        "id": "f7s-XYvCEV0B"
      },
      "source": [
        "* Создание массивов специального вида при помощи функций :"
      ]
    },
    {
      "cell_type": "code",
      "metadata": {
        "id": "w-7oIt6BEV0C",
        "colab": {
          "base_uri": "https://localhost:8080/"
        },
        "outputId": "12cec113-a363-46a4-8a81-23ce094b272b"
      },
      "source": [
        "np.zeros((5, 8))"
      ],
      "execution_count": null,
      "outputs": [
        {
          "output_type": "execute_result",
          "data": {
            "text/plain": [
              "array([[0., 0., 0., 0., 0., 0., 0., 0.],\n",
              "       [0., 0., 0., 0., 0., 0., 0., 0.],\n",
              "       [0., 0., 0., 0., 0., 0., 0., 0.],\n",
              "       [0., 0., 0., 0., 0., 0., 0., 0.],\n",
              "       [0., 0., 0., 0., 0., 0., 0., 0.]])"
            ]
          },
          "metadata": {},
          "execution_count": 9
        }
      ]
    },
    {
      "cell_type": "code",
      "metadata": {
        "id": "M47Ne3v0EjMn",
        "colab": {
          "base_uri": "https://localhost:8080/"
        },
        "outputId": "e754f1d9-f281-4b16-c223-11157f4070cd"
      },
      "source": [
        "np.ones(5)"
      ],
      "execution_count": null,
      "outputs": [
        {
          "output_type": "execute_result",
          "data": {
            "text/plain": [
              "array([1., 1., 1., 1., 1.])"
            ]
          },
          "metadata": {},
          "execution_count": 10
        }
      ]
    },
    {
      "cell_type": "markdown",
      "metadata": {
        "id": "ZcZIBYkrEV0V"
      },
      "source": [
        "* Создание последовательностей при помощи функций arange (в качестве парметров принимает левую и правую границы последовательности и **шаг**) и linspace (принимает левую и правую границы и **количество элементов**):"
      ]
    },
    {
      "cell_type": "code",
      "metadata": {
        "id": "dbSxinC3EV0X",
        "colab": {
          "base_uri": "https://localhost:8080/"
        },
        "outputId": "661f10ca-6cf5-457a-cb1e-9da645cd91e6"
      },
      "source": [
        "np.arange(1, 10)"
      ],
      "execution_count": null,
      "outputs": [
        {
          "output_type": "execute_result",
          "data": {
            "text/plain": [
              "array([1, 2, 3, 4, 5, 6, 7, 8, 9])"
            ]
          },
          "metadata": {},
          "execution_count": 11
        }
      ]
    },
    {
      "cell_type": "code",
      "metadata": {
        "id": "U_Krtlr6EV0e",
        "colab": {
          "base_uri": "https://localhost:8080/"
        },
        "outputId": "d193f947-f5cb-401d-9d35-662b0c079554"
      },
      "source": [
        "np.arange(1, 10, 0.5)"
      ],
      "execution_count": null,
      "outputs": [
        {
          "output_type": "execute_result",
          "data": {
            "text/plain": [
              "array([1. , 1.5, 2. , 2.5, 3. , 3.5, 4. , 4.5, 5. , 5.5, 6. , 6.5, 7. ,\n",
              "       7.5, 8. , 8.5, 9. , 9.5])"
            ]
          },
          "metadata": {},
          "execution_count": 12
        }
      ]
    },
    {
      "cell_type": "code",
      "metadata": {
        "id": "_M-G8qSJEV0l",
        "colab": {
          "base_uri": "https://localhost:8080/"
        },
        "outputId": "a5332a9c-f300-4369-d105-9d5217f6e9d5"
      },
      "source": [
        "np.linspace(1, 10, 44)"
      ],
      "execution_count": null,
      "outputs": [
        {
          "output_type": "execute_result",
          "data": {
            "text/plain": [
              "array([ 1.        ,  1.20930233,  1.41860465,  1.62790698,  1.8372093 ,\n",
              "        2.04651163,  2.25581395,  2.46511628,  2.6744186 ,  2.88372093,\n",
              "        3.09302326,  3.30232558,  3.51162791,  3.72093023,  3.93023256,\n",
              "        4.13953488,  4.34883721,  4.55813953,  4.76744186,  4.97674419,\n",
              "        5.18604651,  5.39534884,  5.60465116,  5.81395349,  6.02325581,\n",
              "        6.23255814,  6.44186047,  6.65116279,  6.86046512,  7.06976744,\n",
              "        7.27906977,  7.48837209,  7.69767442,  7.90697674,  8.11627907,\n",
              "        8.3255814 ,  8.53488372,  8.74418605,  8.95348837,  9.1627907 ,\n",
              "        9.37209302,  9.58139535,  9.79069767, 10.        ])"
            ]
          },
          "metadata": {},
          "execution_count": 13
        }
      ]
    },
    {
      "cell_type": "markdown",
      "metadata": {
        "id": "7SdAvCm6EV1K"
      },
      "source": [
        "## Базовые операции\n",
        "\n",
        "* Базовые арифметические операции над массивами выполняются поэлементно:"
      ]
    },
    {
      "cell_type": "code",
      "metadata": {
        "id": "MSXiguPrEV1L"
      },
      "source": [
        "a = np.array([1, 2, 3, 4])\n",
        "b = np.array([5, 6, 7, 8])"
      ],
      "execution_count": null,
      "outputs": []
    },
    {
      "cell_type": "code",
      "metadata": {
        "id": "MJ9vw_hXEV1T",
        "colab": {
          "base_uri": "https://localhost:8080/"
        },
        "outputId": "c687a9fc-85d9-4449-f710-2affa2a04217"
      },
      "source": [
        "a + b"
      ],
      "execution_count": null,
      "outputs": [
        {
          "output_type": "execute_result",
          "data": {
            "text/plain": [
              "array([ 6,  8, 10, 12])"
            ]
          },
          "metadata": {},
          "execution_count": 15
        }
      ]
    },
    {
      "cell_type": "code",
      "metadata": {
        "id": "9_lOokJ8EV1b",
        "colab": {
          "base_uri": "https://localhost:8080/"
        },
        "outputId": "b4e095f2-bb24-427f-de65-f1ed8cd7ac61"
      },
      "source": [
        "a - b"
      ],
      "execution_count": null,
      "outputs": [
        {
          "output_type": "execute_result",
          "data": {
            "text/plain": [
              "array([-4, -4, -4, -4])"
            ]
          },
          "metadata": {},
          "execution_count": 16
        }
      ]
    },
    {
      "cell_type": "code",
      "metadata": {
        "id": "qwhfe-3nEV1e",
        "colab": {
          "base_uri": "https://localhost:8080/"
        },
        "outputId": "7ac472c1-1d97-4c45-fc2b-80c11ae0f92e"
      },
      "source": [
        "a * 3"
      ],
      "execution_count": null,
      "outputs": [
        {
          "output_type": "execute_result",
          "data": {
            "text/plain": [
              "array([ 3,  6,  9, 12])"
            ]
          },
          "metadata": {},
          "execution_count": 18
        }
      ]
    },
    {
      "cell_type": "code",
      "metadata": {
        "id": "tWKlrT_PEV1i",
        "colab": {
          "base_uri": "https://localhost:8080/"
        },
        "outputId": "18b6e078-9a01-4c5d-91f6-19a0d4ec972f"
      },
      "source": [
        "a ** 2"
      ],
      "execution_count": null,
      "outputs": [
        {
          "output_type": "execute_result",
          "data": {
            "text/plain": [
              "array([ 1,  4,  9, 16])"
            ]
          },
          "metadata": {},
          "execution_count": 19
        }
      ]
    },
    {
      "cell_type": "code",
      "metadata": {
        "id": "MFE_uRdfEV1o",
        "colab": {
          "base_uri": "https://localhost:8080/"
        },
        "outputId": "b3b58474-a0ba-49b5-83c1-8092b2b0b123"
      },
      "source": [
        "a * b"
      ],
      "execution_count": null,
      "outputs": [
        {
          "output_type": "execute_result",
          "data": {
            "text/plain": [
              "array([ 5, 12, 21, 32])"
            ]
          },
          "metadata": {},
          "execution_count": 17
        }
      ]
    },
    {
      "cell_type": "code",
      "metadata": {
        "id": "Ga83GuB3EV1X",
        "colab": {
          "base_uri": "https://localhost:8080/"
        },
        "outputId": "0127f721-da1f-4b5f-a286-32f7dca7b24c"
      },
      "source": [
        "a ** b"
      ],
      "execution_count": null,
      "outputs": [
        {
          "output_type": "execute_result",
          "data": {
            "text/plain": [
              "array([    1,    64,  2187, 65536])"
            ]
          },
          "metadata": {},
          "execution_count": 20
        }
      ]
    },
    {
      "cell_type": "markdown",
      "metadata": {
        "id": "kLt_lMPFEV1s"
      },
      "source": [
        "Для выполнения скалярного умножения необходимо использовать функцию dot:"
      ]
    },
    {
      "cell_type": "code",
      "metadata": {
        "id": "12exAk42EV1t",
        "colab": {
          "base_uri": "https://localhost:8080/"
        },
        "outputId": "5281e079-b926-4317-baee-ba82275a55a3"
      },
      "source": [
        "a.dot(b)"
      ],
      "execution_count": null,
      "outputs": [
        {
          "output_type": "execute_result",
          "data": {
            "text/plain": [
              "70"
            ]
          },
          "metadata": {},
          "execution_count": 21
        }
      ]
    },
    {
      "cell_type": "code",
      "metadata": {
        "id": "xOROk9KUEV2U",
        "colab": {
          "base_uri": "https://localhost:8080/"
        },
        "outputId": "95ec87c2-794a-4c89-fc88-0497c74291f4"
      },
      "source": [
        "a.max()"
      ],
      "execution_count": null,
      "outputs": [
        {
          "output_type": "execute_result",
          "data": {
            "text/plain": [
              "4"
            ]
          },
          "metadata": {},
          "execution_count": 22
        }
      ]
    },
    {
      "cell_type": "code",
      "metadata": {
        "id": "Qg7pI5rTEV2X",
        "colab": {
          "base_uri": "https://localhost:8080/"
        },
        "outputId": "97fd2cbb-ad52-408b-bc92-69d59ebf600d"
      },
      "source": [
        "a.min()"
      ],
      "execution_count": null,
      "outputs": [
        {
          "output_type": "execute_result",
          "data": {
            "text/plain": [
              "1"
            ]
          },
          "metadata": {},
          "execution_count": 23
        }
      ]
    },
    {
      "cell_type": "code",
      "metadata": {
        "id": "aEtqjP78EV2c",
        "colab": {
          "base_uri": "https://localhost:8080/"
        },
        "outputId": "3d20ceb9-7d60-43ab-e628-13678158f9c8"
      },
      "source": [
        "a.mean()"
      ],
      "execution_count": null,
      "outputs": [
        {
          "output_type": "execute_result",
          "data": {
            "text/plain": [
              "2.5"
            ]
          },
          "metadata": {},
          "execution_count": 25
        }
      ]
    },
    {
      "cell_type": "code",
      "metadata": {
        "id": "WxGr7AxwEV2k",
        "colab": {
          "base_uri": "https://localhost:8080/"
        },
        "outputId": "4d040742-ba7b-4e02-f11a-49a67daa3931"
      },
      "source": [
        "a.sum()"
      ],
      "execution_count": null,
      "outputs": [
        {
          "output_type": "execute_result",
          "data": {
            "text/plain": [
              "10"
            ]
          },
          "metadata": {},
          "execution_count": 26
        }
      ]
    },
    {
      "cell_type": "markdown",
      "metadata": {
        "id": "hDukyD7KEV2o"
      },
      "source": [
        "## Индексация\n",
        "\n",
        "Для доступа к элементам может использоваться [много различных способов](http://docs.scipy.org/doc/numpy/reference/arrays.indexing.html), рассмотрим основные."
      ]
    },
    {
      "cell_type": "code",
      "metadata": {
        "id": "0Nw2DCWPEV2p",
        "colab": {
          "base_uri": "https://localhost:8080/"
        },
        "outputId": "9be8f30d-272b-42db-f000-06ed6e65852f"
      },
      "source": [
        "a[0]"
      ],
      "execution_count": null,
      "outputs": [
        {
          "output_type": "execute_result",
          "data": {
            "text/plain": [
              "1"
            ]
          },
          "metadata": {},
          "execution_count": 27
        }
      ]
    },
    {
      "cell_type": "markdown",
      "metadata": {
        "id": "n5kIpDZaEjMt"
      },
      "source": [
        "### Индексация"
      ]
    },
    {
      "cell_type": "code",
      "metadata": {
        "id": "s3q55JLpEjMt",
        "colab": {
          "base_uri": "https://localhost:8080/"
        },
        "outputId": "d2125e55-2c23-4764-e21b-feb88e0ad95c"
      },
      "source": [
        "a[-2]"
      ],
      "execution_count": null,
      "outputs": [
        {
          "output_type": "execute_result",
          "data": {
            "text/plain": [
              "3"
            ]
          },
          "metadata": {},
          "execution_count": 28
        }
      ]
    },
    {
      "cell_type": "code",
      "metadata": {
        "id": "rXp-IRYoEjMt",
        "colab": {
          "base_uri": "https://localhost:8080/"
        },
        "outputId": "0cc6b65a-8060-4b28-b340-9e56237f9789"
      },
      "source": [
        "a[2:]"
      ],
      "execution_count": null,
      "outputs": [
        {
          "output_type": "execute_result",
          "data": {
            "text/plain": [
              "array([3, 4])"
            ]
          },
          "metadata": {},
          "execution_count": 30
        }
      ]
    },
    {
      "cell_type": "markdown",
      "metadata": {
        "id": "S7QtnAmuEjMt"
      },
      "source": [
        "### Индексация списком индексов"
      ]
    },
    {
      "cell_type": "code",
      "metadata": {
        "id": "rgcpRx6lEjMt",
        "colab": {
          "base_uri": "https://localhost:8080/"
        },
        "outputId": "318d2684-e955-46b5-aac9-1138659d4ecb"
      },
      "source": [
        "c = np.array([1, 2, 3, 4, 5, 6, 7, 8])\n",
        "ind = [1, 3, 5]\n",
        "c[ind]"
      ],
      "execution_count": null,
      "outputs": [
        {
          "output_type": "execute_result",
          "data": {
            "text/plain": [
              "array([2, 4, 6])"
            ]
          },
          "metadata": {},
          "execution_count": 3
        }
      ]
    },
    {
      "cell_type": "markdown",
      "metadata": {
        "id": "6P8O0DTJEjMt"
      },
      "source": [
        "### Логическая индексация"
      ]
    },
    {
      "cell_type": "code",
      "metadata": {
        "id": "Apg4KpU8EjMu",
        "colab": {
          "base_uri": "https://localhost:8080/"
        },
        "outputId": "4df9db8c-0d32-4eaa-af07-2b2c1ebc5828"
      },
      "source": [
        "c[c > 4]"
      ],
      "execution_count": null,
      "outputs": [
        {
          "output_type": "execute_result",
          "data": {
            "text/plain": [
              "array([5, 6, 7, 8])"
            ]
          },
          "metadata": {},
          "execution_count": 4
        }
      ]
    },
    {
      "cell_type": "code",
      "metadata": {
        "id": "4iBQTfEhEjMu",
        "colab": {
          "base_uri": "https://localhost:8080/"
        },
        "outputId": "67675730-cbd6-44e4-b9e2-83bd9067af4c"
      },
      "source": [],
      "execution_count": null,
      "outputs": [
        {
          "output_type": "execute_result",
          "data": {
            "text/plain": [
              "array([5, 6, 7, 8])"
            ]
          },
          "metadata": {},
          "execution_count": 36
        }
      ]
    },
    {
      "cell_type": "markdown",
      "metadata": {
        "id": "8YGZjmQ8EjMu"
      },
      "source": [
        "### Срезы / slice"
      ]
    },
    {
      "cell_type": "code",
      "metadata": {
        "id": "4xZx0_YnEV2t",
        "colab": {
          "base_uri": "https://localhost:8080/"
        },
        "outputId": "cc9b59ba-6664-4149-ca8b-ca9c53d6b48c"
      },
      "source": [
        "c[1:]"
      ],
      "execution_count": null,
      "outputs": [
        {
          "output_type": "execute_result",
          "data": {
            "text/plain": [
              "array([2, 3, 4, 5, 6, 7, 8])"
            ]
          },
          "metadata": {},
          "execution_count": 5
        }
      ]
    },
    {
      "cell_type": "code",
      "metadata": {
        "id": "Zm6ArqsOEV2y",
        "colab": {
          "base_uri": "https://localhost:8080/"
        },
        "outputId": "55d3a453-51d6-43c5-ed38-3e65aee25a2d"
      },
      "source": [
        "c[:1]"
      ],
      "execution_count": null,
      "outputs": [
        {
          "output_type": "execute_result",
          "data": {
            "text/plain": [
              "array([1])"
            ]
          },
          "metadata": {},
          "execution_count": 38
        }
      ]
    },
    {
      "cell_type": "code",
      "metadata": {
        "id": "lX45J-hREjMv",
        "colab": {
          "base_uri": "https://localhost:8080/"
        },
        "outputId": "450961df-e58b-4726-c5c0-eebc4a57ad2d"
      },
      "source": [
        "c[2:4]"
      ],
      "execution_count": null,
      "outputs": [
        {
          "output_type": "execute_result",
          "data": {
            "text/plain": [
              "array([3, 4])"
            ]
          },
          "metadata": {},
          "execution_count": 39
        }
      ]
    },
    {
      "cell_type": "code",
      "metadata": {
        "id": "AabQeNsUEjMv",
        "colab": {
          "base_uri": "https://localhost:8080/"
        },
        "outputId": "258c28a6-fda1-4936-9828-cf54463c90f6"
      },
      "source": [
        "c[::-1]\n"
      ],
      "execution_count": null,
      "outputs": [
        {
          "output_type": "execute_result",
          "data": {
            "text/plain": [
              "array([8, 7, 6, 5, 4, 3, 2, 1])"
            ]
          },
          "metadata": {},
          "execution_count": 6
        }
      ]
    },
    {
      "cell_type": "markdown",
      "metadata": {
        "id": "q2X0vMU4EjMv"
      },
      "source": [
        "## Вектор случайных значений"
      ]
    },
    {
      "cell_type": "code",
      "metadata": {
        "id": "ifq57i2dEjMv",
        "colab": {
          "base_uri": "https://localhost:8080/"
        },
        "outputId": "1f537d35-5edf-44fb-c4c2-8cfd85fe0b0b"
      },
      "source": [
        "np.random.randint(0, 10, 8)"
      ],
      "execution_count": null,
      "outputs": [
        {
          "output_type": "execute_result",
          "data": {
            "text/plain": [
              "array([4, 7, 3, 8, 3, 1, 3, 9])"
            ]
          },
          "metadata": {},
          "execution_count": 7
        }
      ]
    },
    {
      "cell_type": "code",
      "metadata": {
        "id": "BoLVrsjzEjMv",
        "colab": {
          "base_uri": "https://localhost:8080/"
        },
        "outputId": "87221197-e4bf-4f40-f272-4fc5b76c1a34"
      },
      "source": [
        "np.random.randint(0, 10, (2, 8))"
      ],
      "execution_count": null,
      "outputs": [
        {
          "output_type": "execute_result",
          "data": {
            "text/plain": [
              "array([[5, 8, 3, 0, 6, 3, 4, 8],\n",
              "       [6, 6, 5, 5, 5, 1, 1, 6]])"
            ]
          },
          "metadata": {},
          "execution_count": 10
        }
      ]
    },
    {
      "cell_type": "markdown",
      "metadata": {
        "id": "nsTCoIyQEV3e"
      },
      "source": [
        "## Зачем?\n",
        "\n",
        "Зачем необходимо использовать NumPy, если существуют стандартные списки/кортежи и циклы?\n",
        "\n",
        "Причина заключается в скорости работы. Попробуем посчитать сумму поэлементых произведений 2 больших векторов:"
      ]
    },
    {
      "cell_type": "code",
      "metadata": {
        "id": "vDE4JyGqEjMw"
      },
      "source": [
        "s1 = np.random.randint(0, 20, 10000000)\n",
        "s2 = np.random.randint(0, 20, 10000000)"
      ],
      "execution_count": null,
      "outputs": []
    },
    {
      "cell_type": "code",
      "metadata": {
        "id": "fl-6ZGlwEjMw"
      },
      "source": [
        "import time\n",
        "t1 = time.time()\n",
        "s1 * s2\n",
        "t1 = time.time() - t1"
      ],
      "execution_count": null,
      "outputs": []
    },
    {
      "cell_type": "code",
      "metadata": {
        "id": "-JO2W7wTEjMw"
      },
      "source": [
        "from random import randint\n",
        "s3 = [randint(0, 20) for i in range(10000000)]\n",
        "s4 = [randint(0, 20) for i in range(10000000)]\n",
        "t2 = time.time()\n",
        "for i in range(len(s3)):\n",
        "  s3[i] *= s4[i]\n",
        "t2 = time.time() - t2"
      ],
      "execution_count": null,
      "outputs": []
    },
    {
      "cell_type": "code",
      "metadata": {
        "id": "BRY-uTNYEjMw",
        "colab": {
          "base_uri": "https://localhost:8080/"
        },
        "outputId": "226620a8-010b-488c-fb48-422e508d4e91"
      },
      "source": [
        "t2 / t1"
      ],
      "execution_count": null,
      "outputs": [
        {
          "output_type": "execute_result",
          "data": {
            "text/plain": [
              "43.44129527512864"
            ]
          },
          "metadata": {},
          "execution_count": 21
        }
      ]
    }
  ]
}