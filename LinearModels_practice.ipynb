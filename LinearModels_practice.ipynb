{
  "cells": [
    {
      "cell_type": "markdown",
      "metadata": {
        "id": "view-in-github",
        "colab_type": "text"
      },
      "source": [
        "<a href=\"https://colab.research.google.com/github/Krahjotdaan/MachineLearning/blob/main/LinearModels_practice.ipynb\" target=\"_parent\"><img src=\"https://colab.research.google.com/assets/colab-badge.svg\" alt=\"Open In Colab\"/></a>"
      ]
    },
    {
      "cell_type": "markdown",
      "metadata": {
        "id": "U-TvLCYXte2C"
      },
      "source": [
        "# ЛИНЕЙНЫЕ МОДЕЛИ ДЛЯ ЗАДАЧ РЕГРЕССИИ"
      ]
    },
    {
      "cell_type": "markdown",
      "metadata": {
        "id": "aLxWh8mkte2F"
      },
      "source": [
        "# Самостоятельная практика по линейным моделям для задачи регрессии\n",
        "\n",
        "Мы поработаем с данными о сообществах в США. Описание датасета:\n",
        "\n",
        "http://archive.ics.uci.edu/ml/datasets/communities+and+crime\n",
        "\n",
        "Датасет **crimedata** (в формате .csv)\n",
        "\n",
        "Будем предсказывать количество насильственных преступлений относительно численности населения."
      ]
    },
    {
      "cell_type": "code",
      "source": [
        "import numpy as np\n",
        "import pandas as pd\n",
        "import matplotlib.pyplot as plt\n",
        "from sklearn.linear_model import LinearRegression, Ridge, Lasso\n",
        "from sklearn.metrics import r2_score, mean_squared_error\n",
        "from sklearn.model_selection import train_test_split, cross_val_score"
      ],
      "metadata": {
        "id": "g6rJTW_5yET3"
      },
      "execution_count": null,
      "outputs": []
    },
    {
      "cell_type": "code",
      "execution_count": null,
      "metadata": {
        "id": "gp9h4ATWte2G"
      },
      "outputs": [],
      "source": [
        "data = pd.read_csv('crimedata.csv', na_values=[\"?\"])\n",
        "\n",
        "# оставим только необходимые признаки\n",
        "requiredColumns = [5, 6] + list(range(11,26)) + list(range(32, 103)) + [145]\n",
        "data = data[data.columns[requiredColumns]]\n",
        "\n",
        "# некоторые значения целевой переменной пропущены,\n",
        "# возьмем только те объекты, в которых y существует\n",
        "X = data.loc[data['ViolentCrimesPerPop'].notnull(), :].drop('ViolentCrimesPerPop', axis=1)\n",
        "y = data['ViolentCrimesPerPop'][X.index]\n",
        "\n",
        "X.head()"
      ]
    },
    {
      "cell_type": "code",
      "execution_count": null,
      "metadata": {
        "id": "Ik3lyIwzte2H"
      },
      "outputs": [],
      "source": [
        "# Разобъем выборку на train и test\n",
        "X_train, X_test, y_train, y_test = train_test_split(X, y, test_size=0.33, random_state=0)"
      ]
    },
    {
      "cell_type": "markdown",
      "metadata": {
        "id": "wgg1zZTNte2I"
      },
      "source": [
        "### Задание 1. Простейшая регрессия.\n",
        "\n",
        "* Обучите стаднартную линейную регрессию на тренировочной выборке (sklearn.linear_model.LinearRegression)\n",
        "\n",
        "* Предскажите значения для X_train, X_test. Посчитайте метрики r2_score и MSE для них."
      ]
    },
    {
      "cell_type": "code",
      "execution_count": null,
      "metadata": {
        "colab": {
          "base_uri": "https://localhost:8080/"
        },
        "id": "lxkNGvD5te2I",
        "outputId": "72187e6f-f0f7-447d-e87c-44f53a95a0b7"
      },
      "outputs": [
        {
          "output_type": "stream",
          "name": "stdout",
          "text": [
            "Train:  349.69284765904166 0.5249004102969663\n",
            "Test:  408.0747344515245 0.4628732137470942\n"
          ]
        }
      ],
      "source": [
        "lr = LinearRegression().fit(X_train, y_train)\n",
        "\n",
        "y_pred_train = lr.predict(X_train)\n",
        "y_pred_test = lr.predict(X_test)\n",
        "\n",
        "print('Train: ', mean_squared_error(y_pred_train, y_train) ** 0.5, r2_score(y_pred_train, y_train))\n",
        "print('Test: ', mean_squared_error(y_pred_test, y_test) ** 0.5, r2_score(y_pred_test, y_test))"
      ]
    },
    {
      "cell_type": "markdown",
      "metadata": {
        "id": "SYQ8O_tote2I"
      },
      "source": [
        "### Задание 2. Регуляризация.\n",
        "\n",
        "* Обучите Ridge-регрессию (sklearn.linear_model.Ridge) на обучающей выборке с alpha = 5.\n",
        "\n",
        "* Предскажите значения и посчитайте метрики r2_score и mse.\n",
        "\n",
        "* Изменилось ли качество ? Как ?"
      ]
    },
    {
      "cell_type": "code",
      "execution_count": null,
      "metadata": {
        "colab": {
          "base_uri": "https://localhost:8080/"
        },
        "id": "_NLdzPb4te2J",
        "outputId": "5fc93ba1-19b2-4a69-9674-459f2026abdf"
      },
      "outputs": [
        {
          "output_type": "stream",
          "name": "stdout",
          "text": [
            "Train:  350.4190665274027 0.5207213160830841\n",
            "Test:  407.6491097985911 0.4627593185986346\n"
          ]
        }
      ],
      "source": [
        "lr = Ridge(5).fit(X_train, y_train)\n",
        "\n",
        "y_pred_train = lr.predict(X_train)\n",
        "y_pred_test = lr.predict(X_test)\n",
        "\n",
        "print('Train: ', mean_squared_error(y_pred_train, y_train) ** 0.5, r2_score(y_pred_train, y_train))\n",
        "print('Test: ', mean_squared_error(y_pred_test, y_test) ** 0.5, r2_score(y_pred_test, y_test))"
      ]
    },
    {
      "cell_type": "markdown",
      "metadata": {
        "id": "KjOUZctyte2J"
      },
      "source": [
        "### Задание 3. Масштабирование.\n",
        "\n",
        "* Отмасштабируйте выборку с помощью sklearn.\n",
        "* Проверьте, изменилось ли качество Ridge и обычной регрессии после масштабирования."
      ]
    },
    {
      "cell_type": "code",
      "execution_count": null,
      "metadata": {
        "id": "F2xXJj1jte2J"
      },
      "outputs": [],
      "source": [
        "from sklearn.preprocessing import MinMaxScaler\n",
        "\n",
        "sc = MinMaxScaler()\n",
        "X_train_scaled = pd.DataFrame(data=sc.fit_transform(X_train), columns=X_train.columns)\n",
        "X_test_scaled = pd.DataFrame(data=sc.transform(X_test), columns=X_test.columns)"
      ]
    },
    {
      "cell_type": "code",
      "execution_count": null,
      "metadata": {
        "colab": {
          "base_uri": "https://localhost:8080/"
        },
        "id": "MoIB3GvKte2J",
        "outputId": "83ca2f79-b2fb-4a2f-86cb-c7cbce81d0b7"
      },
      "outputs": [
        {
          "output_type": "stream",
          "name": "stdout",
          "text": [
            "Train:  349.7586740205084 0.5248972576977219\n",
            "Test:  407.27673402025226 0.46472253185087786\n"
          ]
        }
      ],
      "source": [
        "lr = LinearRegression().fit(X_train_scaled, y_train)\n",
        "\n",
        "y_pred_train = lr.predict(X_train_scaled)\n",
        "y_pred_test = lr.predict(X_test_scaled)\n",
        "\n",
        "print('Train: ', mean_squared_error(y_pred_train, y_train) ** 0.5, r2_score(y_pred_train, y_train))\n",
        "print('Test: ', mean_squared_error(y_pred_test, y_test) ** 0.5, r2_score(y_pred_test, y_test))"
      ]
    },
    {
      "cell_type": "code",
      "source": [
        "lr = Ridge(5).fit(X_train_scaled, y_train)\n",
        "\n",
        "y_pred_train = lr.predict(X_train_scaled)\n",
        "y_pred_test = lr.predict(X_test_scaled)\n",
        "\n",
        "print('Train: ', mean_squared_error(y_pred_train, y_train) ** 0.5, r2_score(y_pred_train, y_train))\n",
        "print('Test: ', mean_squared_error(y_pred_test, y_test) ** 0.5, r2_score(y_pred_test, y_test))"
      ],
      "metadata": {
        "colab": {
          "base_uri": "https://localhost:8080/"
        },
        "id": "c_fW_G9q6fxr",
        "outputId": "26e3cfb2-c8f0-4c34-c098-62477e4d79ff"
      },
      "execution_count": null,
      "outputs": [
        {
          "output_type": "stream",
          "name": "stdout",
          "text": [
            "Train:  367.0427492804912 0.4005168559985931\n",
            "Test:  389.05827199084376 0.3901709329600833\n"
          ]
        }
      ]
    },
    {
      "cell_type": "markdown",
      "metadata": {
        "id": "bkva0Wytte2K"
      },
      "source": [
        "### Задание 4. Выбираем features.\n",
        "\n",
        "* Проверьте, нужны ли нам признаки у которых маленькая дисперсия ?\n",
        "Для этого оцените качество, если убрать из выборки признаки с дисперсией меньше 0.01\n",
        "\n",
        "Для этого есть замечательный класс sklearn.feature_selection.VarianceThreshold."
      ]
    },
    {
      "cell_type": "code",
      "execution_count": null,
      "metadata": {
        "id": "fDw1T1gLte2K"
      },
      "outputs": [],
      "source": [
        "from sklearn.feature_selection import VarianceThreshold\n",
        "\n",
        "# убираем все признаки, у которых дисперсия меньше < 0.01\n",
        "\n",
        "vs_transformer = VarianceThreshold(0.01)\n",
        "\n",
        "X_train_var = pd.DataFrame(data=vs_transformer.fit_transform(X_train_scaled),\n",
        "                           columns=X_train_scaled.columns[vs_transformer.get_support()])\n",
        "X_test_var = pd.DataFrame(data=vs_transformer.transform(X_test_scaled),\n",
        "                          columns=X_test_scaled.columns[vs_transformer.get_support()])"
      ]
    },
    {
      "cell_type": "code",
      "execution_count": null,
      "metadata": {
        "colab": {
          "base_uri": "https://localhost:8080/"
        },
        "id": "fHnhpQpJte2L",
        "outputId": "dab0dffb-44a5-4084-dbb0-b53e317b13e7"
      },
      "outputs": [
        {
          "output_type": "stream",
          "name": "stdout",
          "text": [
            "Train:  357.4825189768171 0.49263965740226745\n",
            "Test:  375.6775183410547 0.42849471676558915\n"
          ]
        }
      ],
      "source": [
        "lr = LinearRegression().fit(X_train_var, y_train)\n",
        "\n",
        "y_pred_train = lr.predict(X_train_var)\n",
        "y_pred_test = lr.predict(X_test_var)\n",
        "\n",
        "print('Train: ', mean_squared_error(y_pred_train, y_train) ** 0.5, r2_score(y_pred_train, y_train))\n",
        "print('Test: ', mean_squared_error(y_pred_test, y_test) ** 0.5, r2_score(y_pred_test, y_test))"
      ]
    },
    {
      "cell_type": "code",
      "source": [
        "lr = Ridge(5).fit(X_train_var, y_train)\n",
        "\n",
        "y_pred_train = lr.predict(X_train_var)\n",
        "y_pred_test = lr.predict(X_test_var)\n",
        "\n",
        "print('Train: ', mean_squared_error(y_pred_train, y_train) ** 0.5, r2_score(y_pred_train, y_train))\n",
        "print('Test: ', mean_squared_error(y_pred_test, y_test) ** 0.5, r2_score(y_pred_test, y_test))"
      ],
      "metadata": {
        "colab": {
          "base_uri": "https://localhost:8080/"
        },
        "id": "HbTGxTUn6yMW",
        "outputId": "9b21ed61-d3aa-4441-a7cd-124ae6a426b9"
      },
      "execution_count": null,
      "outputs": [
        {
          "output_type": "stream",
          "name": "stdout",
          "text": [
            "Train:  373.04396655112294 0.3696871561573697\n",
            "Test:  378.63050886921644 0.32612141442279363\n"
          ]
        }
      ]
    },
    {
      "cell_type": "markdown",
      "metadata": {
        "id": "IXxHOVwtte2L"
      },
      "source": [
        "### Задание 5. Lasso как способ нахождения хороших признаков.\n",
        "\n",
        "* Давайте обучим Lasso и найдем самые значимые признаки с точки зрения данной модели регрессии.\n",
        "\n",
        "* Покажите, какие признаки ушли, попробуйте разные alpha, чтобы убрать больше коофициентов.\n",
        "\n",
        "* Сравните качество!"
      ]
    },
    {
      "cell_type": "code",
      "execution_count": null,
      "metadata": {
        "colab": {
          "base_uri": "https://localhost:8080/"
        },
        "id": "dLmncKwote2L",
        "outputId": "0b2cd5cc-08ed-4ffd-e389-4a2f8198d341"
      },
      "outputs": [
        {
          "output_type": "stream",
          "name": "stdout",
          "text": [
            "Train:  349.953568641173 0.5234860320076624\n",
            "Test:  408.0742677644148 0.46262366515586073\n"
          ]
        },
        {
          "output_type": "stream",
          "name": "stderr",
          "text": [
            "/usr/local/lib/python3.10/dist-packages/sklearn/linear_model/_coordinate_descent.py:631: ConvergenceWarning: Objective did not converge. You might want to increase the number of iterations, check the scale of the features or consider increasing regularisation. Duality gap: 8.175e+07, tolerance: 5.069e+04\n",
            "  model = cd_fast.enet_coordinate_descent(\n"
          ]
        }
      ],
      "source": [
        "lr = Lasso(0.0001).fit(X_train, y_train)\n",
        "\n",
        "y_pred_train = lr.predict(X_train)\n",
        "y_pred_test = lr.predict(X_test)\n",
        "\n",
        "print('Train: ', mean_squared_error(y_pred_train, y_train) ** 0.5, r2_score(y_pred_train, y_train))\n",
        "print('Test: ', mean_squared_error(y_pred_test, y_test) ** 0.5, r2_score(y_pred_test, y_test))"
      ]
    },
    {
      "cell_type": "code",
      "source": [
        "list(zip(X.columns, lr.coef_))"
      ],
      "metadata": {
        "colab": {
          "base_uri": "https://localhost:8080/"
        },
        "id": "jyJdDntv7fzX",
        "outputId": "9144e573-bd3c-4c3d-aa28-4263fa489410"
      },
      "execution_count": null,
      "outputs": [
        {
          "output_type": "execute_result",
          "data": {
            "text/plain": [
              "[('population', 0.0001881568116846154),\n",
              " ('householdsize', -110.6271215173407),\n",
              " ('agePct12t21', 15.468732376517188),\n",
              " ('agePct12t29', -33.49312158945201),\n",
              " ('agePct16t24', -1.7910769803845674),\n",
              " ('agePct65up', -15.874458571069953),\n",
              " ('numbUrban', -0.0014701026009623479),\n",
              " ('pctUrban', 1.3470342365158905),\n",
              " ('medIncome', -0.012022918293698063),\n",
              " ('pctWWage', -6.79455694870038),\n",
              " ('pctWFarmSelf', 22.262853120892405),\n",
              " ('pctWInvInc', -5.13709535624599),\n",
              " ('pctWSocSec', 9.759380112387143),\n",
              " ('pctWPubAsst', -2.9918859682949033),\n",
              " ('pctWRetire', -7.403574125521583),\n",
              " ('medFamInc', 0.009001317154819253),\n",
              " ('perCapInc', 0.0033769631204070916),\n",
              " ('NumUnderPov', 0.007864284754829247),\n",
              " ('PctPopUnderPov', -3.8644535564639657),\n",
              " ('PctLess9thGrade', -16.28267674876414),\n",
              " ('PctNotHSGrad', 9.050920061787528),\n",
              " ('PctBSorMore', -2.2134369292542213),\n",
              " ('PctUnemployed', 1.0334004645327313),\n",
              " ('PctEmploy', 8.634477230802958),\n",
              " ('PctEmplManu', -3.9233238262625068),\n",
              " ('PctEmplProfServ', -2.333163728778412),\n",
              " ('PctOccupManu', 5.165167807924383),\n",
              " ('PctOccupMgmtProf', 9.643367295548495),\n",
              " ('MalePctDivorce', 60.987666799742875),\n",
              " ('MalePctNevMarr', 13.467872030355357),\n",
              " ('FemalePctDiv', 30.414729709600397),\n",
              " ('TotalPctDiv', -95.28601893361194),\n",
              " ('PersPerFam', -95.34102612042648),\n",
              " ('PctFam2Par', -0.996235334891004),\n",
              " ('PctKids2Par', -23.961739949487917),\n",
              " ('PctYoungKids2Par', 4.980546466356951),\n",
              " ('PctTeen2Par', 1.1747008909465073),\n",
              " ('PctWorkMomYoungKids', 4.666900518176697),\n",
              " ('PctWorkMom', -11.608411716562559),\n",
              " ('NumKidsBornNeverMar', -0.012865379310854286),\n",
              " ('PctKidsBornNeverMar', 47.360319982410786),\n",
              " ('NumImmig', -0.0002326094356751287),\n",
              " ('PctImmigRecent', 0.15584595339125185),\n",
              " ('PctImmigRec5', 2.064190776602283),\n",
              " ('PctImmigRec8', -3.250988575814824),\n",
              " ('PctImmigRec10', 1.9165234965107223),\n",
              " ('PctRecentImmig', 8.741714405192681),\n",
              " ('PctRecImmig5', -40.823634778970174),\n",
              " ('PctRecImmig8', 31.97508018072454),\n",
              " ('PctRecImmig10', -16.102966820387444),\n",
              " ('PctSpeakEnglOnly', -0.8430771495846283),\n",
              " ('PctNotSpeakEnglWell', -38.307218892010376),\n",
              " ('PctLargHouseFam', 14.642879363691012),\n",
              " ('PctLargHouseOccup', -45.31395182441968),\n",
              " ('PersPerOccupHous', 779.9552499092281),\n",
              " ('PersPerOwnOccHous', 35.33643654275056),\n",
              " ('PersPerRentOccHous', -346.04667560730957),\n",
              " ('PctPersOwnOccup', -30.16383707535344),\n",
              " ('PctPersDenseHous', 29.179479321325516),\n",
              " ('PctHousLess3BR', 5.379823081975703),\n",
              " ('MedNumBR', 62.787415705780624),\n",
              " ('HousVacant', 0.021385809191660277),\n",
              " ('PctHousOccup', -0.383397215851024),\n",
              " ('PctHousOwnOcc', 25.46123510699086),\n",
              " ('PctVacantBoarded', 12.558193034016082),\n",
              " ('PctVacMore6Mos', -2.1430338688662647),\n",
              " ('MedYrHousBuilt', 1.7332376495350323),\n",
              " ('PctHousNoPhone', 4.777044536218765),\n",
              " ('PctWOFullPlumb', -34.682618717984774),\n",
              " ('OwnOccLowQuart', -0.00036295683314060295),\n",
              " ('OwnOccMedVal', 0.000488569798276541),\n",
              " ('OwnOccHiQuart', -0.00044873267180658744),\n",
              " ('OwnOccQrange', -0.0001297861029831353),\n",
              " ('RentLowQ', -1.3733804636976203),\n",
              " ('RentMedian', -0.5961733867283546),\n",
              " ('RentHighQ', 0.35535954424600935),\n",
              " ('RentQrange', -0.6568836315937818),\n",
              " ('MedRent', 1.4994225565862163),\n",
              " ('MedRentPctHousInc', -0.16228412006571033),\n",
              " ('MedOwnCostPctInc', 6.284860063545035),\n",
              " ('MedOwnCostPctIncNoMtg', -39.84180335484134),\n",
              " ('NumInShelters', 0.19558996692013533),\n",
              " ('NumStreet', 0.18731291179182688),\n",
              " ('PctForeignBorn', 15.190423428805227),\n",
              " ('PctBornSameState', 0.5287623729208318),\n",
              " ('PctSameHouse85', 1.1186404697245855),\n",
              " ('PctSameCity85', -0.40681992572386405),\n",
              " ('PctSameState85', -1.639819606550504)]"
            ]
          },
          "metadata": {},
          "execution_count": 42
        }
      ]
    },
    {
      "cell_type": "code",
      "source": [],
      "metadata": {
        "id": "nls7NuF99XfS"
      },
      "execution_count": null,
      "outputs": []
    }
  ],
  "metadata": {
    "kernelspec": {
      "display_name": "Python 3",
      "language": "python",
      "name": "python3"
    },
    "language_info": {
      "codemirror_mode": {
        "name": "ipython",
        "version": 3
      },
      "file_extension": ".py",
      "mimetype": "text/x-python",
      "name": "python",
      "nbconvert_exporter": "python",
      "pygments_lexer": "ipython3",
      "version": "3.8.5"
    },
    "colab": {
      "provenance": [],
      "include_colab_link": true
    }
  },
  "nbformat": 4,
  "nbformat_minor": 0
}