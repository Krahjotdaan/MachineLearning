{
  "cells": [
    {
      "cell_type": "markdown",
      "metadata": {
        "id": "view-in-github",
        "colab_type": "text"
      },
      "source": [
        "<a href=\"https://colab.research.google.com/github/Krahjotdaan/MachineLearning/blob/main/DecisionTree_implementation.ipynb\" target=\"_parent\"><img src=\"https://colab.research.google.com/assets/colab-badge.svg\" alt=\"Open In Colab\"/></a>"
      ]
    },
    {
      "cell_type": "markdown",
      "metadata": {
        "id": "J81Bu3n3yfM1"
      },
      "source": [
        "# ПРАКТИКА - решающее дерево своими руками"
      ]
    },
    {
      "cell_type": "code",
      "execution_count": null,
      "metadata": {
        "id": "x0DVzvcFyfM5"
      },
      "outputs": [],
      "source": [
        "import numpy as np\n",
        "import pandas as pd\n",
        "\n",
        "import math\n",
        "from collections import Counter\n",
        "\n",
        "from sklearn.datasets import load_iris\n",
        "from sklearn.metrics import accuracy_score"
      ]
    },
    {
      "cell_type": "markdown",
      "metadata": {
        "id": "aOJ1iFTIyfM8"
      },
      "source": [
        "## ШАГ 1\n",
        "Реализуйте класс для вершины дерева.\n",
        "- вам потребуются атрибуты :\n",
        "    - левое и правое поддеревья\n",
        "    - признак, по которому идет разбиение, и его пороговое значение\n",
        "    - ответ для листовой вершины\n",
        "- вам потребуются методы :\n",
        "    - вычисления информационного критерия (энтропии)\n",
        "    - вычисления фунции потерь\n",
        "    - определения останова\n",
        "    - обучения вершины дерева\n",
        "\n",
        "**Полезно будет вспомнить рекурсию!**\n",
        "\n",
        "Энтропийный критерий вычисляется по формуле\n",
        "$$H(X)=-\\sum_{k=1}^{K}p_k \\log p_k$$\n",
        "где $p_k=\\frac{1}{|X|}\\sum[y_i=k]$\n",
        "\n",
        "Обучение состоит в поиске такого признака j и его порогового значения t, которые максимизируют функционал\n",
        "\n",
        "$$Q(X, j, t) = H(X) - \\frac{|X_l|}{|X|}H(X_l) - \\frac{|X_r|}{|X|}H(X_r)$$\n",
        "и дальнейшем разбиении X на вершины $X_l$ и  $X_r$"
      ]
    },
    {
      "cell_type": "code",
      "execution_count": null,
      "metadata": {
        "id": "q5ob-2cpyfM9"
      },
      "outputs": [],
      "source": [
        "class Node:\n",
        "    def __init__(self):\n",
        "        self.l = None #левое мн-во\n",
        "        self.r = None #правое мн-во\n",
        "        self.threshold = -1 #порог\n",
        "        self.feature = None #признак разбиения\n",
        "        self.answer = None #предсказание\n",
        "\n",
        "    def H(self, X):\n",
        "        # ЭНТРОПИЯ\n",
        "        c = Counter(X)\n",
        "        s = 0\n",
        "\n",
        "        for v in c.values():\n",
        "          p = v / len(X)\n",
        "          s += math.log(p) * p\n",
        "\n",
        "        return -s\n",
        "\n",
        "\n",
        "    def Q(self, X, Xl, Xr):\n",
        "        # ФУНКЦИЯ ПОТЕРЬ\n",
        "        return self.H(X) - len(Xl) / len(X) * self.H(Xl) - len(Xr) / len(X) * self.H(Xr)\n",
        "\n",
        "\n",
        "    def is_stop(self, y):\n",
        "        return len(Counter(y).keys()) <= 1\n",
        "\n",
        "    def fit(self, X, y):\n",
        "        if self.is_stop(y):\n",
        "          self.answer = Counter(y).most_common()[0][0]\n",
        "          return\n",
        "\n",
        "        max_q = -1\n",
        "        max_feature = None\n",
        "        max_threshold = -1\n",
        "\n",
        "        for feature in X.columns:\n",
        "          for v in np.unique(X[feature].values):\n",
        "            left_cond = X[feature] <= v\n",
        "            right_cond = X[feature] > v\n",
        "\n",
        "            q = self.Q(y, y[left_cond], y[right_cond])\n",
        "\n",
        "            if q >= max_q:\n",
        "              max_q = q\n",
        "              max_feature = feature\n",
        "              max_threshold = v\n",
        "\n",
        "        self.feature = max_feature\n",
        "        self.threshold = max_threshold\n",
        "\n",
        "        print(self.feature, self.threshold)\n",
        "\n",
        "        self.l = Node()\n",
        "        self.r = Node()\n",
        "\n",
        "        left_cond = X[self.feature] <= self.threshold\n",
        "        right_cond = X[self.feature] > self.threshold\n",
        "\n",
        "        self.l.fit(X[left_cond], y[left_cond])\n",
        "        self.r.fit(X[right_cond], y[right_cond])"
      ]
    },
    {
      "cell_type": "markdown",
      "metadata": {
        "id": "reXP4OT9yfM-"
      },
      "source": [
        "### Проверьте работу вашего класса:"
      ]
    },
    {
      "cell_type": "code",
      "execution_count": null,
      "metadata": {
        "colab": {
          "base_uri": "https://localhost:8080/"
        },
        "id": "6uocP_KayfM_",
        "outputId": "c971931a-d023-4411-97a0-0a0d33dbf591"
      },
      "outputs": [
        {
          "output_type": "stream",
          "name": "stdout",
          "text": [
            "petal width (cm) 0.6\n"
          ]
        }
      ],
      "source": [
        "iris = load_iris()\n",
        "df = pd.DataFrame(data=np.c_[iris['data'], iris['target']],\n",
        "                  columns=iris['feature_names'] + ['target'])\n",
        "df_bin = df[df['target'] < 2]\n",
        "y = df_bin['target']\n",
        "X = df_bin.drop(columns=['target'])\n",
        "n = Node()\n",
        "n.fit(X, y)"
      ]
    },
    {
      "cell_type": "markdown",
      "metadata": {
        "id": "y8JhFWUZyfM_"
      },
      "source": [
        "## ШАГ 2\n",
        "Реализуйте класс для решающего дерева.\n",
        "- вам потребуются атрибуты :\n",
        "    - корень дерева\n",
        "- вам потребуются методы :\n",
        "    - обучение дерева\n",
        "    - вычисление прогноза\n",
        "    - вывод информации о дереве (ответ листовой вершины, признак и порог вершины)"
      ]
    },
    {
      "cell_type": "code",
      "execution_count": null,
      "metadata": {
        "id": "RXo4ubXMyfNA"
      },
      "outputs": [],
      "source": [
        "class DecisionTree:\n",
        "    def __init__(self):\n",
        "        # your code here\n",
        "\n",
        "    def fit(self, X, y):\n",
        "        # your code here\n",
        "\n",
        "    def predict(self, X):\n",
        "        # your code here\n",
        "\n",
        "    def print_conditions(self):\n",
        "        # your code here\n"
      ]
    },
    {
      "cell_type": "markdown",
      "metadata": {
        "id": "8LKIamHByfNB"
      },
      "source": [
        "### Проверьте работу вашего класса:"
      ]
    },
    {
      "cell_type": "code",
      "execution_count": null,
      "metadata": {
        "id": "-hqIHkOmyfNC"
      },
      "outputs": [],
      "source": [
        "iris = load_iris()\n",
        "df = pd.DataFrame(data=np.c_[iris['data'], iris['target']],\n",
        "                  columns=iris['feature_names'] + ['target'])\n",
        "\n",
        "y = df['target']\n",
        "X = df.drop(columns=['target'])\n",
        "\n",
        "dt = DecisionTree()\n",
        "dt.fit(X, y)\n",
        "dt.print_conditions()\n",
        "y_pred = dt.predict(X)\n",
        "\n",
        "print(len(y), len(y_pred), len(X))\n",
        "print(accuracy_score(y, y_pred))"
      ]
    },
    {
      "cell_type": "code",
      "execution_count": null,
      "metadata": {
        "id": "f5o0Fu2ryfND"
      },
      "outputs": [],
      "source": []
    }
  ],
  "metadata": {
    "kernelspec": {
      "display_name": "ml",
      "language": "python",
      "name": "ml"
    },
    "language_info": {
      "codemirror_mode": {
        "name": "ipython",
        "version": 3
      },
      "file_extension": ".py",
      "mimetype": "text/x-python",
      "name": "python",
      "nbconvert_exporter": "python",
      "pygments_lexer": "ipython3",
      "version": "3.7.9"
    },
    "colab": {
      "provenance": [],
      "include_colab_link": true
    }
  },
  "nbformat": 4,
  "nbformat_minor": 0
}