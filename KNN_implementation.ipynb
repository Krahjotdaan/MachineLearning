{
  "cells": [
    {
      "cell_type": "markdown",
      "metadata": {
        "id": "view-in-github",
        "colab_type": "text"
      },
      "source": [
        "<a href=\"https://colab.research.google.com/github/Krahjotdaan/MachineLearning/blob/main/KNN_implementation.ipynb\" target=\"_parent\"><img src=\"https://colab.research.google.com/assets/colab-badge.svg\" alt=\"Open In Colab\"/></a>"
      ]
    },
    {
      "cell_type": "markdown",
      "metadata": {
        "id": "FfCOcpN3IpD4"
      },
      "source": [
        "# Реализуем классификатор методом ближайших соседей"
      ]
    },
    {
      "cell_type": "markdown",
      "metadata": {
        "id": "zTt5LStlIpEB"
      },
      "source": [
        "# Практика\n",
        "## Задание 0\n",
        "Реализуйте классификатор по приведенному шаблону"
      ]
    },
    {
      "cell_type": "code",
      "execution_count": null,
      "metadata": {
        "id": "BW0CUXHzIpED"
      },
      "outputs": [],
      "source": [
        "import numpy as np\n",
        "import pandas as pd\n",
        "from math import sqrt\n",
        "import matplotlib.pyplot as plt\n",
        "from collections import Counter"
      ]
    },
    {
      "cell_type": "code",
      "execution_count": null,
      "metadata": {
        "id": "-iM8nWWfIpEF"
      },
      "outputs": [],
      "source": [
        "def calc_distance(a, b):\n",
        "    return sqrt(sum((a - b) ** 2))"
      ]
    },
    {
      "cell_type": "markdown",
      "metadata": {
        "id": "XyzZNNOiIpEF"
      },
      "source": [
        "Функция должна возвращать Евклидово расстояние между двумя точками в N-мерном пространстве(ее можно скопировать из работы по numpy)"
      ]
    },
    {
      "cell_type": "code",
      "execution_count": null,
      "metadata": {
        "id": "nnjv2YS4IpEG"
      },
      "outputs": [],
      "source": [
        "class KnnClassificator:\n",
        "\n",
        "    def __init__(self, k):\n",
        "        self.k = k\n",
        "        self.X = []\n",
        "        self.y = []\n",
        "\n",
        "    # обучение модели\n",
        "    def fit(self, X, y):\n",
        "        self.X = X\n",
        "        self.y = y\n",
        "\n",
        "    # предсказание значения для нового объекта\n",
        "    def predict(self, x_new):\n",
        "        result = []\n",
        "        for i, x in enumerate(self.X):\n",
        "          dist = calc_distance(x, x_new)\n",
        "          result.append({'dist': dist, 'class': self.y[i]})\n",
        "        result = sorted(result, key = lambda x: x['dist'])\n",
        "        k_nearest = result[:self.k]\n",
        "\n",
        "        return Counter([obj['class'] for obj in k_nearest]).most_common()[0][0]"
      ]
    },
    {
      "cell_type": "markdown",
      "metadata": {
        "id": "ZJmIvEn9IpEG"
      },
      "source": [
        "Метод predict должен возвращать самый популярный класс среди K ближайших соседей.\n",
        "\n",
        "Подсказка: может пригодиться класс Counter из пакета collections."
      ]
    },
    {
      "cell_type": "code",
      "execution_count": null,
      "metadata": {
        "colab": {
          "base_uri": "https://localhost:8080/",
          "height": 430
        },
        "id": "llDFNEokIpEH",
        "outputId": "4ed23963-df96-49bf-e557-4b9563713270"
      },
      "outputs": [
        {
          "output_type": "display_data",
          "data": {
            "text/plain": [
              "<Figure size 640x480 with 1 Axes>"
            ],
            "image/png": "[encoded data removed]"
          },
          "metadata": {}
        }
      ],
      "source": [
        "X_t = np.array([[0, 0], [1, 0], [2,1], [3,2]])\n",
        "y_t = [0,0,1,1]\n",
        "\n",
        "plt.scatter(X_t[:, 0], X_t[:, 1], c=y_t)\n",
        "plt.scatter([2,0], [2,0.1], c='g', marker='*')\n",
        "plt.show()"
      ]
    },
    {
      "cell_type": "code",
      "execution_count": null,
      "metadata": {
        "colab": {
          "base_uri": "https://localhost:8080/"
        },
        "id": "-FKbJuicIpEI",
        "outputId": "4814886d-bb53-4d0d-a929-9e7cea6fb304"
      },
      "outputs": [
        {
          "output_type": "execute_result",
          "data": {
            "text/plain": [
              "1"
            ]
          },
          "metadata": {},
          "execution_count": 5
        }
      ],
      "source": [
        "# Проверяем\n",
        "knn = KnnClassificator(3)\n",
        "knn.fit(X_t, y_t)\n",
        "knn.predict([2, 2])\n",
        "# Вывод должен быть 1"
      ]
    },
    {
      "cell_type": "code",
      "execution_count": null,
      "metadata": {
        "colab": {
          "base_uri": "https://localhost:8080/"
        },
        "id": "8wUkyM5lIpEI",
        "outputId": "390ac9a5-7e15-4b37-a495-5aaa4ea461a3"
      },
      "outputs": [
        {
          "output_type": "execute_result",
          "data": {
            "text/plain": [
              "0"
            ]
          },
          "metadata": {},
          "execution_count": 6
        }
      ],
      "source": [
        "# Проверяем\n",
        "knn = KnnClassificator(3)\n",
        "knn.fit(X_t, y_t)\n",
        "knn.predict([0, 0.1])\n",
        "# Вывод должен быть 0"
      ]
    },
    {
      "cell_type": "markdown",
      "metadata": {
        "id": "1rGftknNIpEJ"
      },
      "source": [
        "\n",
        "## Многоклассовая классификация на четырехмерных данных"
      ]
    },
    {
      "cell_type": "code",
      "execution_count": null,
      "metadata": {
        "id": "bj9gDLahIpEJ"
      },
      "outputs": [],
      "source": [
        "X = np.array([[5.1, 3.5, 1.4, 0.2],\n",
        "       [4.9, 3. , 1.4, 0.2],\n",
        "       [4.7, 3.2, 1.3, 0.2],\n",
        "       [4.6, 3.1, 1.5, 0.2],\n",
        "       [5. , 3.6, 1.4, 0.2],\n",
        "       [5.4, 3.9, 1.7, 0.4],\n",
        "       [4.6, 3.4, 1.4, 0.3],\n",
        "       [5. , 3.4, 1.5, 0.2],\n",
        "       [4.4, 2.9, 1.4, 0.2],\n",
        "       [4.9, 3.1, 1.5, 0.1],\n",
        "       [5.4, 3.7, 1.5, 0.2],\n",
        "       [4.8, 3.4, 1.6, 0.2],\n",
        "       [4.8, 3. , 1.4, 0.1],\n",
        "       [4.3, 3. , 1.1, 0.1],\n",
        "       [5.8, 4. , 1.2, 0.2],\n",
        "       [5.7, 4.4, 1.5, 0.4],\n",
        "       [5.4, 3.9, 1.3, 0.4],\n",
        "       [5.1, 3.5, 1.4, 0.3],\n",
        "       [5.7, 3.8, 1.7, 0.3],\n",
        "       [5.1, 3.8, 1.5, 0.3],\n",
        "       [5.4, 3.4, 1.7, 0.2],\n",
        "       [5.1, 3.7, 1.5, 0.4],\n",
        "       [4.6, 3.6, 1. , 0.2],\n",
        "       [5.1, 3.3, 1.7, 0.5],\n",
        "       [4.8, 3.4, 1.9, 0.2],\n",
        "       [5. , 3. , 1.6, 0.2],\n",
        "       [5. , 3.4, 1.6, 0.4],\n",
        "       [5.2, 3.5, 1.5, 0.2],\n",
        "       [5.2, 3.4, 1.4, 0.2],\n",
        "       [4.7, 3.2, 1.6, 0.2],\n",
        "       [4.8, 3.1, 1.6, 0.2],\n",
        "       [5.4, 3.4, 1.5, 0.4],\n",
        "       [5.2, 4.1, 1.5, 0.1],\n",
        "       [5.5, 4.2, 1.4, 0.2],\n",
        "       [4.9, 3.1, 1.5, 0.1],\n",
        "       [5. , 3.2, 1.2, 0.2],\n",
        "       [5.5, 3.5, 1.3, 0.2],\n",
        "       [4.9, 3.1, 1.5, 0.1],\n",
        "       [4.4, 3. , 1.3, 0.2],\n",
        "       [5.1, 3.4, 1.5, 0.2],\n",
        "       [5. , 3.5, 1.3, 0.3],\n",
        "       [4.5, 2.3, 1.3, 0.3],\n",
        "       [4.4, 3.2, 1.3, 0.2],\n",
        "       [5. , 3.5, 1.6, 0.6],\n",
        "       [5.1, 3.8, 1.9, 0.4],\n",
        "       [4.8, 3. , 1.4, 0.3],\n",
        "       [5.1, 3.8, 1.6, 0.2],\n",
        "       [4.6, 3.2, 1.4, 0.2],\n",
        "       [5.3, 3.7, 1.5, 0.2],\n",
        "       [5. , 3.3, 1.4, 0.2],\n",
        "       [7. , 3.2, 4.7, 1.4],\n",
        "       [6.4, 3.2, 4.5, 1.5],\n",
        "       [6.9, 3.1, 4.9, 1.5],\n",
        "       [5.5, 2.3, 4. , 1.3],\n",
        "       [6.5, 2.8, 4.6, 1.5],\n",
        "       [5.7, 2.8, 4.5, 1.3],\n",
        "       [6.3, 3.3, 4.7, 1.6],\n",
        "       [4.9, 2.4, 3.3, 1. ],\n",
        "       [6.6, 2.9, 4.6, 1.3],\n",
        "       [5.2, 2.7, 3.9, 1.4],\n",
        "       [5. , 2. , 3.5, 1. ],\n",
        "       [5.9, 3. , 4.2, 1.5],\n",
        "       [6. , 2.2, 4. , 1. ],\n",
        "       [6.1, 2.9, 4.7, 1.4],\n",
        "       [5.6, 2.9, 3.6, 1.3],\n",
        "       [6.7, 3.1, 4.4, 1.4],\n",
        "       [5.6, 3. , 4.5, 1.5],\n",
        "       [5.8, 2.7, 4.1, 1. ],\n",
        "       [6.2, 2.2, 4.5, 1.5],\n",
        "       [5.6, 2.5, 3.9, 1.1],\n",
        "       [5.9, 3.2, 4.8, 1.8],\n",
        "       [6.1, 2.8, 4. , 1.3],\n",
        "       [6.3, 2.5, 4.9, 1.5],\n",
        "       [6.1, 2.8, 4.7, 1.2],\n",
        "       [6.4, 2.9, 4.3, 1.3],\n",
        "       [6.6, 3. , 4.4, 1.4],\n",
        "       [6.8, 2.8, 4.8, 1.4],\n",
        "       [6.7, 3. , 5. , 1.7],\n",
        "       [6. , 2.9, 4.5, 1.5],\n",
        "       [5.7, 2.6, 3.5, 1. ],\n",
        "       [5.5, 2.4, 3.8, 1.1],\n",
        "       [5.5, 2.4, 3.7, 1. ],\n",
        "       [5.8, 2.7, 3.9, 1.2],\n",
        "       [6. , 2.7, 5.1, 1.6],\n",
        "       [5.4, 3. , 4.5, 1.5],\n",
        "       [6. , 3.4, 4.5, 1.6],\n",
        "       [6.7, 3.1, 4.7, 1.5],\n",
        "       [6.3, 2.3, 4.4, 1.3],\n",
        "       [5.6, 3. , 4.1, 1.3],\n",
        "       [5.5, 2.5, 4. , 1.3],\n",
        "       [5.5, 2.6, 4.4, 1.2],\n",
        "       [6.1, 3. , 4.6, 1.4],\n",
        "       [5.8, 2.6, 4. , 1.2],\n",
        "       [5. , 2.3, 3.3, 1. ],\n",
        "       [5.6, 2.7, 4.2, 1.3],\n",
        "       [5.7, 3. , 4.2, 1.2],\n",
        "       [5.7, 2.9, 4.2, 1.3],\n",
        "       [6.2, 2.9, 4.3, 1.3],\n",
        "       [5.1, 2.5, 3. , 1.1],\n",
        "       [5.7, 2.8, 4.1, 1.3],\n",
        "       [6.3, 3.3, 6. , 2.5],\n",
        "       [5.8, 2.7, 5.1, 1.9],\n",
        "       [7.1, 3. , 5.9, 2.1],\n",
        "       [6.3, 2.9, 5.6, 1.8],\n",
        "       [6.5, 3. , 5.8, 2.2],\n",
        "       [7.6, 3. , 6.6, 2.1],\n",
        "       [4.9, 2.5, 4.5, 1.7],\n",
        "       [7.3, 2.9, 6.3, 1.8],\n",
        "       [6.7, 2.5, 5.8, 1.8],\n",
        "       [7.2, 3.6, 6.1, 2.5],\n",
        "       [6.5, 3.2, 5.1, 2. ],\n",
        "       [6.4, 2.7, 5.3, 1.9],\n",
        "       [6.8, 3. , 5.5, 2.1],\n",
        "       [5.7, 2.5, 5. , 2. ],\n",
        "       [5.8, 2.8, 5.1, 2.4],\n",
        "       [6.4, 3.2, 5.3, 2.3],\n",
        "       [6.5, 3. , 5.5, 1.8],\n",
        "       [7.7, 3.8, 6.7, 2.2],\n",
        "       [7.7, 2.6, 6.9, 2.3],\n",
        "       [6. , 2.2, 5. , 1.5],\n",
        "       [6.9, 3.2, 5.7, 2.3],\n",
        "       [5.6, 2.8, 4.9, 2. ],\n",
        "       [7.7, 2.8, 6.7, 2. ],\n",
        "       [6.3, 2.7, 4.9, 1.8],\n",
        "       [6.7, 3.3, 5.7, 2.1],\n",
        "       [7.2, 3.2, 6. , 1.8],\n",
        "       [6.2, 2.8, 4.8, 1.8],\n",
        "       [6.1, 3. , 4.9, 1.8],\n",
        "       [6.4, 2.8, 5.6, 2.1],\n",
        "       [7.2, 3. , 5.8, 1.6],\n",
        "       [7.4, 2.8, 6.1, 1.9],\n",
        "       [7.9, 3.8, 6.4, 2. ],\n",
        "       [6.4, 2.8, 5.6, 2.2],\n",
        "       [6.3, 2.8, 5.1, 1.5],\n",
        "       [6.1, 2.6, 5.6, 1.4],\n",
        "       [7.7, 3. , 6.1, 2.3],\n",
        "       [6.3, 3.4, 5.6, 2.4],\n",
        "       [6.4, 3.1, 5.5, 1.8],\n",
        "       [6. , 3. , 4.8, 1.8],\n",
        "       [6.9, 3.1, 5.4, 2.1],\n",
        "       [6.7, 3.1, 5.6, 2.4],\n",
        "       [6.9, 3.1, 5.1, 2.3],\n",
        "       [5.8, 2.7, 5.1, 1.9],\n",
        "       [6.8, 3.2, 5.9, 2.3],\n",
        "       [6.7, 3.3, 5.7, 2.5],\n",
        "       [6.7, 3. , 5.2, 2.3],\n",
        "       [6.3, 2.5, 5. , 1.9],\n",
        "       [6.5, 3. , 5.2, 2. ],\n",
        "       [6.2, 3.4, 5.4, 2.3],\n",
        "       [5.9, 3. , 5.1, 1.8]])\n",
        "\n",
        "Y = np.array([0, 0, 0, 0, 0, 0, 0, 0, 0, 0, 0, 0, 0, 0, 0, 0, 0, 0, 0, 0, 0, 0,\n",
        "       0, 0, 0, 0, 0, 0, 0, 0, 0, 0, 0, 0, 0, 0, 0, 0, 0, 0, 0, 0, 0, 0,\n",
        "       0, 0, 0, 0, 0, 0, 1, 1, 1, 1, 1, 1, 1, 1, 1, 1, 1, 1, 1, 1, 1, 1,\n",
        "       1, 1, 1, 1, 1, 1, 1, 1, 1, 1, 1, 1, 1, 1, 1, 1, 1, 1, 1, 1, 1, 1,\n",
        "       1, 1, 1, 1, 1, 1, 1, 1, 1, 1, 1, 1, 2, 2, 2, 2, 2, 2, 2, 2, 2, 2,\n",
        "       2, 2, 2, 2, 2, 2, 2, 2, 2, 2, 2, 2, 2, 2, 2, 2, 2, 2, 2, 2, 2, 2,\n",
        "       2, 2, 2, 2, 2, 2, 2, 2, 2, 2, 2, 2, 2, 2, 2, 2, 2, 2])"
      ]
    },
    {
      "cell_type": "code",
      "execution_count": null,
      "metadata": {
        "colab": {
          "base_uri": "https://localhost:8080/"
        },
        "id": "kLqtGf3CIpEK",
        "outputId": "89ffc00f-4e4f-450f-fea8-00a8eeb54155"
      },
      "outputs": [
        {
          "output_type": "execute_result",
          "data": {
            "text/plain": [
              "(array([5.1, 3.5, 1.4, 0.2]), 0)"
            ]
          },
          "metadata": {},
          "execution_count": 8
        }
      ],
      "source": [
        "X[0], Y[0]"
      ]
    },
    {
      "cell_type": "markdown",
      "metadata": {
        "id": "AHouj7taIpEK"
      },
      "source": [
        "## Визуализация данных"
      ]
    },
    {
      "cell_type": "code",
      "execution_count": null,
      "metadata": {
        "colab": {
          "base_uri": "https://localhost:8080/",
          "height": 452
        },
        "id": "Q8InyCRUIpEK",
        "outputId": "af7f6f37-f866-430d-d0a8-8d4c83af0631"
      },
      "outputs": [
        {
          "output_type": "display_data",
          "data": {
            "text/plain": [
              "<Figure size 640x480 with 1 Axes>"
            ],
            "image/png": "[encoded data removed]"
          },
          "metadata": {}
        }
      ],
      "source": [
        "plt.scatter(X[:, 0], X[:, 1], c=Y)\n",
        "plt.xlabel('первый признак')\n",
        "plt.ylabel('второй признак')\n",
        "plt.show()"
      ]
    },
    {
      "cell_type": "code",
      "execution_count": null,
      "metadata": {
        "id": "TqOp3NotIpEL"
      },
      "outputs": [],
      "source": [
        "plt.scatter(X[:, 2], X[:, 3], c=Y)\n",
        "plt.xlabel('третий признак')\n",
        "plt.ylabel('четвертый признак')\n",
        "plt.show()"
      ]
    },
    {
      "cell_type": "markdown",
      "metadata": {
        "id": "G2iYFZoTIpEM"
      },
      "source": [
        "### Задание 1\n",
        "Обучите классификатор с одним соседом и постройте предсказание для объекта [5,1,2,3]"
      ]
    },
    {
      "cell_type": "code",
      "execution_count": null,
      "metadata": {
        "colab": {
          "base_uri": "https://localhost:8080/"
        },
        "id": "BMGjTWbVIpEM",
        "outputId": "970bbf23-07e7-40a0-a0c3-d576a9dae74e"
      },
      "outputs": [
        {
          "output_type": "execute_result",
          "data": {
            "text/plain": [
              "1"
            ]
          },
          "metadata": {},
          "execution_count": 7
        }
      ],
      "source": [
        "knn = KnnClassificator(150)\n",
        "knn.fit(X, Y)\n",
        "knn.predict([5,1,2,3])"
      ]
    },
    {
      "cell_type": "markdown",
      "metadata": {
        "id": "SAewo_tBIpEM"
      },
      "source": [
        "### Задание 2\n",
        "\n",
        "Обучите классификатор с k = 3 на заданной выборке.\n",
        "\n",
        "Посчитайте качество с помощью метрики accuracy на этой же выборке."
      ]
    },
    {
      "cell_type": "code",
      "execution_count": null,
      "metadata": {
        "id": "CI5qSY3QIpEM",
        "colab": {
          "base_uri": "https://localhost:8080/"
        },
        "outputId": "83a4eee2-02dc-4642-beec-1e1880a527cf"
      },
      "outputs": [
        {
          "output_type": "execute_result",
          "data": {
            "text/plain": [
              "1"
            ]
          },
          "metadata": {},
          "execution_count": 8
        }
      ],
      "source": [
        "knn = KnnClassificator(3)\n",
        "knn.fit(X, Y)\n",
        "knn.predict([5,1,2,3])"
      ]
    },
    {
      "cell_type": "markdown",
      "source": [
        "Занятие 2"
      ],
      "metadata": {
        "id": "eYWP19zzLqAn"
      }
    },
    {
      "cell_type": "code",
      "source": [
        "XY = list(zip(X, Y))\n",
        "np.random.shuffle(XY)\n",
        "X_sh, y_sh = zip(*XY)"
      ],
      "metadata": {
        "id": "Y_k9byOwLneC"
      },
      "execution_count": null,
      "outputs": []
    },
    {
      "cell_type": "code",
      "source": [
        "X_train = X_sh[:int(len(X_sh) * 0.75)]\n",
        "y_train = y_sh[:int(len(y_sh) * 0.75)]\n",
        "X_test = X_sh[int(len(X_sh) * 0.75):]\n",
        "y_test = y_sh[int(len(y_sh) * 0.75):]"
      ],
      "metadata": {
        "id": "GVyFMZEWNLqT"
      },
      "execution_count": null,
      "outputs": []
    },
    {
      "cell_type": "code",
      "source": [
        "def accuracy(y_pred, y_true):\n",
        "  s = 0\n",
        "  for i in range(len(y_true)):\n",
        "    if y_pred[i] == y_true[i]:\n",
        "      s += 1\n",
        "  return s / len(y_true)"
      ],
      "metadata": {
        "id": "iMvd-O2uNfbG"
      },
      "execution_count": null,
      "outputs": []
    },
    {
      "cell_type": "code",
      "source": [
        "acc_train = []\n",
        "acc_test = []\n",
        "\n",
        "for k in range(1, 51):\n",
        "  knn = KnnClassificator(k)\n",
        "  knn.fit(X_train, y_train)\n",
        "\n",
        "  y_pr_train = [knn.predict(x) for x in X_train]\n",
        "  y_pr_test = [knn.predict(x) for x in X_test]\n",
        "\n",
        "  acc_tr = accuracy(y_pr_train, y_train)\n",
        "  acc_te = accuracy(y_pr_test, y_test)\n",
        "\n",
        "  acc_train.append(acc_tr)\n",
        "  acc_test.append(acc_te)"
      ],
      "metadata": {
        "id": "CC0qZasSPAmf"
      },
      "execution_count": null,
      "outputs": []
    },
    {
      "cell_type": "code",
      "source": [
        "x = np.arange(1, len(acc_train) + 1)\n",
        "plt.plot(x, acc_train)\n",
        "plt.plot(x, acc_test)\n",
        "plt.xlabel('knn')\n",
        "plt.ylabel('accuracy');"
      ],
      "metadata": {
        "colab": {
          "base_uri": "https://localhost:8080/",
          "height": 449
        },
        "id": "n8pCJt6HRzCG",
        "outputId": "a139fe03-25e2-42d0-ec1c-4ba899e96a2c"
      },
      "execution_count": null,
      "outputs": [
        {
          "output_type": "display_data",
          "data": {
            "text/plain": [
              "<Figure size 640x480 with 1 Axes>"
            ],
            "image/png": "[encoded data removed]"
          },
          "metadata": {}
        }
      ]
    },
    {
      "cell_type": "markdown",
      "source": [
        "Sklearn\n"
      ],
      "metadata": {
        "id": "hTOROs2dTeEp"
      }
    },
    {
      "cell_type": "code",
      "source": [
        "from sklearn.neighbors import KNeighborsClassifier\n",
        "from sklearn.model_selection import train_test_split\n",
        "from sklearn.metrics import accuracy_score"
      ],
      "metadata": {
        "id": "PWkhIElBTh_P"
      },
      "execution_count": null,
      "outputs": []
    },
    {
      "cell_type": "code",
      "source": [
        "X_train, X_test, y_train, y_test = train_test_split(X, Y, test_size=0.33, random_state=16)"
      ],
      "metadata": {
        "id": "c0dQWmduUc5s"
      },
      "execution_count": null,
      "outputs": []
    },
    {
      "cell_type": "code",
      "source": [
        "knn = KNeighborsClassifier(8)\n",
        "knn.fit(X_train, y_train)"
      ],
      "metadata": {
        "colab": {
          "base_uri": "https://localhost:8080/",
          "height": 75
        },
        "id": "cE1M5R18Urc_",
        "outputId": "a392f962-bdfd-4b5d-8bdf-d1e722a37c1a"
      },
      "execution_count": null,
      "outputs": [
        {
          "output_type": "execute_result",
          "data": {
            "text/plain": [
              "KNeighborsClassifier(n_neighbors=8)"
            ],
            "text/html": [
              "<style>#sk-container-id-4 {color: black;background-color: white;}#sk-container-id-4 pre{padding: 0;}#sk-container-id-4 div.sk-toggleable {background-color: white;}#sk-container-id-4 label.sk-toggleable__label {cursor: pointer;display: block;width: 100%;margin-bottom: 0;padding: 0.3em;box-sizing: border-box;text-align: center;}#sk-container-id-4 label.sk-toggleable__label-arrow:before {content: \"▸\";float: left;margin-right: 0.25em;color: #696969;}#sk-container-id-4 label.sk-toggleable__label-arrow:hover:before {color: black;}#sk-container-id-4 div.sk-estimator:hover label.sk-toggleable__label-arrow:before {color: black;}#sk-container-id-4 div.sk-toggleable__content {max-height: 0;max-width: 0;overflow: hidden;text-align: left;background-color: #f0f8ff;}#sk-container-id-4 div.sk-toggleable__content pre {margin: 0.2em;color: black;border-radius: 0.25em;background-color: #f0f8ff;}#sk-container-id-4 input.sk-toggleable__control:checked~div.sk-toggleable__content {max-height: 200px;max-width: 100%;overflow: auto;}#sk-container-id-4 input.sk-toggleable__control:checked~label.sk-toggleable__label-arrow:before {content: \"▾\";}#sk-container-id-4 div.sk-estimator input.sk-toggleable__control:checked~label.sk-toggleable__label {background-color: #d4ebff;}#sk-container-id-4 div.sk-label input.sk-toggleable__control:checked~label.sk-toggleable__label {background-color: #d4ebff;}#sk-container-id-4 input.sk-hidden--visually {border: 0;clip: rect(1px 1px 1px 1px);clip: rect(1px, 1px, 1px, 1px);height: 1px;margin: -1px;overflow: hidden;padding: 0;position: absolute;width: 1px;}#sk-container-id-4 div.sk-estimator {font-family: monospace;background-color: #f0f8ff;border: 1px dotted black;border-radius: 0.25em;box-sizing: border-box;margin-bottom: 0.5em;}#sk-container-id-4 div.sk-estimator:hover {background-color: #d4ebff;}#sk-container-id-4 div.sk-parallel-item::after {content: \"\";width: 100%;border-bottom: 1px solid gray;flex-grow: 1;}#sk-container-id-4 div.sk-label:hover label.sk-toggleable__label {background-color: #d4ebff;}#sk-container-id-4 div.sk-serial::before {content: \"\";position: absolute;border-left: 1px solid gray;box-sizing: border-box;top: 0;bottom: 0;left: 50%;z-index: 0;}#sk-container-id-4 div.sk-serial {display: flex;flex-direction: column;align-items: center;background-color: white;padding-right: 0.2em;padding-left: 0.2em;position: relative;}#sk-container-id-4 div.sk-item {position: relative;z-index: 1;}#sk-container-id-4 div.sk-parallel {display: flex;align-items: stretch;justify-content: center;background-color: white;position: relative;}#sk-container-id-4 div.sk-item::before, #sk-container-id-4 div.sk-parallel-item::before {content: \"\";position: absolute;border-left: 1px solid gray;box-sizing: border-box;top: 0;bottom: 0;left: 50%;z-index: -1;}#sk-container-id-4 div.sk-parallel-item {display: flex;flex-direction: column;z-index: 1;position: relative;background-color: white;}#sk-container-id-4 div.sk-parallel-item:first-child::after {align-self: flex-end;width: 50%;}#sk-container-id-4 div.sk-parallel-item:last-child::after {align-self: flex-start;width: 50%;}#sk-container-id-4 div.sk-parallel-item:only-child::after {width: 0;}#sk-container-id-4 div.sk-dashed-wrapped {border: 1px dashed gray;margin: 0 0.4em 0.5em 0.4em;box-sizing: border-box;padding-bottom: 0.4em;background-color: white;}#sk-container-id-4 div.sk-label label {font-family: monospace;font-weight: bold;display: inline-block;line-height: 1.2em;}#sk-container-id-4 div.sk-label-container {text-align: center;}#sk-container-id-4 div.sk-container {/* jupyter's `normalize.less` sets `[hidden] { display: none; }` but bootstrap.min.css set `[hidden] { display: none !important; }` so we also need the `!important` here to be able to override the default hidden behavior on the sphinx rendered scikit-learn.org. See: https://github.com/scikit-learn/scikit-learn/issues/21755 */display: inline-block !important;position: relative;}#sk-container-id-4 div.sk-text-repr-fallback {display: none;}</style><div id=\"sk-container-id-4\" class=\"sk-top-container\"><div class=\"sk-text-repr-fallback\"><pre>KNeighborsClassifier(n_neighbors=8)</pre><b>In a Jupyter environment, please rerun this cell to show the HTML representation or trust the notebook. <br />On GitHub, the HTML representation is unable to render, please try loading this page with nbviewer.org.</b></div><div class=\"sk-container\" hidden><div class=\"sk-item\"><div class=\"sk-estimator sk-toggleable\"><input class=\"sk-toggleable__control sk-hidden--visually\" id=\"sk-estimator-id-4\" type=\"checkbox\" checked><label for=\"sk-estimator-id-4\" class=\"sk-toggleable__label sk-toggleable__label-arrow\">KNeighborsClassifier</label><div class=\"sk-toggleable__content\"><pre>KNeighborsClassifier(n_neighbors=8)</pre></div></div></div></div></div>"
            ]
          },
          "metadata": {},
          "execution_count": 41
        }
      ]
    },
    {
      "cell_type": "code",
      "source": [
        "y_pred = knn.predict(X_test)"
      ],
      "metadata": {
        "id": "3dSNh8DRU2gP"
      },
      "execution_count": null,
      "outputs": []
    },
    {
      "cell_type": "code",
      "source": [
        "accuracy_score(y_test, y_pred)"
      ],
      "metadata": {
        "colab": {
          "base_uri": "https://localhost:8080/"
        },
        "id": "cR4cikc5U8zo",
        "outputId": "1afe7b81-9f74-4f3b-d9d8-96f7317210ad"
      },
      "execution_count": null,
      "outputs": [
        {
          "output_type": "execute_result",
          "data": {
            "text/plain": [
              "0.94"
            ]
          },
          "metadata": {},
          "execution_count": 43
        }
      ]
    },
    {
      "cell_type": "code",
      "source": [
        "from sklearn.model_selection import cross_val_score\n",
        "#knn = KNeighborsClassifier(8)\n",
        "#cross_val_score(knn, X, Y, cv = 5).mean()"
      ],
      "metadata": {
        "id": "swq_mrroVHxD"
      },
      "execution_count": null,
      "outputs": []
    },
    {
      "cell_type": "code",
      "source": [
        "acc = []\n",
        "for k in range(1, 151):\n",
        "  knn = KNeighborsClassifier(k)\n",
        "  acc.append(cross_val_score(knn, X, Y, cv = 5).mean())\n",
        "\n",
        "x = np.arange(1, len(X) + 1)\n",
        "plt.plot(x, acc)\n",
        "plt.xlabel('knn')\n",
        "plt.ylabel('accuracy');"
      ],
      "metadata": {
        "id": "Jx9e3UIslz6h"
      },
      "execution_count": null,
      "outputs": []
    },
    {
      "cell_type": "code",
      "source": [
        "X_train, X_test, y_train, y_test = train_test_split(X, Y, test_size=0.2, random_state=16)\n",
        "acc = []\n",
        "for k in range(1, 80):\n",
        "  knn = KNeighborsClassifier(k)\n",
        "  acc.append(cross_val_score(knn, X_train, y_train, cv = 5).mean())\n",
        "print(max(acc), acc.index(max(acc)) + 1)\n",
        "knn = KNeighborsClassifier(acc.index(max(acc)) + 1)\n",
        "print(cross_val_score(knn, X_test, y_test, cv = 5).mean())\n"
      ],
      "metadata": {
        "colab": {
          "base_uri": "https://localhost:8080/"
        },
        "id": "kE2McguKnRJo",
        "outputId": "130daddb-babc-459d-a781-cd7c9a091603"
      },
      "execution_count": null,
      "outputs": [
        {
          "output_type": "stream",
          "name": "stdout",
          "text": [
            "0.9833333333333334 16\n",
            "0.7333333333333333\n"
          ]
        }
      ]
    }
  ],
  "metadata": {
    "kernelspec": {
      "display_name": "Python 3",
      "language": "python",
      "name": "python3"
    },
    "language_info": {
      "codemirror_mode": {
        "name": "ipython",
        "version": 3
      },
      "file_extension": ".py",
      "mimetype": "text/x-python",
      "name": "python",
      "nbconvert_exporter": "python",
      "pygments_lexer": "ipython3",
      "version": "3.8.5"
    },
    "colab": {
      "provenance": [],
      "include_colab_link": true
    }
  },
  "nbformat": 4,
  "nbformat_minor": 0
}