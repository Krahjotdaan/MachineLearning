{
  "cells": [
    {
      "cell_type": "markdown",
      "metadata": {
        "id": "view-in-github",
        "colab_type": "text"
      },
      "source": [
        "<a href=\"https://colab.research.google.com/github/Krahjotdaan/MachineLearning/blob/main/LinearRegression_implementation.ipynb\" target=\"_parent\"><img src=\"https://colab.research.google.com/assets/colab-badge.svg\" alt=\"Open In Colab\"/></a>"
      ]
    },
    {
      "cell_type": "code",
      "execution_count": null,
      "metadata": {
        "id": "w7pVRbxN70IW"
      },
      "outputs": [],
      "source": [
        "import numpy as np\n",
        "from numpy import linalg\n",
        "import pandas as pd\n",
        "import matplotlib.pyplot as plt"
      ]
    },
    {
      "cell_type": "markdown",
      "metadata": {
        "id": "9wV1s1o170IZ"
      },
      "source": [
        "# Линейная регрессия"
      ]
    },
    {
      "cell_type": "markdown",
      "metadata": {
        "id": "FqRaS7Ly70Ia"
      },
      "source": [
        "## Аналитическое решение для парной регрессии (немного теории со слайдов)"
      ]
    },
    {
      "cell_type": "code",
      "execution_count": null,
      "metadata": {
        "id": "jSVFQRCN70Ib",
        "colab": {
          "base_uri": "https://localhost:8080/",
          "height": 434
        },
        "outputId": "48c00a29-2e1e-45c0-bf79-64bcb4becbbb"
      },
      "outputs": [
        {
          "output_type": "display_data",
          "data": {
            "text/plain": [
              "<Figure size 640x480 with 1 Axes>"
            ],
            "image/png": "[encoded data removed]"
          },
          "metadata": {}
        }
      ],
      "source": [
        "x = np.arange(20)\n",
        "y = 2*x + 4\n",
        "y = y + np.random.randint(-3, 5 ,20)\n",
        "\n",
        "plt.scatter(x, y)\n",
        "plt.plot(x, 2.12*x + 2.86, 'r')\n",
        "plt.grid()"
      ]
    },
    {
      "cell_type": "markdown",
      "metadata": {
        "id": "DNraRpRJ70Ib"
      },
      "source": [
        "### Наша задача:\n",
        "$$a(x) = w_0 + w_1 x$$\n",
        "\n",
        "$$Q(w,x) = \\frac{1}{l}\\sum^l_{i=1}(a(x_i) - y_i)^2 \\Rightarrow  \\min_{w}$$\n",
        "\n",
        "####  Подставим сюда явный вид для  $a(x) $\n",
        "\n",
        "Получим такое выражение:\n",
        "\n",
        "$Q(w,x) = \\frac{1}{l}\\sum^l_{i=1}(w_0 + w_1x_i - y_i)^2 \\Rightarrow  \\min_{w}$\n",
        "\n",
        "Чтобы эта функция достигла своего минимума, нужно чтобы частные производные от  $w_0$  и  $w_1 $ были равны нулю\n",
        "\n",
        "$$\\left(\\frac{\\partial Q}{\\partial w_0},\\frac{\\partial Q}{\\partial w_1}\\right) = 0$$\n",
        "\n",
        "#### Берем эти производные...\n",
        "\n",
        "$ \\frac{\\partial Q}{\\partial w_0} = \\frac{2}{l}\\sum^l_{i=1}( w_0 + w_1x_i  - y_i) = 0 $\n",
        "\n",
        "\n",
        "\n",
        "\n",
        "$ w_0\\frac{1}{l}\\sum 1  + w_1\\frac{1}{l}\\sum x_i - \\frac{1}{l}\\sum y_i = 0$\n",
        "\n",
        "\n",
        "$ w_0  + w_1 \\overline{x} - \\overline{y}  = 0$  , где $\\overline{y} = \\frac{1}{l}\\sum^l_{i=1}y_i$\n",
        "\n",
        "Получаем выражения для весовых коэфициентов:\n",
        "\n",
        "$$w_0 = \\overline{y} - w_1 \\overline{x}$$\n",
        "\n",
        "####  Теперь берем производную по $w_1$:\n",
        "\n",
        "$ \\frac{\\partial Q}{\\partial w_1} = \\frac{2}{l}\\sum^l_{i=1}(w_0 + w_1 x_i - y_i) x_i = 0$\n",
        "\n",
        "\n",
        "\n",
        "$0 = w_0\\frac{1}{l}\\sum^l_{i=1}x_i + w_1\\frac{1}{l}\\sum^l_{i=1}x_i^2 - \\frac{1}{l}\\sum^l_{i=1}x_i y_i =$\n",
        "$ w_0 \\overline{x} + w_1\\overline{x^2} - \\overline{xy}$\n",
        "\n",
        "Подставим выражение для $w_0$\n",
        "\n",
        "$(\\overline{y} - w_1\\overline{x})\\overline{x} + w_1\\overline{x^2} - \\overline{xy} = 0$\n",
        "\n",
        "\n",
        "$$ w_1 = \\frac{\\overline{(x y)}-\\overline{x} \\overline{y}}{\\overline{(x^2)}-( \\overline{x} )^2}  $$"
      ]
    },
    {
      "cell_type": "markdown",
      "metadata": {
        "id": "fuHLUrE470Ic"
      },
      "source": [
        "## Практика 1\n",
        "Напишите функцию восстановления параметров линейной регрессии для одномерного случая\n",
        "\n",
        "$$a(x) = w_0 + w_1 x$$\n",
        "\n",
        "$$Q(w,x) = \\frac{1}{l}\\sum^l_{i=1}(a(x_i) - y_i)^2 \\Rightarrow  \\min_{w}$$\n",
        "\n",
        "\n",
        ", используя аналитическое решение\n",
        "\n",
        "$$ w_1 = \\frac{\\overline{(x y)}-\\overline{x} \\overline{y}}{\\overline{(x^2)}-( \\overline{x} )^2}  $$\n",
        "\n",
        "$$ w_0 = \\overline{y}-w_1\\overline{x}  $$\n",
        "\n",
        ",где $ \\overline{x} = \\frac{1}{l}(x_1 + ... + x_l) = \\frac{1}{l}\\sum^l_{i=1} x_i$"
      ]
    },
    {
      "cell_type": "code",
      "execution_count": null,
      "metadata": {
        "id": "eNyDvlWD70Ic"
      },
      "outputs": [],
      "source": [
        "def find_w0_w1(X, y):\n",
        "  w1 = ((X * y).mean() - X.mean() * y.mean()) / ((X ** 2).mean() - X.mean() ** 2)\n",
        "  w0 = y.mean() - w1 * X.mean()\n",
        "  return w0, w1"
      ]
    },
    {
      "cell_type": "markdown",
      "metadata": {
        "id": "8BdnUJW570Ic"
      },
      "source": [
        "### Проверьте работоспособность функции на трех точках:"
      ]
    },
    {
      "cell_type": "code",
      "execution_count": null,
      "metadata": {
        "id": "5FzxrrN170Id"
      },
      "outputs": [],
      "source": [
        "plt.scatter(np.array([1,2,3]), np.array([3, 5, 7]))\n",
        "plt.grid()"
      ]
    },
    {
      "cell_type": "code",
      "execution_count": null,
      "metadata": {
        "id": "Egt8dWQl70Id"
      },
      "outputs": [],
      "source": [
        "find_w0_w1(np.array([1,2,3]), np.array([3, 5, 7]))"
      ]
    },
    {
      "cell_type": "markdown",
      "metadata": {
        "id": "C7nukHGQ70Id"
      },
      "source": [
        "### Восстановите прямую для набора данных:"
      ]
    },
    {
      "cell_type": "code",
      "execution_count": null,
      "metadata": {
        "id": "k7TfxnsX70Id",
        "colab": {
          "base_uri": "https://localhost:8080/",
          "height": 430
        },
        "outputId": "68842bee-a1bb-4715-eb3b-34805c0a8219"
      },
      "outputs": [
        {
          "output_type": "display_data",
          "data": {
            "text/plain": [
              "<Figure size 640x480 with 1 Axes>"
            ],
            "image/png": "[encoded data removed]"
          },
          "metadata": {}
        }
      ],
      "source": [
        "x = np.arange(20)\n",
        "y = 2*x + 4\n",
        "y = y + np.random.randint(-3, 5, 20)\n",
        "\n",
        "plt.scatter(x, y)\n",
        "plt.grid()"
      ]
    },
    {
      "cell_type": "code",
      "execution_count": null,
      "metadata": {
        "id": "AdE4xRU870Id",
        "colab": {
          "base_uri": "https://localhost:8080/"
        },
        "outputId": "fa01504a-e93b-45d6-984c-815b311044b1"
      },
      "outputs": [
        {
          "output_type": "execute_result",
          "data": {
            "text/plain": [
              "(5.185714285714276, 1.969924812030076)"
            ]
          },
          "metadata": {},
          "execution_count": 6
        }
      ],
      "source": [
        "w0, w1 = find_w0_w1(x, y)\n",
        "w0, w1"
      ]
    },
    {
      "cell_type": "code",
      "execution_count": null,
      "metadata": {
        "id": "gy68_M3a70Ie",
        "colab": {
          "base_uri": "https://localhost:8080/",
          "height": 430
        },
        "outputId": "5cfeba17-a3eb-45f5-bb69-1059cadf4958"
      },
      "outputs": [
        {
          "output_type": "display_data",
          "data": {
            "text/plain": [
              "<Figure size 640x480 with 1 Axes>"
            ],
            "image/png": "[encoded data removed]"
          },
          "metadata": {}
        }
      ],
      "source": [
        "plt.scatter(x, y)\n",
        "plt.plot(x, w1*x + w0, 'r')\n",
        "plt.grid()"
      ]
    },
    {
      "cell_type": "markdown",
      "metadata": {
        "id": "X8QhePsP70Ie"
      },
      "source": [
        "## Практика 2\n",
        "Напишите функцию расчета среднеквадратичной ошибки (mse)\n",
        "\n",
        "$$ mse = Q(w,x) = \\frac{1}{l}\\sum^l_{i=1}(a(x_i) - y_i)^2 $$\n",
        "\n",
        "и функцию расчета коэффициент детерминации $R^2$\n",
        "\n",
        "$$R^2 = 1 - \\frac{\\sum^l_{i=1}(y_i - \\hat{y_i})^2}{\\sum^l_{i=1}(y_i - \\overline{y})^2}$$\n",
        ", где $\\overline{y} = \\frac{1}{l}\\sum^l_{i=1}y_i$\n",
        "\n",
        "и $\\hat{y_i}$ - прогноз для i-го объекта"
      ]
    },
    {
      "cell_type": "code",
      "execution_count": null,
      "metadata": {
        "id": "exGHwlpo70Ie"
      },
      "outputs": [],
      "source": [
        "def calc_mse(y, y_pred):\n",
        "  mse = np.mean((y_pred - y) ** 2)\n",
        "  return mse"
      ]
    },
    {
      "cell_type": "code",
      "execution_count": null,
      "metadata": {
        "id": "onCVFdqW70Ie"
      },
      "outputs": [],
      "source": [
        "def calc_r_squared(y, y_pred):\n",
        "  return 1 - np.sum((y - y_pred) ** 2) / np.sum((y - np.mean(y)) ** 2)"
      ]
    },
    {
      "cell_type": "code",
      "execution_count": null,
      "metadata": {
        "id": "6vZGNQMj70If",
        "colab": {
          "base_uri": "https://localhost:8080/"
        },
        "outputId": "5edf002f-20c5-4750-c6e7-1fcbe8d73154"
      },
      "outputs": [
        {
          "output_type": "execute_result",
          "data": {
            "text/plain": [
              "1.0"
            ]
          },
          "metadata": {},
          "execution_count": 10
        }
      ],
      "source": [
        "# проверка - должно получиться 1.0\n",
        "calc_r_squared(np.array([1,2,3,4,5,6]), np.array([1,2,3,4,5,6]))"
      ]
    },
    {
      "cell_type": "markdown",
      "metadata": {
        "id": "hVtijd1F70If"
      },
      "source": [
        "## Практика 3\n",
        "- Загрузите данные из файла **yandex_flats_2023.csv** (целевой признак - price)\n",
        "\n",
        "- Убедитесь в том, что признак square подходит для построения линейной регрессии (визуализируйте)\n",
        "\n",
        "- Восстановите параметры линейной модели и визуализируйте решение\n",
        "\n",
        "- Постройте вектор прогнозов по признаку square\n",
        "\n",
        "- Посчитайте среднеквадратичную ошибку\n",
        "\n",
        "- Посчитайте коэфициент детерминации"
      ]
    },
    {
      "cell_type": "markdown",
      "metadata": {
        "id": "4AYV6RFN70If"
      },
      "source": [
        "### Признаки датасета\n",
        " |признак|описание|\n",
        " |-------|--------|\n",
        " |n|порядковый номер|\n",
        " |time|время до метро|\n",
        " |tyme_type|пешком или на машине|\n",
        " |rooms|тип квартиры|\n",
        " |floor|этаж|\n",
        " |max_floor|количество этажей в доме|\n",
        " |price|цена аренды в месяц|\n",
        "\n"
      ]
    },
    {
      "cell_type": "code",
      "execution_count": null,
      "metadata": {
        "id": "ZrAkGwYB70If",
        "colab": {
          "base_uri": "https://localhost:8080/",
          "height": 424
        },
        "outputId": "771b8c14-a4fd-46fd-c96d-75b677aac500"
      },
      "outputs": [
        {
          "output_type": "execute_result",
          "data": {
            "text/plain": [
              "      time time_type  square               rooms  floor  max_floor   price\n",
              "0       16       bus    27.0     квартира-студия      8         14   39000\n",
              "1       24       bus    34.0     квартира-студия     10         16   31000\n",
              "2       15       ped    20.0     квартира-студия     21         32   44000\n",
              "3        9       bus    16.0     квартира-студия      2          6   38000\n",
              "4        3       ped    20.0  апартаменты-студия     12         16   39000\n",
              "...    ...       ...     ...                 ...    ...        ...     ...\n",
              "2814    10       ped   340.0         4-комнатная      2          8    1600\n",
              "2815    13       ped   402.0         5-комнатная      6         18  500000\n",
              "2816     9       ped   225.0         4-комнатная     17         57  490000\n",
              "2817    19       bus    63.0         4-комнатная      6          9   47000\n",
              "2818    13       bus    80.0         4-комнатная      8          9   75000\n",
              "\n",
              "[2819 rows x 7 columns]"
            ],
            "text/html": [
              "\n",
              "  <div id=\"df-c1689a8c-3e84-4706-8b93-04cbd8802d02\" class=\"colab-df-container\">\n",
              "    <div>\n",
              "<style scoped>\n",
              "    .dataframe tbody tr th:only-of-type {\n",
              "        vertical-align: middle;\n",
              "    }\n",
              "\n",
              "    .dataframe tbody tr th {\n",
              "        vertical-align: top;\n",
              "    }\n",
              "\n",
              "    .dataframe thead th {\n",
              "        text-align: right;\n",
              "    }\n",
              "</style>\n",
              "<table border=\"1\" class=\"dataframe\">\n",
              "  <thead>\n",
              "    <tr style=\"text-align: right;\">\n",
              "      <th></th>\n",
              "      <th>time</th>\n",
              "      <th>time_type</th>\n",
              "      <th>square</th>\n",
              "      <th>rooms</th>\n",
              "      <th>floor</th>\n",
              "      <th>max_floor</th>\n",
              "      <th>price</th>\n",
              "    </tr>\n",
              "  </thead>\n",
              "  <tbody>\n",
              "    <tr>\n",
              "      <th>0</th>\n",
              "      <td>16</td>\n",
              "      <td>bus</td>\n",
              "      <td>27.0</td>\n",
              "      <td>квартира-студия</td>\n",
              "      <td>8</td>\n",
              "      <td>14</td>\n",
              "      <td>39000</td>\n",
              "    </tr>\n",
              "    <tr>\n",
              "      <th>1</th>\n",
              "      <td>24</td>\n",
              "      <td>bus</td>\n",
              "      <td>34.0</td>\n",
              "      <td>квартира-студия</td>\n",
              "      <td>10</td>\n",
              "      <td>16</td>\n",
              "      <td>31000</td>\n",
              "    </tr>\n",
              "    <tr>\n",
              "      <th>2</th>\n",
              "      <td>15</td>\n",
              "      <td>ped</td>\n",
              "      <td>20.0</td>\n",
              "      <td>квартира-студия</td>\n",
              "      <td>21</td>\n",
              "      <td>32</td>\n",
              "      <td>44000</td>\n",
              "    </tr>\n",
              "    <tr>\n",
              "      <th>3</th>\n",
              "      <td>9</td>\n",
              "      <td>bus</td>\n",
              "      <td>16.0</td>\n",
              "      <td>квартира-студия</td>\n",
              "      <td>2</td>\n",
              "      <td>6</td>\n",
              "      <td>38000</td>\n",
              "    </tr>\n",
              "    <tr>\n",
              "      <th>4</th>\n",
              "      <td>3</td>\n",
              "      <td>ped</td>\n",
              "      <td>20.0</td>\n",
              "      <td>апартаменты-студия</td>\n",
              "      <td>12</td>\n",
              "      <td>16</td>\n",
              "      <td>39000</td>\n",
              "    </tr>\n",
              "    <tr>\n",
              "      <th>...</th>\n",
              "      <td>...</td>\n",
              "      <td>...</td>\n",
              "      <td>...</td>\n",
              "      <td>...</td>\n",
              "      <td>...</td>\n",
              "      <td>...</td>\n",
              "      <td>...</td>\n",
              "    </tr>\n",
              "    <tr>\n",
              "      <th>2814</th>\n",
              "      <td>10</td>\n",
              "      <td>ped</td>\n",
              "      <td>340.0</td>\n",
              "      <td>4-комнатная</td>\n",
              "      <td>2</td>\n",
              "      <td>8</td>\n",
              "      <td>1600</td>\n",
              "    </tr>\n",
              "    <tr>\n",
              "      <th>2815</th>\n",
              "      <td>13</td>\n",
              "      <td>ped</td>\n",
              "      <td>402.0</td>\n",
              "      <td>5-комнатная</td>\n",
              "      <td>6</td>\n",
              "      <td>18</td>\n",
              "      <td>500000</td>\n",
              "    </tr>\n",
              "    <tr>\n",
              "      <th>2816</th>\n",
              "      <td>9</td>\n",
              "      <td>ped</td>\n",
              "      <td>225.0</td>\n",
              "      <td>4-комнатная</td>\n",
              "      <td>17</td>\n",
              "      <td>57</td>\n",
              "      <td>490000</td>\n",
              "    </tr>\n",
              "    <tr>\n",
              "      <th>2817</th>\n",
              "      <td>19</td>\n",
              "      <td>bus</td>\n",
              "      <td>63.0</td>\n",
              "      <td>4-комнатная</td>\n",
              "      <td>6</td>\n",
              "      <td>9</td>\n",
              "      <td>47000</td>\n",
              "    </tr>\n",
              "    <tr>\n",
              "      <th>2818</th>\n",
              "      <td>13</td>\n",
              "      <td>bus</td>\n",
              "      <td>80.0</td>\n",
              "      <td>4-комнатная</td>\n",
              "      <td>8</td>\n",
              "      <td>9</td>\n",
              "      <td>75000</td>\n",
              "    </tr>\n",
              "  </tbody>\n",
              "</table>\n",
              "<p>2819 rows × 7 columns</p>\n",
              "</div>\n",
              "    <div class=\"colab-df-buttons\">\n",
              "\n",
              "  <div class=\"colab-df-container\">\n",
              "    <button class=\"colab-df-convert\" onclick=\"convertToInteractive('df-c1689a8c-3e84-4706-8b93-04cbd8802d02')\"\n",
              "            title=\"Convert this dataframe to an interactive table.\"\n",
              "            style=\"display:none;\">\n",
              "\n",
              "  <svg xmlns=\"http://www.w3.org/2000/svg\" height=\"24px\" viewBox=\"0 -960 960 960\">\n",
              "    <path d=\"M120-120v-720h720v720H120Zm60-500h600v-160H180v160Zm220 220h160v-160H400v160Zm0 220h160v-160H400v160ZM180-400h160v-160H180v160Zm440 0h160v-160H620v160ZM180-180h160v-160H180v160Zm440 0h160v-160H620v160Z\"/>\n",
              "  </svg>\n",
              "    </button>\n",
              "\n",
              "  <style>\n",
              "    .colab-df-container {\n",
              "      display:flex;\n",
              "      gap: 12px;\n",
              "    }\n",
              "\n",
              "    .colab-df-convert {\n",
              "      background-color: #E8F0FE;\n",
              "      border: none;\n",
              "      border-radius: 50%;\n",
              "      cursor: pointer;\n",
              "      display: none;\n",
              "      fill: #1967D2;\n",
              "      height: 32px;\n",
              "      padding: 0 0 0 0;\n",
              "      width: 32px;\n",
              "    }\n",
              "\n",
              "    .colab-df-convert:hover {\n",
              "      background-color: #E2EBFA;\n",
              "      box-shadow: 0px 1px 2px rgba(60, 64, 67, 0.3), 0px 1px 3px 1px rgba(60, 64, 67, 0.15);\n",
              "      fill: #174EA6;\n",
              "    }\n",
              "\n",
              "    .colab-df-buttons div {\n",
              "      margin-bottom: 4px;\n",
              "    }\n",
              "\n",
              "    [theme=dark] .colab-df-convert {\n",
              "      background-color: #3B4455;\n",
              "      fill: #D2E3FC;\n",
              "    }\n",
              "\n",
              "    [theme=dark] .colab-df-convert:hover {\n",
              "      background-color: #434B5C;\n",
              "      box-shadow: 0px 1px 3px 1px rgba(0, 0, 0, 0.15);\n",
              "      filter: drop-shadow(0px 1px 2px rgba(0, 0, 0, 0.3));\n",
              "      fill: #FFFFFF;\n",
              "    }\n",
              "  </style>\n",
              "\n",
              "    <script>\n",
              "      const buttonEl =\n",
              "        document.querySelector('#df-c1689a8c-3e84-4706-8b93-04cbd8802d02 button.colab-df-convert');\n",
              "      buttonEl.style.display =\n",
              "        google.colab.kernel.accessAllowed ? 'block' : 'none';\n",
              "\n",
              "      async function convertToInteractive(key) {\n",
              "        const element = document.querySelector('#df-c1689a8c-3e84-4706-8b93-04cbd8802d02');\n",
              "        const dataTable =\n",
              "          await google.colab.kernel.invokeFunction('convertToInteractive',\n",
              "                                                    [key], {});\n",
              "        if (!dataTable) return;\n",
              "\n",
              "        const docLinkHtml = 'Like what you see? Visit the ' +\n",
              "          '<a target=\"_blank\" href=https://colab.research.google.com/notebooks/data_table.ipynb>data table notebook</a>'\n",
              "          + ' to learn more about interactive tables.';\n",
              "        element.innerHTML = '';\n",
              "        dataTable['output_type'] = 'display_data';\n",
              "        await google.colab.output.renderOutput(dataTable, element);\n",
              "        const docLink = document.createElement('div');\n",
              "        docLink.innerHTML = docLinkHtml;\n",
              "        element.appendChild(docLink);\n",
              "      }\n",
              "    </script>\n",
              "  </div>\n",
              "\n",
              "\n",
              "<div id=\"df-277d2192-aa56-4aa6-a9ca-d225da174903\">\n",
              "  <button class=\"colab-df-quickchart\" onclick=\"quickchart('df-277d2192-aa56-4aa6-a9ca-d225da174903')\"\n",
              "            title=\"Suggest charts\"\n",
              "            style=\"display:none;\">\n",
              "\n",
              "<svg xmlns=\"http://www.w3.org/2000/svg\" height=\"24px\"viewBox=\"0 0 24 24\"\n",
              "     width=\"24px\">\n",
              "    <g>\n",
              "        <path d=\"M19 3H5c-1.1 0-2 .9-2 2v14c0 1.1.9 2 2 2h14c1.1 0 2-.9 2-2V5c0-1.1-.9-2-2-2zM9 17H7v-7h2v7zm4 0h-2V7h2v10zm4 0h-2v-4h2v4z\"/>\n",
              "    </g>\n",
              "</svg>\n",
              "  </button>\n",
              "\n",
              "<style>\n",
              "  .colab-df-quickchart {\n",
              "      --bg-color: #E8F0FE;\n",
              "      --fill-color: #1967D2;\n",
              "      --hover-bg-color: #E2EBFA;\n",
              "      --hover-fill-color: #174EA6;\n",
              "      --disabled-fill-color: #AAA;\n",
              "      --disabled-bg-color: #DDD;\n",
              "  }\n",
              "\n",
              "  [theme=dark] .colab-df-quickchart {\n",
              "      --bg-color: #3B4455;\n",
              "      --fill-color: #D2E3FC;\n",
              "      --hover-bg-color: #434B5C;\n",
              "      --hover-fill-color: #FFFFFF;\n",
              "      --disabled-bg-color: #3B4455;\n",
              "      --disabled-fill-color: #666;\n",
              "  }\n",
              "\n",
              "  .colab-df-quickchart {\n",
              "    background-color: var(--bg-color);\n",
              "    border: none;\n",
              "    border-radius: 50%;\n",
              "    cursor: pointer;\n",
              "    display: none;\n",
              "    fill: var(--fill-color);\n",
              "    height: 32px;\n",
              "    padding: 0;\n",
              "    width: 32px;\n",
              "  }\n",
              "\n",
              "  .colab-df-quickchart:hover {\n",
              "    background-color: var(--hover-bg-color);\n",
              "    box-shadow: 0 1px 2px rgba(60, 64, 67, 0.3), 0 1px 3px 1px rgba(60, 64, 67, 0.15);\n",
              "    fill: var(--button-hover-fill-color);\n",
              "  }\n",
              "\n",
              "  .colab-df-quickchart-complete:disabled,\n",
              "  .colab-df-quickchart-complete:disabled:hover {\n",
              "    background-color: var(--disabled-bg-color);\n",
              "    fill: var(--disabled-fill-color);\n",
              "    box-shadow: none;\n",
              "  }\n",
              "\n",
              "  .colab-df-spinner {\n",
              "    border: 2px solid var(--fill-color);\n",
              "    border-color: transparent;\n",
              "    border-bottom-color: var(--fill-color);\n",
              "    animation:\n",
              "      spin 1s steps(1) infinite;\n",
              "  }\n",
              "\n",
              "  @keyframes spin {\n",
              "    0% {\n",
              "      border-color: transparent;\n",
              "      border-bottom-color: var(--fill-color);\n",
              "      border-left-color: var(--fill-color);\n",
              "    }\n",
              "    20% {\n",
              "      border-color: transparent;\n",
              "      border-left-color: var(--fill-color);\n",
              "      border-top-color: var(--fill-color);\n",
              "    }\n",
              "    30% {\n",
              "      border-color: transparent;\n",
              "      border-left-color: var(--fill-color);\n",
              "      border-top-color: var(--fill-color);\n",
              "      border-right-color: var(--fill-color);\n",
              "    }\n",
              "    40% {\n",
              "      border-color: transparent;\n",
              "      border-right-color: var(--fill-color);\n",
              "      border-top-color: var(--fill-color);\n",
              "    }\n",
              "    60% {\n",
              "      border-color: transparent;\n",
              "      border-right-color: var(--fill-color);\n",
              "    }\n",
              "    80% {\n",
              "      border-color: transparent;\n",
              "      border-right-color: var(--fill-color);\n",
              "      border-bottom-color: var(--fill-color);\n",
              "    }\n",
              "    90% {\n",
              "      border-color: transparent;\n",
              "      border-bottom-color: var(--fill-color);\n",
              "    }\n",
              "  }\n",
              "</style>\n",
              "\n",
              "  <script>\n",
              "    async function quickchart(key) {\n",
              "      const quickchartButtonEl =\n",
              "        document.querySelector('#' + key + ' button');\n",
              "      quickchartButtonEl.disabled = true;  // To prevent multiple clicks.\n",
              "      quickchartButtonEl.classList.add('colab-df-spinner');\n",
              "      try {\n",
              "        const charts = await google.colab.kernel.invokeFunction(\n",
              "            'suggestCharts', [key], {});\n",
              "      } catch (error) {\n",
              "        console.error('Error during call to suggestCharts:', error);\n",
              "      }\n",
              "      quickchartButtonEl.classList.remove('colab-df-spinner');\n",
              "      quickchartButtonEl.classList.add('colab-df-quickchart-complete');\n",
              "    }\n",
              "    (() => {\n",
              "      let quickchartButtonEl =\n",
              "        document.querySelector('#df-277d2192-aa56-4aa6-a9ca-d225da174903 button');\n",
              "      quickchartButtonEl.style.display =\n",
              "        google.colab.kernel.accessAllowed ? 'block' : 'none';\n",
              "    })();\n",
              "  </script>\n",
              "</div>\n",
              "    </div>\n",
              "  </div>\n"
            ]
          },
          "metadata": {},
          "execution_count": 11
        }
      ],
      "source": [
        "df = pd.read_csv('yandex_flats_2023.csv', index_col = 0)\n",
        "df"
      ]
    },
    {
      "cell_type": "code",
      "source": [
        "plt.scatter(df['square'], df['price']);"
      ],
      "metadata": {
        "colab": {
          "base_uri": "https://localhost:8080/",
          "height": 430
        },
        "id": "zC9XOw1Gf0N3",
        "outputId": "19b20cd5-9ec4-4f3e-9130-7015207f734d"
      },
      "execution_count": null,
      "outputs": [
        {
          "output_type": "display_data",
          "data": {
            "text/plain": [
              "<Figure size 640x480 with 1 Axes>"
            ],
            "image/png": "[encoded data removed]"
          },
          "metadata": {}
        }
      ]
    },
    {
      "cell_type": "code",
      "source": [
        "df1 = df[df['price'] > 5000]"
      ],
      "metadata": {
        "id": "9e1g7IIYf2y9"
      },
      "execution_count": null,
      "outputs": []
    },
    {
      "cell_type": "code",
      "source": [
        "plt.scatter(df1['square'], df1['price']);"
      ],
      "metadata": {
        "colab": {
          "base_uri": "https://localhost:8080/",
          "height": 430
        },
        "id": "UDRhTBXVf9Jv",
        "outputId": "c26f5781-0dcc-4f36-81a7-c525c760f393"
      },
      "execution_count": null,
      "outputs": [
        {
          "output_type": "display_data",
          "data": {
            "text/plain": [
              "<Figure size 640x480 with 1 Axes>"
            ],
            "image/png": "[encoded data removed]"
          },
          "metadata": {}
        }
      ]
    },
    {
      "cell_type": "markdown",
      "metadata": {
        "id": "dj1MHNTJ70If"
      },
      "source": [
        "## Практика 4\n",
        "Выполните задания Практики 3 с признаком time:\n",
        "- восстановите параметры линейной модели\n",
        "- постройте вектор прогнозов цены\n",
        "- посчитайте mse и $R^2$\n",
        "- визуализируйте объекты и восстановленную прямую\n",
        "\n",
        "Целевым признаком остается price"
      ]
    },
    {
      "cell_type": "code",
      "execution_count": null,
      "metadata": {
        "id": "OqE8d74970If",
        "colab": {
          "base_uri": "https://localhost:8080/"
        },
        "outputId": "db25b387-3c01-426f-b409-0d0c49847192"
      },
      "outputs": [
        {
          "output_type": "execute_result",
          "data": {
            "text/plain": [
              "(-5434.108833105303, 1757.1346089384956)"
            ]
          },
          "metadata": {},
          "execution_count": 15
        }
      ],
      "source": [
        "w0, w1 = find_w0_w1(df1['square'], df1['price'])\n",
        "w0, w1"
      ]
    },
    {
      "cell_type": "code",
      "source": [
        "plt.scatter(df1['square'], df1['price'])\n",
        "plt.plot(df1['square'], w0 + w1 * df1['square'], c = 'red');"
      ],
      "metadata": {
        "colab": {
          "base_uri": "https://localhost:8080/",
          "height": 445
        },
        "id": "J2fSy3qPfysJ",
        "outputId": "8dd323a6-a20a-4cc9-adcd-307f76e4b89e"
      },
      "execution_count": null,
      "outputs": [
        {
          "output_type": "display_data",
          "data": {
            "text/plain": [
              "<Figure size 640x480 with 1 Axes>"
            ],
            "image/png": "[encoded data removed]"
          },
          "metadata": {}
        }
      ]
    },
    {
      "cell_type": "code",
      "execution_count": null,
      "metadata": {
        "id": "OE2MKPF870Ig"
      },
      "outputs": [],
      "source": [
        "y_pred = w0 + w1 * df1['square']\n",
        "y = df1['price']"
      ]
    },
    {
      "cell_type": "code",
      "source": [
        "calc_mse(y, y_pred), calc_mse(y, y_pred) ** 0.5, calc_r_squared(y, y_pred)"
      ],
      "metadata": {
        "colab": {
          "base_uri": "https://localhost:8080/"
        },
        "id": "kjVkeLgpgk2N",
        "outputId": "d8924a2e-f599-4d81-e5e3-030d7ac16935"
      },
      "execution_count": null,
      "outputs": [
        {
          "output_type": "execute_result",
          "data": {
            "text/plain": [
              "(6914331664.014983, 83152.4603605629, 0.6667222373857243)"
            ]
          },
          "metadata": {},
          "execution_count": 18
        }
      ]
    },
    {
      "cell_type": "code",
      "source": [
        "df = pd.read_csv('yandex_flats_2023.csv', index_col = 0)\n",
        "df1 = df[df['price'] > 5000]\n",
        "df1"
      ],
      "metadata": {
        "colab": {
          "base_uri": "https://localhost:8080/",
          "height": 424
        },
        "id": "5ebAXzqsWoRb",
        "outputId": "fa9033d9-6455-42b2-ae56-bc6a8226bf20"
      },
      "execution_count": null,
      "outputs": [
        {
          "output_type": "execute_result",
          "data": {
            "text/plain": [
              "      time time_type  square               rooms  floor  max_floor   price\n",
              "0       16       bus    27.0     квартира-студия      8         14   39000\n",
              "1       24       bus    34.0     квартира-студия     10         16   31000\n",
              "2       15       ped    20.0     квартира-студия     21         32   44000\n",
              "3        9       bus    16.0     квартира-студия      2          6   38000\n",
              "4        3       ped    20.0  апартаменты-студия     12         16   39000\n",
              "...    ...       ...     ...                 ...    ...        ...     ...\n",
              "2813    16       ped   180.0         4-комнатная     13         22  280000\n",
              "2815    13       ped   402.0         5-комнатная      6         18  500000\n",
              "2816     9       ped   225.0         4-комнатная     17         57  490000\n",
              "2817    19       bus    63.0         4-комнатная      6          9   47000\n",
              "2818    13       bus    80.0         4-комнатная      8          9   75000\n",
              "\n",
              "[2792 rows x 7 columns]"
            ],
            "text/html": [
              "\n",
              "  <div id=\"df-6124d460-ab48-409e-b7bf-eeb0202cc563\" class=\"colab-df-container\">\n",
              "    <div>\n",
              "<style scoped>\n",
              "    .dataframe tbody tr th:only-of-type {\n",
              "        vertical-align: middle;\n",
              "    }\n",
              "\n",
              "    .dataframe tbody tr th {\n",
              "        vertical-align: top;\n",
              "    }\n",
              "\n",
              "    .dataframe thead th {\n",
              "        text-align: right;\n",
              "    }\n",
              "</style>\n",
              "<table border=\"1\" class=\"dataframe\">\n",
              "  <thead>\n",
              "    <tr style=\"text-align: right;\">\n",
              "      <th></th>\n",
              "      <th>time</th>\n",
              "      <th>time_type</th>\n",
              "      <th>square</th>\n",
              "      <th>rooms</th>\n",
              "      <th>floor</th>\n",
              "      <th>max_floor</th>\n",
              "      <th>price</th>\n",
              "    </tr>\n",
              "  </thead>\n",
              "  <tbody>\n",
              "    <tr>\n",
              "      <th>0</th>\n",
              "      <td>16</td>\n",
              "      <td>bus</td>\n",
              "      <td>27.0</td>\n",
              "      <td>квартира-студия</td>\n",
              "      <td>8</td>\n",
              "      <td>14</td>\n",
              "      <td>39000</td>\n",
              "    </tr>\n",
              "    <tr>\n",
              "      <th>1</th>\n",
              "      <td>24</td>\n",
              "      <td>bus</td>\n",
              "      <td>34.0</td>\n",
              "      <td>квартира-студия</td>\n",
              "      <td>10</td>\n",
              "      <td>16</td>\n",
              "      <td>31000</td>\n",
              "    </tr>\n",
              "    <tr>\n",
              "      <th>2</th>\n",
              "      <td>15</td>\n",
              "      <td>ped</td>\n",
              "      <td>20.0</td>\n",
              "      <td>квартира-студия</td>\n",
              "      <td>21</td>\n",
              "      <td>32</td>\n",
              "      <td>44000</td>\n",
              "    </tr>\n",
              "    <tr>\n",
              "      <th>3</th>\n",
              "      <td>9</td>\n",
              "      <td>bus</td>\n",
              "      <td>16.0</td>\n",
              "      <td>квартира-студия</td>\n",
              "      <td>2</td>\n",
              "      <td>6</td>\n",
              "      <td>38000</td>\n",
              "    </tr>\n",
              "    <tr>\n",
              "      <th>4</th>\n",
              "      <td>3</td>\n",
              "      <td>ped</td>\n",
              "      <td>20.0</td>\n",
              "      <td>апартаменты-студия</td>\n",
              "      <td>12</td>\n",
              "      <td>16</td>\n",
              "      <td>39000</td>\n",
              "    </tr>\n",
              "    <tr>\n",
              "      <th>...</th>\n",
              "      <td>...</td>\n",
              "      <td>...</td>\n",
              "      <td>...</td>\n",
              "      <td>...</td>\n",
              "      <td>...</td>\n",
              "      <td>...</td>\n",
              "      <td>...</td>\n",
              "    </tr>\n",
              "    <tr>\n",
              "      <th>2813</th>\n",
              "      <td>16</td>\n",
              "      <td>ped</td>\n",
              "      <td>180.0</td>\n",
              "      <td>4-комнатная</td>\n",
              "      <td>13</td>\n",
              "      <td>22</td>\n",
              "      <td>280000</td>\n",
              "    </tr>\n",
              "    <tr>\n",
              "      <th>2815</th>\n",
              "      <td>13</td>\n",
              "      <td>ped</td>\n",
              "      <td>402.0</td>\n",
              "      <td>5-комнатная</td>\n",
              "      <td>6</td>\n",
              "      <td>18</td>\n",
              "      <td>500000</td>\n",
              "    </tr>\n",
              "    <tr>\n",
              "      <th>2816</th>\n",
              "      <td>9</td>\n",
              "      <td>ped</td>\n",
              "      <td>225.0</td>\n",
              "      <td>4-комнатная</td>\n",
              "      <td>17</td>\n",
              "      <td>57</td>\n",
              "      <td>490000</td>\n",
              "    </tr>\n",
              "    <tr>\n",
              "      <th>2817</th>\n",
              "      <td>19</td>\n",
              "      <td>bus</td>\n",
              "      <td>63.0</td>\n",
              "      <td>4-комнатная</td>\n",
              "      <td>6</td>\n",
              "      <td>9</td>\n",
              "      <td>47000</td>\n",
              "    </tr>\n",
              "    <tr>\n",
              "      <th>2818</th>\n",
              "      <td>13</td>\n",
              "      <td>bus</td>\n",
              "      <td>80.0</td>\n",
              "      <td>4-комнатная</td>\n",
              "      <td>8</td>\n",
              "      <td>9</td>\n",
              "      <td>75000</td>\n",
              "    </tr>\n",
              "  </tbody>\n",
              "</table>\n",
              "<p>2792 rows × 7 columns</p>\n",
              "</div>\n",
              "    <div class=\"colab-df-buttons\">\n",
              "\n",
              "  <div class=\"colab-df-container\">\n",
              "    <button class=\"colab-df-convert\" onclick=\"convertToInteractive('df-6124d460-ab48-409e-b7bf-eeb0202cc563')\"\n",
              "            title=\"Convert this dataframe to an interactive table.\"\n",
              "            style=\"display:none;\">\n",
              "\n",
              "  <svg xmlns=\"http://www.w3.org/2000/svg\" height=\"24px\" viewBox=\"0 -960 960 960\">\n",
              "    <path d=\"M120-120v-720h720v720H120Zm60-500h600v-160H180v160Zm220 220h160v-160H400v160Zm0 220h160v-160H400v160ZM180-400h160v-160H180v160Zm440 0h160v-160H620v160ZM180-180h160v-160H180v160Zm440 0h160v-160H620v160Z\"/>\n",
              "  </svg>\n",
              "    </button>\n",
              "\n",
              "  <style>\n",
              "    .colab-df-container {\n",
              "      display:flex;\n",
              "      gap: 12px;\n",
              "    }\n",
              "\n",
              "    .colab-df-convert {\n",
              "      background-color: #E8F0FE;\n",
              "      border: none;\n",
              "      border-radius: 50%;\n",
              "      cursor: pointer;\n",
              "      display: none;\n",
              "      fill: #1967D2;\n",
              "      height: 32px;\n",
              "      padding: 0 0 0 0;\n",
              "      width: 32px;\n",
              "    }\n",
              "\n",
              "    .colab-df-convert:hover {\n",
              "      background-color: #E2EBFA;\n",
              "      box-shadow: 0px 1px 2px rgba(60, 64, 67, 0.3), 0px 1px 3px 1px rgba(60, 64, 67, 0.15);\n",
              "      fill: #174EA6;\n",
              "    }\n",
              "\n",
              "    .colab-df-buttons div {\n",
              "      margin-bottom: 4px;\n",
              "    }\n",
              "\n",
              "    [theme=dark] .colab-df-convert {\n",
              "      background-color: #3B4455;\n",
              "      fill: #D2E3FC;\n",
              "    }\n",
              "\n",
              "    [theme=dark] .colab-df-convert:hover {\n",
              "      background-color: #434B5C;\n",
              "      box-shadow: 0px 1px 3px 1px rgba(0, 0, 0, 0.15);\n",
              "      filter: drop-shadow(0px 1px 2px rgba(0, 0, 0, 0.3));\n",
              "      fill: #FFFFFF;\n",
              "    }\n",
              "  </style>\n",
              "\n",
              "    <script>\n",
              "      const buttonEl =\n",
              "        document.querySelector('#df-6124d460-ab48-409e-b7bf-eeb0202cc563 button.colab-df-convert');\n",
              "      buttonEl.style.display =\n",
              "        google.colab.kernel.accessAllowed ? 'block' : 'none';\n",
              "\n",
              "      async function convertToInteractive(key) {\n",
              "        const element = document.querySelector('#df-6124d460-ab48-409e-b7bf-eeb0202cc563');\n",
              "        const dataTable =\n",
              "          await google.colab.kernel.invokeFunction('convertToInteractive',\n",
              "                                                    [key], {});\n",
              "        if (!dataTable) return;\n",
              "\n",
              "        const docLinkHtml = 'Like what you see? Visit the ' +\n",
              "          '<a target=\"_blank\" href=https://colab.research.google.com/notebooks/data_table.ipynb>data table notebook</a>'\n",
              "          + ' to learn more about interactive tables.';\n",
              "        element.innerHTML = '';\n",
              "        dataTable['output_type'] = 'display_data';\n",
              "        await google.colab.output.renderOutput(dataTable, element);\n",
              "        const docLink = document.createElement('div');\n",
              "        docLink.innerHTML = docLinkHtml;\n",
              "        element.appendChild(docLink);\n",
              "      }\n",
              "    </script>\n",
              "  </div>\n",
              "\n",
              "\n",
              "<div id=\"df-fe656027-5bcf-4b70-a296-f4c45d790146\">\n",
              "  <button class=\"colab-df-quickchart\" onclick=\"quickchart('df-fe656027-5bcf-4b70-a296-f4c45d790146')\"\n",
              "            title=\"Suggest charts\"\n",
              "            style=\"display:none;\">\n",
              "\n",
              "<svg xmlns=\"http://www.w3.org/2000/svg\" height=\"24px\"viewBox=\"0 0 24 24\"\n",
              "     width=\"24px\">\n",
              "    <g>\n",
              "        <path d=\"M19 3H5c-1.1 0-2 .9-2 2v14c0 1.1.9 2 2 2h14c1.1 0 2-.9 2-2V5c0-1.1-.9-2-2-2zM9 17H7v-7h2v7zm4 0h-2V7h2v10zm4 0h-2v-4h2v4z\"/>\n",
              "    </g>\n",
              "</svg>\n",
              "  </button>\n",
              "\n",
              "<style>\n",
              "  .colab-df-quickchart {\n",
              "      --bg-color: #E8F0FE;\n",
              "      --fill-color: #1967D2;\n",
              "      --hover-bg-color: #E2EBFA;\n",
              "      --hover-fill-color: #174EA6;\n",
              "      --disabled-fill-color: #AAA;\n",
              "      --disabled-bg-color: #DDD;\n",
              "  }\n",
              "\n",
              "  [theme=dark] .colab-df-quickchart {\n",
              "      --bg-color: #3B4455;\n",
              "      --fill-color: #D2E3FC;\n",
              "      --hover-bg-color: #434B5C;\n",
              "      --hover-fill-color: #FFFFFF;\n",
              "      --disabled-bg-color: #3B4455;\n",
              "      --disabled-fill-color: #666;\n",
              "  }\n",
              "\n",
              "  .colab-df-quickchart {\n",
              "    background-color: var(--bg-color);\n",
              "    border: none;\n",
              "    border-radius: 50%;\n",
              "    cursor: pointer;\n",
              "    display: none;\n",
              "    fill: var(--fill-color);\n",
              "    height: 32px;\n",
              "    padding: 0;\n",
              "    width: 32px;\n",
              "  }\n",
              "\n",
              "  .colab-df-quickchart:hover {\n",
              "    background-color: var(--hover-bg-color);\n",
              "    box-shadow: 0 1px 2px rgba(60, 64, 67, 0.3), 0 1px 3px 1px rgba(60, 64, 67, 0.15);\n",
              "    fill: var(--button-hover-fill-color);\n",
              "  }\n",
              "\n",
              "  .colab-df-quickchart-complete:disabled,\n",
              "  .colab-df-quickchart-complete:disabled:hover {\n",
              "    background-color: var(--disabled-bg-color);\n",
              "    fill: var(--disabled-fill-color);\n",
              "    box-shadow: none;\n",
              "  }\n",
              "\n",
              "  .colab-df-spinner {\n",
              "    border: 2px solid var(--fill-color);\n",
              "    border-color: transparent;\n",
              "    border-bottom-color: var(--fill-color);\n",
              "    animation:\n",
              "      spin 1s steps(1) infinite;\n",
              "  }\n",
              "\n",
              "  @keyframes spin {\n",
              "    0% {\n",
              "      border-color: transparent;\n",
              "      border-bottom-color: var(--fill-color);\n",
              "      border-left-color: var(--fill-color);\n",
              "    }\n",
              "    20% {\n",
              "      border-color: transparent;\n",
              "      border-left-color: var(--fill-color);\n",
              "      border-top-color: var(--fill-color);\n",
              "    }\n",
              "    30% {\n",
              "      border-color: transparent;\n",
              "      border-left-color: var(--fill-color);\n",
              "      border-top-color: var(--fill-color);\n",
              "      border-right-color: var(--fill-color);\n",
              "    }\n",
              "    40% {\n",
              "      border-color: transparent;\n",
              "      border-right-color: var(--fill-color);\n",
              "      border-top-color: var(--fill-color);\n",
              "    }\n",
              "    60% {\n",
              "      border-color: transparent;\n",
              "      border-right-color: var(--fill-color);\n",
              "    }\n",
              "    80% {\n",
              "      border-color: transparent;\n",
              "      border-right-color: var(--fill-color);\n",
              "      border-bottom-color: var(--fill-color);\n",
              "    }\n",
              "    90% {\n",
              "      border-color: transparent;\n",
              "      border-bottom-color: var(--fill-color);\n",
              "    }\n",
              "  }\n",
              "</style>\n",
              "\n",
              "  <script>\n",
              "    async function quickchart(key) {\n",
              "      const quickchartButtonEl =\n",
              "        document.querySelector('#' + key + ' button');\n",
              "      quickchartButtonEl.disabled = true;  // To prevent multiple clicks.\n",
              "      quickchartButtonEl.classList.add('colab-df-spinner');\n",
              "      try {\n",
              "        const charts = await google.colab.kernel.invokeFunction(\n",
              "            'suggestCharts', [key], {});\n",
              "      } catch (error) {\n",
              "        console.error('Error during call to suggestCharts:', error);\n",
              "      }\n",
              "      quickchartButtonEl.classList.remove('colab-df-spinner');\n",
              "      quickchartButtonEl.classList.add('colab-df-quickchart-complete');\n",
              "    }\n",
              "    (() => {\n",
              "      let quickchartButtonEl =\n",
              "        document.querySelector('#df-fe656027-5bcf-4b70-a296-f4c45d790146 button');\n",
              "      quickchartButtonEl.style.display =\n",
              "        google.colab.kernel.accessAllowed ? 'block' : 'none';\n",
              "    })();\n",
              "  </script>\n",
              "</div>\n",
              "    </div>\n",
              "  </div>\n"
            ]
          },
          "metadata": {},
          "execution_count": 19
        }
      ]
    },
    {
      "cell_type": "code",
      "source": [
        "df['rooms'].value_counts()"
      ],
      "metadata": {
        "colab": {
          "base_uri": "https://localhost:8080/"
        },
        "id": "FkO5lGzKXaD6",
        "outputId": "cb2ec257-384c-45d4-f2f7-39a3e3636e8d"
      },
      "execution_count": null,
      "outputs": [
        {
          "output_type": "execute_result",
          "data": {
            "text/plain": [
              "1-комнатная           542\n",
              "2-комнатная           529\n",
              "3-комнатная           516\n",
              "квартира-студия       416\n",
              "4-комнатная           355\n",
              "апартаменты-студия    127\n",
              "5-комнатная           115\n",
              "3-комнатные            57\n",
              "6-комнатная            56\n",
              "2-комнатные            45\n",
              "1-комнатные            29\n",
              "4-комнатные            14\n",
              "7-комнатная             8\n",
              "8-комнатная             4\n",
              "6-комнатные             3\n",
              "5-комнатные             2\n",
              "7-комнатные             1\n",
              "Name: rooms, dtype: int64"
            ]
          },
          "metadata": {},
          "execution_count": 20
        }
      ]
    },
    {
      "cell_type": "code",
      "source": [
        "r  = {\n",
        "    '1-комнатная': 1,\n",
        "    '2-комнатная': 2,\n",
        "    '3-комнатная': 3,\n",
        "    '4-комнатная': 4,\n",
        "    '5-комнатная': 5,\n",
        "    '3-комнатные': 3,\n",
        "    '6-комнатная': 6,\n",
        "    '2-комнатные': 2,\n",
        "    '1-комнатные': 1,\n",
        "    '4-комнатные': 4,\n",
        "    '7-комнатная': 7,\n",
        "    '8-комнатная': 8,\n",
        "    '6-комнатные': 6,\n",
        "    '7-комнатные': 7,\n",
        "    'квартира-студия': 0.8,\n",
        "    'апартаменты-студия': 0.8\n",
        "}\n",
        "\n",
        "r_1 = {\n",
        "    'ped': 0,\n",
        "    'bus': 1\n",
        "}\n",
        "\n",
        "df1['rooms'] = df1['rooms'].replace(r)\n",
        "df1['time_type'] = df1['time_type'].replace(r_1)\n",
        "df1['one'] = 1\n",
        "\n",
        "df1"
      ],
      "metadata": {
        "colab": {
          "base_uri": "https://localhost:8080/",
          "height": 756
        },
        "id": "E1ZXgMFwXt_F",
        "outputId": "8ca9e19e-6f67-400f-9046-65b1bfec53b0"
      },
      "execution_count": null,
      "outputs": [
        {
          "output_type": "stream",
          "name": "stderr",
          "text": [
            "<ipython-input-23-b1932e830cb6>:25: SettingWithCopyWarning: \n",
            "A value is trying to be set on a copy of a slice from a DataFrame.\n",
            "Try using .loc[row_indexer,col_indexer] = value instead\n",
            "\n",
            "See the caveats in the documentation: https://pandas.pydata.org/pandas-docs/stable/user_guide/indexing.html#returning-a-view-versus-a-copy\n",
            "  df1['rooms'] = df1['rooms'].replace(r)\n",
            "<ipython-input-23-b1932e830cb6>:26: SettingWithCopyWarning: \n",
            "A value is trying to be set on a copy of a slice from a DataFrame.\n",
            "Try using .loc[row_indexer,col_indexer] = value instead\n",
            "\n",
            "See the caveats in the documentation: https://pandas.pydata.org/pandas-docs/stable/user_guide/indexing.html#returning-a-view-versus-a-copy\n",
            "  df1['time_type'] = df1['time_type'].replace(r_1)\n",
            "<ipython-input-23-b1932e830cb6>:27: SettingWithCopyWarning: \n",
            "A value is trying to be set on a copy of a slice from a DataFrame.\n",
            "Try using .loc[row_indexer,col_indexer] = value instead\n",
            "\n",
            "See the caveats in the documentation: https://pandas.pydata.org/pandas-docs/stable/user_guide/indexing.html#returning-a-view-versus-a-copy\n",
            "  df1['one'] = 1\n"
          ]
        },
        {
          "output_type": "execute_result",
          "data": {
            "text/plain": [
              "      time  time_type  square  rooms  floor  max_floor   price  one\n",
              "0       16          1    27.0    0.8      8         14   39000    1\n",
              "1       24          1    34.0    0.8     10         16   31000    1\n",
              "2       15          0    20.0    0.8     21         32   44000    1\n",
              "3        9          1    16.0    0.8      2          6   38000    1\n",
              "4        3          0    20.0    0.8     12         16   39000    1\n",
              "...    ...        ...     ...    ...    ...        ...     ...  ...\n",
              "2813    16          0   180.0    4.0     13         22  280000    1\n",
              "2815    13          0   402.0    5.0      6         18  500000    1\n",
              "2816     9          0   225.0    4.0     17         57  490000    1\n",
              "2817    19          1    63.0    4.0      6          9   47000    1\n",
              "2818    13          1    80.0    4.0      8          9   75000    1\n",
              "\n",
              "[2792 rows x 8 columns]"
            ],
            "text/html": [
              "\n",
              "  <div id=\"df-36a6b62d-2999-4658-9ca0-c5a8aa44354b\" class=\"colab-df-container\">\n",
              "    <div>\n",
              "<style scoped>\n",
              "    .dataframe tbody tr th:only-of-type {\n",
              "        vertical-align: middle;\n",
              "    }\n",
              "\n",
              "    .dataframe tbody tr th {\n",
              "        vertical-align: top;\n",
              "    }\n",
              "\n",
              "    .dataframe thead th {\n",
              "        text-align: right;\n",
              "    }\n",
              "</style>\n",
              "<table border=\"1\" class=\"dataframe\">\n",
              "  <thead>\n",
              "    <tr style=\"text-align: right;\">\n",
              "      <th></th>\n",
              "      <th>time</th>\n",
              "      <th>time_type</th>\n",
              "      <th>square</th>\n",
              "      <th>rooms</th>\n",
              "      <th>floor</th>\n",
              "      <th>max_floor</th>\n",
              "      <th>price</th>\n",
              "      <th>one</th>\n",
              "    </tr>\n",
              "  </thead>\n",
              "  <tbody>\n",
              "    <tr>\n",
              "      <th>0</th>\n",
              "      <td>16</td>\n",
              "      <td>1</td>\n",
              "      <td>27.0</td>\n",
              "      <td>0.8</td>\n",
              "      <td>8</td>\n",
              "      <td>14</td>\n",
              "      <td>39000</td>\n",
              "      <td>1</td>\n",
              "    </tr>\n",
              "    <tr>\n",
              "      <th>1</th>\n",
              "      <td>24</td>\n",
              "      <td>1</td>\n",
              "      <td>34.0</td>\n",
              "      <td>0.8</td>\n",
              "      <td>10</td>\n",
              "      <td>16</td>\n",
              "      <td>31000</td>\n",
              "      <td>1</td>\n",
              "    </tr>\n",
              "    <tr>\n",
              "      <th>2</th>\n",
              "      <td>15</td>\n",
              "      <td>0</td>\n",
              "      <td>20.0</td>\n",
              "      <td>0.8</td>\n",
              "      <td>21</td>\n",
              "      <td>32</td>\n",
              "      <td>44000</td>\n",
              "      <td>1</td>\n",
              "    </tr>\n",
              "    <tr>\n",
              "      <th>3</th>\n",
              "      <td>9</td>\n",
              "      <td>1</td>\n",
              "      <td>16.0</td>\n",
              "      <td>0.8</td>\n",
              "      <td>2</td>\n",
              "      <td>6</td>\n",
              "      <td>38000</td>\n",
              "      <td>1</td>\n",
              "    </tr>\n",
              "    <tr>\n",
              "      <th>4</th>\n",
              "      <td>3</td>\n",
              "      <td>0</td>\n",
              "      <td>20.0</td>\n",
              "      <td>0.8</td>\n",
              "      <td>12</td>\n",
              "      <td>16</td>\n",
              "      <td>39000</td>\n",
              "      <td>1</td>\n",
              "    </tr>\n",
              "    <tr>\n",
              "      <th>...</th>\n",
              "      <td>...</td>\n",
              "      <td>...</td>\n",
              "      <td>...</td>\n",
              "      <td>...</td>\n",
              "      <td>...</td>\n",
              "      <td>...</td>\n",
              "      <td>...</td>\n",
              "      <td>...</td>\n",
              "    </tr>\n",
              "    <tr>\n",
              "      <th>2813</th>\n",
              "      <td>16</td>\n",
              "      <td>0</td>\n",
              "      <td>180.0</td>\n",
              "      <td>4.0</td>\n",
              "      <td>13</td>\n",
              "      <td>22</td>\n",
              "      <td>280000</td>\n",
              "      <td>1</td>\n",
              "    </tr>\n",
              "    <tr>\n",
              "      <th>2815</th>\n",
              "      <td>13</td>\n",
              "      <td>0</td>\n",
              "      <td>402.0</td>\n",
              "      <td>5.0</td>\n",
              "      <td>6</td>\n",
              "      <td>18</td>\n",
              "      <td>500000</td>\n",
              "      <td>1</td>\n",
              "    </tr>\n",
              "    <tr>\n",
              "      <th>2816</th>\n",
              "      <td>9</td>\n",
              "      <td>0</td>\n",
              "      <td>225.0</td>\n",
              "      <td>4.0</td>\n",
              "      <td>17</td>\n",
              "      <td>57</td>\n",
              "      <td>490000</td>\n",
              "      <td>1</td>\n",
              "    </tr>\n",
              "    <tr>\n",
              "      <th>2817</th>\n",
              "      <td>19</td>\n",
              "      <td>1</td>\n",
              "      <td>63.0</td>\n",
              "      <td>4.0</td>\n",
              "      <td>6</td>\n",
              "      <td>9</td>\n",
              "      <td>47000</td>\n",
              "      <td>1</td>\n",
              "    </tr>\n",
              "    <tr>\n",
              "      <th>2818</th>\n",
              "      <td>13</td>\n",
              "      <td>1</td>\n",
              "      <td>80.0</td>\n",
              "      <td>4.0</td>\n",
              "      <td>8</td>\n",
              "      <td>9</td>\n",
              "      <td>75000</td>\n",
              "      <td>1</td>\n",
              "    </tr>\n",
              "  </tbody>\n",
              "</table>\n",
              "<p>2792 rows × 8 columns</p>\n",
              "</div>\n",
              "    <div class=\"colab-df-buttons\">\n",
              "\n",
              "  <div class=\"colab-df-container\">\n",
              "    <button class=\"colab-df-convert\" onclick=\"convertToInteractive('df-36a6b62d-2999-4658-9ca0-c5a8aa44354b')\"\n",
              "            title=\"Convert this dataframe to an interactive table.\"\n",
              "            style=\"display:none;\">\n",
              "\n",
              "  <svg xmlns=\"http://www.w3.org/2000/svg\" height=\"24px\" viewBox=\"0 -960 960 960\">\n",
              "    <path d=\"M120-120v-720h720v720H120Zm60-500h600v-160H180v160Zm220 220h160v-160H400v160Zm0 220h160v-160H400v160ZM180-400h160v-160H180v160Zm440 0h160v-160H620v160ZM180-180h160v-160H180v160Zm440 0h160v-160H620v160Z\"/>\n",
              "  </svg>\n",
              "    </button>\n",
              "\n",
              "  <style>\n",
              "    .colab-df-container {\n",
              "      display:flex;\n",
              "      gap: 12px;\n",
              "    }\n",
              "\n",
              "    .colab-df-convert {\n",
              "      background-color: #E8F0FE;\n",
              "      border: none;\n",
              "      border-radius: 50%;\n",
              "      cursor: pointer;\n",
              "      display: none;\n",
              "      fill: #1967D2;\n",
              "      height: 32px;\n",
              "      padding: 0 0 0 0;\n",
              "      width: 32px;\n",
              "    }\n",
              "\n",
              "    .colab-df-convert:hover {\n",
              "      background-color: #E2EBFA;\n",
              "      box-shadow: 0px 1px 2px rgba(60, 64, 67, 0.3), 0px 1px 3px 1px rgba(60, 64, 67, 0.15);\n",
              "      fill: #174EA6;\n",
              "    }\n",
              "\n",
              "    .colab-df-buttons div {\n",
              "      margin-bottom: 4px;\n",
              "    }\n",
              "\n",
              "    [theme=dark] .colab-df-convert {\n",
              "      background-color: #3B4455;\n",
              "      fill: #D2E3FC;\n",
              "    }\n",
              "\n",
              "    [theme=dark] .colab-df-convert:hover {\n",
              "      background-color: #434B5C;\n",
              "      box-shadow: 0px 1px 3px 1px rgba(0, 0, 0, 0.15);\n",
              "      filter: drop-shadow(0px 1px 2px rgba(0, 0, 0, 0.3));\n",
              "      fill: #FFFFFF;\n",
              "    }\n",
              "  </style>\n",
              "\n",
              "    <script>\n",
              "      const buttonEl =\n",
              "        document.querySelector('#df-36a6b62d-2999-4658-9ca0-c5a8aa44354b button.colab-df-convert');\n",
              "      buttonEl.style.display =\n",
              "        google.colab.kernel.accessAllowed ? 'block' : 'none';\n",
              "\n",
              "      async function convertToInteractive(key) {\n",
              "        const element = document.querySelector('#df-36a6b62d-2999-4658-9ca0-c5a8aa44354b');\n",
              "        const dataTable =\n",
              "          await google.colab.kernel.invokeFunction('convertToInteractive',\n",
              "                                                    [key], {});\n",
              "        if (!dataTable) return;\n",
              "\n",
              "        const docLinkHtml = 'Like what you see? Visit the ' +\n",
              "          '<a target=\"_blank\" href=https://colab.research.google.com/notebooks/data_table.ipynb>data table notebook</a>'\n",
              "          + ' to learn more about interactive tables.';\n",
              "        element.innerHTML = '';\n",
              "        dataTable['output_type'] = 'display_data';\n",
              "        await google.colab.output.renderOutput(dataTable, element);\n",
              "        const docLink = document.createElement('div');\n",
              "        docLink.innerHTML = docLinkHtml;\n",
              "        element.appendChild(docLink);\n",
              "      }\n",
              "    </script>\n",
              "  </div>\n",
              "\n",
              "\n",
              "<div id=\"df-65830437-de43-4d6d-ab24-28e9dff87a16\">\n",
              "  <button class=\"colab-df-quickchart\" onclick=\"quickchart('df-65830437-de43-4d6d-ab24-28e9dff87a16')\"\n",
              "            title=\"Suggest charts\"\n",
              "            style=\"display:none;\">\n",
              "\n",
              "<svg xmlns=\"http://www.w3.org/2000/svg\" height=\"24px\"viewBox=\"0 0 24 24\"\n",
              "     width=\"24px\">\n",
              "    <g>\n",
              "        <path d=\"M19 3H5c-1.1 0-2 .9-2 2v14c0 1.1.9 2 2 2h14c1.1 0 2-.9 2-2V5c0-1.1-.9-2-2-2zM9 17H7v-7h2v7zm4 0h-2V7h2v10zm4 0h-2v-4h2v4z\"/>\n",
              "    </g>\n",
              "</svg>\n",
              "  </button>\n",
              "\n",
              "<style>\n",
              "  .colab-df-quickchart {\n",
              "      --bg-color: #E8F0FE;\n",
              "      --fill-color: #1967D2;\n",
              "      --hover-bg-color: #E2EBFA;\n",
              "      --hover-fill-color: #174EA6;\n",
              "      --disabled-fill-color: #AAA;\n",
              "      --disabled-bg-color: #DDD;\n",
              "  }\n",
              "\n",
              "  [theme=dark] .colab-df-quickchart {\n",
              "      --bg-color: #3B4455;\n",
              "      --fill-color: #D2E3FC;\n",
              "      --hover-bg-color: #434B5C;\n",
              "      --hover-fill-color: #FFFFFF;\n",
              "      --disabled-bg-color: #3B4455;\n",
              "      --disabled-fill-color: #666;\n",
              "  }\n",
              "\n",
              "  .colab-df-quickchart {\n",
              "    background-color: var(--bg-color);\n",
              "    border: none;\n",
              "    border-radius: 50%;\n",
              "    cursor: pointer;\n",
              "    display: none;\n",
              "    fill: var(--fill-color);\n",
              "    height: 32px;\n",
              "    padding: 0;\n",
              "    width: 32px;\n",
              "  }\n",
              "\n",
              "  .colab-df-quickchart:hover {\n",
              "    background-color: var(--hover-bg-color);\n",
              "    box-shadow: 0 1px 2px rgba(60, 64, 67, 0.3), 0 1px 3px 1px rgba(60, 64, 67, 0.15);\n",
              "    fill: var(--button-hover-fill-color);\n",
              "  }\n",
              "\n",
              "  .colab-df-quickchart-complete:disabled,\n",
              "  .colab-df-quickchart-complete:disabled:hover {\n",
              "    background-color: var(--disabled-bg-color);\n",
              "    fill: var(--disabled-fill-color);\n",
              "    box-shadow: none;\n",
              "  }\n",
              "\n",
              "  .colab-df-spinner {\n",
              "    border: 2px solid var(--fill-color);\n",
              "    border-color: transparent;\n",
              "    border-bottom-color: var(--fill-color);\n",
              "    animation:\n",
              "      spin 1s steps(1) infinite;\n",
              "  }\n",
              "\n",
              "  @keyframes spin {\n",
              "    0% {\n",
              "      border-color: transparent;\n",
              "      border-bottom-color: var(--fill-color);\n",
              "      border-left-color: var(--fill-color);\n",
              "    }\n",
              "    20% {\n",
              "      border-color: transparent;\n",
              "      border-left-color: var(--fill-color);\n",
              "      border-top-color: var(--fill-color);\n",
              "    }\n",
              "    30% {\n",
              "      border-color: transparent;\n",
              "      border-left-color: var(--fill-color);\n",
              "      border-top-color: var(--fill-color);\n",
              "      border-right-color: var(--fill-color);\n",
              "    }\n",
              "    40% {\n",
              "      border-color: transparent;\n",
              "      border-right-color: var(--fill-color);\n",
              "      border-top-color: var(--fill-color);\n",
              "    }\n",
              "    60% {\n",
              "      border-color: transparent;\n",
              "      border-right-color: var(--fill-color);\n",
              "    }\n",
              "    80% {\n",
              "      border-color: transparent;\n",
              "      border-right-color: var(--fill-color);\n",
              "      border-bottom-color: var(--fill-color);\n",
              "    }\n",
              "    90% {\n",
              "      border-color: transparent;\n",
              "      border-bottom-color: var(--fill-color);\n",
              "    }\n",
              "  }\n",
              "</style>\n",
              "\n",
              "  <script>\n",
              "    async function quickchart(key) {\n",
              "      const quickchartButtonEl =\n",
              "        document.querySelector('#' + key + ' button');\n",
              "      quickchartButtonEl.disabled = true;  // To prevent multiple clicks.\n",
              "      quickchartButtonEl.classList.add('colab-df-spinner');\n",
              "      try {\n",
              "        const charts = await google.colab.kernel.invokeFunction(\n",
              "            'suggestCharts', [key], {});\n",
              "      } catch (error) {\n",
              "        console.error('Error during call to suggestCharts:', error);\n",
              "      }\n",
              "      quickchartButtonEl.classList.remove('colab-df-spinner');\n",
              "      quickchartButtonEl.classList.add('colab-df-quickchart-complete');\n",
              "    }\n",
              "    (() => {\n",
              "      let quickchartButtonEl =\n",
              "        document.querySelector('#df-65830437-de43-4d6d-ab24-28e9dff87a16 button');\n",
              "      quickchartButtonEl.style.display =\n",
              "        google.colab.kernel.accessAllowed ? 'block' : 'none';\n",
              "    })();\n",
              "  </script>\n",
              "</div>\n",
              "    </div>\n",
              "  </div>\n"
            ]
          },
          "metadata": {},
          "execution_count": 23
        }
      ]
    },
    {
      "cell_type": "code",
      "source": [
        "X = df1.drop(columns = ['price'])\n",
        "y = df1['price']"
      ],
      "metadata": {
        "id": "usOTYdUAYcP9"
      },
      "execution_count": null,
      "outputs": []
    },
    {
      "cell_type": "code",
      "source": [
        "w = linalg.lstsq(X, y, rcond = None)[0]\n",
        "w"
      ],
      "metadata": {
        "colab": {
          "base_uri": "https://localhost:8080/"
        },
        "id": "bs2OVPJTYndz",
        "outputId": "c28d6499-bfdd-40ba-a78d-f0b4185f2b3f"
      },
      "execution_count": null,
      "outputs": [
        {
          "output_type": "execute_result",
          "data": {
            "text/plain": [
              "array([-2.24157657e+03, -1.84233136e+04,  1.91379493e+03, -1.32679427e+04,\n",
              "        9.76373380e+02,  6.24921497e-01,  3.19081336e+04])"
            ]
          },
          "metadata": {},
          "execution_count": 27
        }
      ]
    },
    {
      "cell_type": "code",
      "source": [
        "y_pred = X.dot(w)"
      ],
      "metadata": {
        "id": "cVJRhWzGZChc"
      },
      "execution_count": null,
      "outputs": []
    },
    {
      "cell_type": "code",
      "source": [
        "calc_mse(y, y_pred), calc_mse(y, y_pred) ** 0.5, calc_r_squared(y, y_pred)"
      ],
      "metadata": {
        "colab": {
          "base_uri": "https://localhost:8080/"
        },
        "id": "My7IlqE8aLHw",
        "outputId": "ba4be0a2-2106-44b3-fa18-586dc550cdf5"
      },
      "execution_count": null,
      "outputs": [
        {
          "output_type": "execute_result",
          "data": {
            "text/plain": [
              "(6432409678.602156, 80202.30469632501, 0.6899513633313189)"
            ]
          },
          "metadata": {},
          "execution_count": 31
        }
      ]
    },
    {
      "cell_type": "code",
      "source": [
        "plt.scatter(df1['square'], df1['price'])\n",
        "plt.scatter(df1['square'], y_pred, color='red');"
      ],
      "metadata": {
        "colab": {
          "base_uri": "https://localhost:8080/",
          "height": 445
        },
        "id": "SbspeOOlbPIF",
        "outputId": "2f3f2f05-ee6d-4e9f-fe2f-2fa5d02057b1"
      },
      "execution_count": null,
      "outputs": [
        {
          "output_type": "display_data",
          "data": {
            "text/plain": [
              "<Figure size 640x480 with 1 Axes>"
            ],
            "image/png": "[encoded data removed]"
          },
          "metadata": {}
        }
      ]
    },
    {
      "cell_type": "code",
      "source": [
        "from sklearn.linear_model import LinearRegression\n",
        "from sklearn.model_selection import train_test_split\n",
        "from sklearn.metrics import mean_squared_error, r2_score"
      ],
      "metadata": {
        "id": "URTx8zlbi9fa"
      },
      "execution_count": null,
      "outputs": []
    },
    {
      "cell_type": "code",
      "source": [
        "df1 = df1.drop(columns = ['one'])"
      ],
      "metadata": {
        "id": "FR_vxSZmjD6b"
      },
      "execution_count": null,
      "outputs": []
    },
    {
      "cell_type": "code",
      "source": [
        "X = df1.drop(columns = ['price'])\n",
        "y = df1['price']"
      ],
      "metadata": {
        "id": "_xJ1c8icjOUT"
      },
      "execution_count": null,
      "outputs": []
    },
    {
      "cell_type": "code",
      "source": [
        "X_train, X_test, y_train, y_test = train_test_split(X, y, test_size=0.15, random_state=42)"
      ],
      "metadata": {
        "id": "Ell-aFujjRz2"
      },
      "execution_count": null,
      "outputs": []
    },
    {
      "cell_type": "code",
      "source": [
        "lr = LinearRegression().fit(X_train, y_train)"
      ],
      "metadata": {
        "id": "B6IBNuQ7jVvc"
      },
      "execution_count": null,
      "outputs": []
    },
    {
      "cell_type": "code",
      "source": [
        "y_pred = lr.predict(X_test)"
      ],
      "metadata": {
        "id": "gce6z_D2jcQd"
      },
      "execution_count": null,
      "outputs": []
    },
    {
      "cell_type": "code",
      "source": [
        "mean_squared_error(y_test, y_pred), mean_squared_error(y_test, y_pred) ** 0.5, r2_score(y_test, y_pred)"
      ],
      "metadata": {
        "colab": {
          "base_uri": "https://localhost:8080/"
        },
        "id": "0NbUJdLFjp0Y",
        "outputId": "883078d3-0018-4e58-9a68-264f9c98ff25"
      },
      "execution_count": null,
      "outputs": [
        {
          "output_type": "execute_result",
          "data": {
            "text/plain": [
              "(6626971310.651099, 81406.211744873, 0.6626714530586844)"
            ]
          },
          "metadata": {},
          "execution_count": 41
        }
      ]
    }
  ],
  "metadata": {
    "kernelspec": {
      "display_name": "Python 3",
      "language": "python",
      "name": "python3"
    },
    "language_info": {
      "codemirror_mode": {
        "name": "ipython",
        "version": 3
      },
      "file_extension": ".py",
      "mimetype": "text/x-python",
      "name": "python",
      "nbconvert_exporter": "python",
      "pygments_lexer": "ipython3",
      "version": "3.8.5"
    },
    "colab": {
      "provenance": [],
      "collapsed_sections": [
        "8BdnUJW570Ic",
        "C7nukHGQ70Id"
      ],
      "include_colab_link": true
    }
  },
  "nbformat": 4,
  "nbformat_minor": 0
}