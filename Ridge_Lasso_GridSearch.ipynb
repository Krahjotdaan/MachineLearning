{
  "nbformat": 4,
  "nbformat_minor": 0,
  "metadata": {
    "colab": {
      "provenance": [],
      "include_colab_link": true
    },
    "kernelspec": {
      "name": "python3",
      "display_name": "Python 3"
    },
    "language_info": {
      "name": "python"
    }
  },
  "cells": [
    {
      "cell_type": "markdown",
      "metadata": {
        "id": "view-in-github",
        "colab_type": "text"
      },
      "source": [
        "<a href=\"https://colab.research.google.com/github/Krahjotdaan/MachineLearning/blob/main/Ridge_Lasso_GridSearch.ipynb\" target=\"_parent\"><img src=\"https://colab.research.google.com/assets/colab-badge.svg\" alt=\"Open In Colab\"/></a>"
      ]
    },
    {
      "cell_type": "markdown",
      "source": [
        "# Регуляризация в линейных моделях"
      ],
      "metadata": {
        "id": "F8N2mLapKYt8"
      }
    },
    {
      "cell_type": "markdown",
      "source": [
        "# Базовая модель"
      ],
      "metadata": {
        "id": "BrO-aJqTMKWo"
      }
    },
    {
      "cell_type": "markdown",
      "source": [
        "Импортируем библиотеки"
      ],
      "metadata": {
        "id": "NLJhKZZIKdN3"
      }
    },
    {
      "cell_type": "code",
      "execution_count": null,
      "metadata": {
        "id": "hS02GZJKKX91"
      },
      "outputs": [],
      "source": [
        "import numpy as np\n",
        "import pandas as pd\n",
        "import matplotlib.pyplot as plt\n",
        "from sklearn.linear_model import LinearRegression\n",
        "from sklearn.metrics import r2_score, mean_squared_error\n",
        "from sklearn.model_selection import train_test_split, cross_val_score"
      ]
    },
    {
      "cell_type": "markdown",
      "source": [
        "Загрузим набор данных"
      ],
      "metadata": {
        "id": "Z1LK5RY4K9UV"
      }
    },
    {
      "cell_type": "code",
      "source": [
        "df = pd.read_csv('communities.csv')\n",
        "df"
      ],
      "metadata": {
        "id": "NvCk4n5lK32R",
        "colab": {
          "base_uri": "https://localhost:8080/",
          "height": 444
        },
        "outputId": "54afe007-d270-4419-81a9-0e9456925ed9"
      },
      "execution_count": null,
      "outputs": [
        {
          "output_type": "execute_result",
          "data": {
            "text/plain": [
              "      population  householdsize  racepctblack  racePctWhite  racePctAsian  \\\n",
              "0           0.19           0.33          0.02          0.90          0.12   \n",
              "1           0.00           0.16          0.12          0.74          0.45   \n",
              "2           0.00           0.42          0.49          0.56          0.17   \n",
              "3           0.04           0.77          1.00          0.08          0.12   \n",
              "4           0.01           0.55          0.02          0.95          0.09   \n",
              "...          ...            ...           ...           ...           ...   \n",
              "1989        0.01           0.40          0.10          0.87          0.12   \n",
              "1990        0.05           0.96          0.46          0.28          0.83   \n",
              "1991        0.16           0.37          0.25          0.69          0.04   \n",
              "1992        0.08           0.51          0.06          0.87          0.22   \n",
              "1993        0.20           0.78          0.14          0.46          0.24   \n",
              "\n",
              "      racePctHisp  agePct12t21  agePct12t29  agePct16t24  agePct65up  ...  \\\n",
              "0            0.17         0.34         0.47         0.29        0.32  ...   \n",
              "1            0.07         0.26         0.59         0.35        0.27  ...   \n",
              "2            0.04         0.39         0.47         0.28        0.32  ...   \n",
              "3            0.10         0.51         0.50         0.34        0.21  ...   \n",
              "4            0.05         0.38         0.38         0.23        0.36  ...   \n",
              "...           ...          ...          ...          ...         ...  ...   \n",
              "1989         0.16         0.43         0.51         0.35        0.30  ...   \n",
              "1990         0.32         0.69         0.86         0.73        0.14  ...   \n",
              "1991         0.25         0.35         0.50         0.31        0.54  ...   \n",
              "1992         0.10         0.58         0.74         0.63        0.41  ...   \n",
              "1993         0.77         0.50         0.62         0.40        0.17  ...   \n",
              "\n",
              "      LandArea  PopDens  PctUsePubTrans  PolicCars  PolicOperBudg  \\\n",
              "0         0.12     0.26            0.20   0.060000       0.040000   \n",
              "1         0.02     0.12            0.45   0.163103       0.076708   \n",
              "2         0.01     0.21            0.02   0.163103       0.076708   \n",
              "3         0.02     0.39            0.28   0.163103       0.076708   \n",
              "4         0.04     0.09            0.02   0.163103       0.076708   \n",
              "...        ...      ...             ...        ...            ...   \n",
              "1989      0.01     0.28            0.05   0.163103       0.076708   \n",
              "1990      0.02     0.37            0.20   0.163103       0.076708   \n",
              "1991      0.08     0.32            0.18   0.080000       0.060000   \n",
              "1992      0.03     0.38            0.33   0.020000       0.020000   \n",
              "1993      0.11     0.30            0.05   0.080000       0.040000   \n",
              "\n",
              "      LemasPctPolicOnPatr  LemasGangUnitDeploy  LemasPctOfficDrugUn  \\\n",
              "0                0.900000             0.500000                 0.32   \n",
              "1                0.698589             0.440439                 0.00   \n",
              "2                0.698589             0.440439                 0.00   \n",
              "3                0.698589             0.440439                 0.00   \n",
              "4                0.698589             0.440439                 0.00   \n",
              "...                   ...                  ...                  ...   \n",
              "1989             0.698589             0.440439                 0.00   \n",
              "1990             0.698589             0.440439                 0.00   \n",
              "1991             0.780000             0.000000                 0.91   \n",
              "1992             0.790000             0.000000                 0.22   \n",
              "1993             0.730000             0.500000                 1.00   \n",
              "\n",
              "      PolicBudgPerPop  ViolentCrimesPerPop  \n",
              "0            0.140000                 0.20  \n",
              "1            0.195078                 0.67  \n",
              "2            0.195078                 0.43  \n",
              "3            0.195078                 0.12  \n",
              "4            0.195078                 0.03  \n",
              "...               ...                  ...  \n",
              "1989         0.195078                 0.09  \n",
              "1990         0.195078                 0.45  \n",
              "1991         0.280000                 0.23  \n",
              "1992         0.180000                 0.19  \n",
              "1993         0.130000                 0.48  \n",
              "\n",
              "[1994 rows x 123 columns]"
            ],
            "text/html": [
              "\n",
              "  <div id=\"df-d78b72b4-78fc-4b9b-8428-42b8d7944c49\" class=\"colab-df-container\">\n",
              "    <div>\n",
              "<style scoped>\n",
              "    .dataframe tbody tr th:only-of-type {\n",
              "        vertical-align: middle;\n",
              "    }\n",
              "\n",
              "    .dataframe tbody tr th {\n",
              "        vertical-align: top;\n",
              "    }\n",
              "\n",
              "    .dataframe thead th {\n",
              "        text-align: right;\n",
              "    }\n",
              "</style>\n",
              "<table border=\"1\" class=\"dataframe\">\n",
              "  <thead>\n",
              "    <tr style=\"text-align: right;\">\n",
              "      <th></th>\n",
              "      <th>population</th>\n",
              "      <th>householdsize</th>\n",
              "      <th>racepctblack</th>\n",
              "      <th>racePctWhite</th>\n",
              "      <th>racePctAsian</th>\n",
              "      <th>racePctHisp</th>\n",
              "      <th>agePct12t21</th>\n",
              "      <th>agePct12t29</th>\n",
              "      <th>agePct16t24</th>\n",
              "      <th>agePct65up</th>\n",
              "      <th>...</th>\n",
              "      <th>LandArea</th>\n",
              "      <th>PopDens</th>\n",
              "      <th>PctUsePubTrans</th>\n",
              "      <th>PolicCars</th>\n",
              "      <th>PolicOperBudg</th>\n",
              "      <th>LemasPctPolicOnPatr</th>\n",
              "      <th>LemasGangUnitDeploy</th>\n",
              "      <th>LemasPctOfficDrugUn</th>\n",
              "      <th>PolicBudgPerPop</th>\n",
              "      <th>ViolentCrimesPerPop</th>\n",
              "    </tr>\n",
              "  </thead>\n",
              "  <tbody>\n",
              "    <tr>\n",
              "      <th>0</th>\n",
              "      <td>0.19</td>\n",
              "      <td>0.33</td>\n",
              "      <td>0.02</td>\n",
              "      <td>0.90</td>\n",
              "      <td>0.12</td>\n",
              "      <td>0.17</td>\n",
              "      <td>0.34</td>\n",
              "      <td>0.47</td>\n",
              "      <td>0.29</td>\n",
              "      <td>0.32</td>\n",
              "      <td>...</td>\n",
              "      <td>0.12</td>\n",
              "      <td>0.26</td>\n",
              "      <td>0.20</td>\n",
              "      <td>0.060000</td>\n",
              "      <td>0.040000</td>\n",
              "      <td>0.900000</td>\n",
              "      <td>0.500000</td>\n",
              "      <td>0.32</td>\n",
              "      <td>0.140000</td>\n",
              "      <td>0.20</td>\n",
              "    </tr>\n",
              "    <tr>\n",
              "      <th>1</th>\n",
              "      <td>0.00</td>\n",
              "      <td>0.16</td>\n",
              "      <td>0.12</td>\n",
              "      <td>0.74</td>\n",
              "      <td>0.45</td>\n",
              "      <td>0.07</td>\n",
              "      <td>0.26</td>\n",
              "      <td>0.59</td>\n",
              "      <td>0.35</td>\n",
              "      <td>0.27</td>\n",
              "      <td>...</td>\n",
              "      <td>0.02</td>\n",
              "      <td>0.12</td>\n",
              "      <td>0.45</td>\n",
              "      <td>0.163103</td>\n",
              "      <td>0.076708</td>\n",
              "      <td>0.698589</td>\n",
              "      <td>0.440439</td>\n",
              "      <td>0.00</td>\n",
              "      <td>0.195078</td>\n",
              "      <td>0.67</td>\n",
              "    </tr>\n",
              "    <tr>\n",
              "      <th>2</th>\n",
              "      <td>0.00</td>\n",
              "      <td>0.42</td>\n",
              "      <td>0.49</td>\n",
              "      <td>0.56</td>\n",
              "      <td>0.17</td>\n",
              "      <td>0.04</td>\n",
              "      <td>0.39</td>\n",
              "      <td>0.47</td>\n",
              "      <td>0.28</td>\n",
              "      <td>0.32</td>\n",
              "      <td>...</td>\n",
              "      <td>0.01</td>\n",
              "      <td>0.21</td>\n",
              "      <td>0.02</td>\n",
              "      <td>0.163103</td>\n",
              "      <td>0.076708</td>\n",
              "      <td>0.698589</td>\n",
              "      <td>0.440439</td>\n",
              "      <td>0.00</td>\n",
              "      <td>0.195078</td>\n",
              "      <td>0.43</td>\n",
              "    </tr>\n",
              "    <tr>\n",
              "      <th>3</th>\n",
              "      <td>0.04</td>\n",
              "      <td>0.77</td>\n",
              "      <td>1.00</td>\n",
              "      <td>0.08</td>\n",
              "      <td>0.12</td>\n",
              "      <td>0.10</td>\n",
              "      <td>0.51</td>\n",
              "      <td>0.50</td>\n",
              "      <td>0.34</td>\n",
              "      <td>0.21</td>\n",
              "      <td>...</td>\n",
              "      <td>0.02</td>\n",
              "      <td>0.39</td>\n",
              "      <td>0.28</td>\n",
              "      <td>0.163103</td>\n",
              "      <td>0.076708</td>\n",
              "      <td>0.698589</td>\n",
              "      <td>0.440439</td>\n",
              "      <td>0.00</td>\n",
              "      <td>0.195078</td>\n",
              "      <td>0.12</td>\n",
              "    </tr>\n",
              "    <tr>\n",
              "      <th>4</th>\n",
              "      <td>0.01</td>\n",
              "      <td>0.55</td>\n",
              "      <td>0.02</td>\n",
              "      <td>0.95</td>\n",
              "      <td>0.09</td>\n",
              "      <td>0.05</td>\n",
              "      <td>0.38</td>\n",
              "      <td>0.38</td>\n",
              "      <td>0.23</td>\n",
              "      <td>0.36</td>\n",
              "      <td>...</td>\n",
              "      <td>0.04</td>\n",
              "      <td>0.09</td>\n",
              "      <td>0.02</td>\n",
              "      <td>0.163103</td>\n",
              "      <td>0.076708</td>\n",
              "      <td>0.698589</td>\n",
              "      <td>0.440439</td>\n",
              "      <td>0.00</td>\n",
              "      <td>0.195078</td>\n",
              "      <td>0.03</td>\n",
              "    </tr>\n",
              "    <tr>\n",
              "      <th>...</th>\n",
              "      <td>...</td>\n",
              "      <td>...</td>\n",
              "      <td>...</td>\n",
              "      <td>...</td>\n",
              "      <td>...</td>\n",
              "      <td>...</td>\n",
              "      <td>...</td>\n",
              "      <td>...</td>\n",
              "      <td>...</td>\n",
              "      <td>...</td>\n",
              "      <td>...</td>\n",
              "      <td>...</td>\n",
              "      <td>...</td>\n",
              "      <td>...</td>\n",
              "      <td>...</td>\n",
              "      <td>...</td>\n",
              "      <td>...</td>\n",
              "      <td>...</td>\n",
              "      <td>...</td>\n",
              "      <td>...</td>\n",
              "      <td>...</td>\n",
              "    </tr>\n",
              "    <tr>\n",
              "      <th>1989</th>\n",
              "      <td>0.01</td>\n",
              "      <td>0.40</td>\n",
              "      <td>0.10</td>\n",
              "      <td>0.87</td>\n",
              "      <td>0.12</td>\n",
              "      <td>0.16</td>\n",
              "      <td>0.43</td>\n",
              "      <td>0.51</td>\n",
              "      <td>0.35</td>\n",
              "      <td>0.30</td>\n",
              "      <td>...</td>\n",
              "      <td>0.01</td>\n",
              "      <td>0.28</td>\n",
              "      <td>0.05</td>\n",
              "      <td>0.163103</td>\n",
              "      <td>0.076708</td>\n",
              "      <td>0.698589</td>\n",
              "      <td>0.440439</td>\n",
              "      <td>0.00</td>\n",
              "      <td>0.195078</td>\n",
              "      <td>0.09</td>\n",
              "    </tr>\n",
              "    <tr>\n",
              "      <th>1990</th>\n",
              "      <td>0.05</td>\n",
              "      <td>0.96</td>\n",
              "      <td>0.46</td>\n",
              "      <td>0.28</td>\n",
              "      <td>0.83</td>\n",
              "      <td>0.32</td>\n",
              "      <td>0.69</td>\n",
              "      <td>0.86</td>\n",
              "      <td>0.73</td>\n",
              "      <td>0.14</td>\n",
              "      <td>...</td>\n",
              "      <td>0.02</td>\n",
              "      <td>0.37</td>\n",
              "      <td>0.20</td>\n",
              "      <td>0.163103</td>\n",
              "      <td>0.076708</td>\n",
              "      <td>0.698589</td>\n",
              "      <td>0.440439</td>\n",
              "      <td>0.00</td>\n",
              "      <td>0.195078</td>\n",
              "      <td>0.45</td>\n",
              "    </tr>\n",
              "    <tr>\n",
              "      <th>1991</th>\n",
              "      <td>0.16</td>\n",
              "      <td>0.37</td>\n",
              "      <td>0.25</td>\n",
              "      <td>0.69</td>\n",
              "      <td>0.04</td>\n",
              "      <td>0.25</td>\n",
              "      <td>0.35</td>\n",
              "      <td>0.50</td>\n",
              "      <td>0.31</td>\n",
              "      <td>0.54</td>\n",
              "      <td>...</td>\n",
              "      <td>0.08</td>\n",
              "      <td>0.32</td>\n",
              "      <td>0.18</td>\n",
              "      <td>0.080000</td>\n",
              "      <td>0.060000</td>\n",
              "      <td>0.780000</td>\n",
              "      <td>0.000000</td>\n",
              "      <td>0.91</td>\n",
              "      <td>0.280000</td>\n",
              "      <td>0.23</td>\n",
              "    </tr>\n",
              "    <tr>\n",
              "      <th>1992</th>\n",
              "      <td>0.08</td>\n",
              "      <td>0.51</td>\n",
              "      <td>0.06</td>\n",
              "      <td>0.87</td>\n",
              "      <td>0.22</td>\n",
              "      <td>0.10</td>\n",
              "      <td>0.58</td>\n",
              "      <td>0.74</td>\n",
              "      <td>0.63</td>\n",
              "      <td>0.41</td>\n",
              "      <td>...</td>\n",
              "      <td>0.03</td>\n",
              "      <td>0.38</td>\n",
              "      <td>0.33</td>\n",
              "      <td>0.020000</td>\n",
              "      <td>0.020000</td>\n",
              "      <td>0.790000</td>\n",
              "      <td>0.000000</td>\n",
              "      <td>0.22</td>\n",
              "      <td>0.180000</td>\n",
              "      <td>0.19</td>\n",
              "    </tr>\n",
              "    <tr>\n",
              "      <th>1993</th>\n",
              "      <td>0.20</td>\n",
              "      <td>0.78</td>\n",
              "      <td>0.14</td>\n",
              "      <td>0.46</td>\n",
              "      <td>0.24</td>\n",
              "      <td>0.77</td>\n",
              "      <td>0.50</td>\n",
              "      <td>0.62</td>\n",
              "      <td>0.40</td>\n",
              "      <td>0.17</td>\n",
              "      <td>...</td>\n",
              "      <td>0.11</td>\n",
              "      <td>0.30</td>\n",
              "      <td>0.05</td>\n",
              "      <td>0.080000</td>\n",
              "      <td>0.040000</td>\n",
              "      <td>0.730000</td>\n",
              "      <td>0.500000</td>\n",
              "      <td>1.00</td>\n",
              "      <td>0.130000</td>\n",
              "      <td>0.48</td>\n",
              "    </tr>\n",
              "  </tbody>\n",
              "</table>\n",
              "<p>1994 rows × 123 columns</p>\n",
              "</div>\n",
              "    <div class=\"colab-df-buttons\">\n",
              "\n",
              "  <div class=\"colab-df-container\">\n",
              "    <button class=\"colab-df-convert\" onclick=\"convertToInteractive('df-d78b72b4-78fc-4b9b-8428-42b8d7944c49')\"\n",
              "            title=\"Convert this dataframe to an interactive table.\"\n",
              "            style=\"display:none;\">\n",
              "\n",
              "  <svg xmlns=\"http://www.w3.org/2000/svg\" height=\"24px\" viewBox=\"0 -960 960 960\">\n",
              "    <path d=\"M120-120v-720h720v720H120Zm60-500h600v-160H180v160Zm220 220h160v-160H400v160Zm0 220h160v-160H400v160ZM180-400h160v-160H180v160Zm440 0h160v-160H620v160ZM180-180h160v-160H180v160Zm440 0h160v-160H620v160Z\"/>\n",
              "  </svg>\n",
              "    </button>\n",
              "\n",
              "  <style>\n",
              "    .colab-df-container {\n",
              "      display:flex;\n",
              "      gap: 12px;\n",
              "    }\n",
              "\n",
              "    .colab-df-convert {\n",
              "      background-color: #E8F0FE;\n",
              "      border: none;\n",
              "      border-radius: 50%;\n",
              "      cursor: pointer;\n",
              "      display: none;\n",
              "      fill: #1967D2;\n",
              "      height: 32px;\n",
              "      padding: 0 0 0 0;\n",
              "      width: 32px;\n",
              "    }\n",
              "\n",
              "    .colab-df-convert:hover {\n",
              "      background-color: #E2EBFA;\n",
              "      box-shadow: 0px 1px 2px rgba(60, 64, 67, 0.3), 0px 1px 3px 1px rgba(60, 64, 67, 0.15);\n",
              "      fill: #174EA6;\n",
              "    }\n",
              "\n",
              "    .colab-df-buttons div {\n",
              "      margin-bottom: 4px;\n",
              "    }\n",
              "\n",
              "    [theme=dark] .colab-df-convert {\n",
              "      background-color: #3B4455;\n",
              "      fill: #D2E3FC;\n",
              "    }\n",
              "\n",
              "    [theme=dark] .colab-df-convert:hover {\n",
              "      background-color: #434B5C;\n",
              "      box-shadow: 0px 1px 3px 1px rgba(0, 0, 0, 0.15);\n",
              "      filter: drop-shadow(0px 1px 2px rgba(0, 0, 0, 0.3));\n",
              "      fill: #FFFFFF;\n",
              "    }\n",
              "  </style>\n",
              "\n",
              "    <script>\n",
              "      const buttonEl =\n",
              "        document.querySelector('#df-d78b72b4-78fc-4b9b-8428-42b8d7944c49 button.colab-df-convert');\n",
              "      buttonEl.style.display =\n",
              "        google.colab.kernel.accessAllowed ? 'block' : 'none';\n",
              "\n",
              "      async function convertToInteractive(key) {\n",
              "        const element = document.querySelector('#df-d78b72b4-78fc-4b9b-8428-42b8d7944c49');\n",
              "        const dataTable =\n",
              "          await google.colab.kernel.invokeFunction('convertToInteractive',\n",
              "                                                    [key], {});\n",
              "        if (!dataTable) return;\n",
              "\n",
              "        const docLinkHtml = 'Like what you see? Visit the ' +\n",
              "          '<a target=\"_blank\" href=https://colab.research.google.com/notebooks/data_table.ipynb>data table notebook</a>'\n",
              "          + ' to learn more about interactive tables.';\n",
              "        element.innerHTML = '';\n",
              "        dataTable['output_type'] = 'display_data';\n",
              "        await google.colab.output.renderOutput(dataTable, element);\n",
              "        const docLink = document.createElement('div');\n",
              "        docLink.innerHTML = docLinkHtml;\n",
              "        element.appendChild(docLink);\n",
              "      }\n",
              "    </script>\n",
              "  </div>\n",
              "\n",
              "\n",
              "<div id=\"df-bc1ce331-4e29-43cd-9a1c-a8e23f6180e8\">\n",
              "  <button class=\"colab-df-quickchart\" onclick=\"quickchart('df-bc1ce331-4e29-43cd-9a1c-a8e23f6180e8')\"\n",
              "            title=\"Suggest charts\"\n",
              "            style=\"display:none;\">\n",
              "\n",
              "<svg xmlns=\"http://www.w3.org/2000/svg\" height=\"24px\"viewBox=\"0 0 24 24\"\n",
              "     width=\"24px\">\n",
              "    <g>\n",
              "        <path d=\"M19 3H5c-1.1 0-2 .9-2 2v14c0 1.1.9 2 2 2h14c1.1 0 2-.9 2-2V5c0-1.1-.9-2-2-2zM9 17H7v-7h2v7zm4 0h-2V7h2v10zm4 0h-2v-4h2v4z\"/>\n",
              "    </g>\n",
              "</svg>\n",
              "  </button>\n",
              "\n",
              "<style>\n",
              "  .colab-df-quickchart {\n",
              "      --bg-color: #E8F0FE;\n",
              "      --fill-color: #1967D2;\n",
              "      --hover-bg-color: #E2EBFA;\n",
              "      --hover-fill-color: #174EA6;\n",
              "      --disabled-fill-color: #AAA;\n",
              "      --disabled-bg-color: #DDD;\n",
              "  }\n",
              "\n",
              "  [theme=dark] .colab-df-quickchart {\n",
              "      --bg-color: #3B4455;\n",
              "      --fill-color: #D2E3FC;\n",
              "      --hover-bg-color: #434B5C;\n",
              "      --hover-fill-color: #FFFFFF;\n",
              "      --disabled-bg-color: #3B4455;\n",
              "      --disabled-fill-color: #666;\n",
              "  }\n",
              "\n",
              "  .colab-df-quickchart {\n",
              "    background-color: var(--bg-color);\n",
              "    border: none;\n",
              "    border-radius: 50%;\n",
              "    cursor: pointer;\n",
              "    display: none;\n",
              "    fill: var(--fill-color);\n",
              "    height: 32px;\n",
              "    padding: 0;\n",
              "    width: 32px;\n",
              "  }\n",
              "\n",
              "  .colab-df-quickchart:hover {\n",
              "    background-color: var(--hover-bg-color);\n",
              "    box-shadow: 0 1px 2px rgba(60, 64, 67, 0.3), 0 1px 3px 1px rgba(60, 64, 67, 0.15);\n",
              "    fill: var(--button-hover-fill-color);\n",
              "  }\n",
              "\n",
              "  .colab-df-quickchart-complete:disabled,\n",
              "  .colab-df-quickchart-complete:disabled:hover {\n",
              "    background-color: var(--disabled-bg-color);\n",
              "    fill: var(--disabled-fill-color);\n",
              "    box-shadow: none;\n",
              "  }\n",
              "\n",
              "  .colab-df-spinner {\n",
              "    border: 2px solid var(--fill-color);\n",
              "    border-color: transparent;\n",
              "    border-bottom-color: var(--fill-color);\n",
              "    animation:\n",
              "      spin 1s steps(1) infinite;\n",
              "  }\n",
              "\n",
              "  @keyframes spin {\n",
              "    0% {\n",
              "      border-color: transparent;\n",
              "      border-bottom-color: var(--fill-color);\n",
              "      border-left-color: var(--fill-color);\n",
              "    }\n",
              "    20% {\n",
              "      border-color: transparent;\n",
              "      border-left-color: var(--fill-color);\n",
              "      border-top-color: var(--fill-color);\n",
              "    }\n",
              "    30% {\n",
              "      border-color: transparent;\n",
              "      border-left-color: var(--fill-color);\n",
              "      border-top-color: var(--fill-color);\n",
              "      border-right-color: var(--fill-color);\n",
              "    }\n",
              "    40% {\n",
              "      border-color: transparent;\n",
              "      border-right-color: var(--fill-color);\n",
              "      border-top-color: var(--fill-color);\n",
              "    }\n",
              "    60% {\n",
              "      border-color: transparent;\n",
              "      border-right-color: var(--fill-color);\n",
              "    }\n",
              "    80% {\n",
              "      border-color: transparent;\n",
              "      border-right-color: var(--fill-color);\n",
              "      border-bottom-color: var(--fill-color);\n",
              "    }\n",
              "    90% {\n",
              "      border-color: transparent;\n",
              "      border-bottom-color: var(--fill-color);\n",
              "    }\n",
              "  }\n",
              "</style>\n",
              "\n",
              "  <script>\n",
              "    async function quickchart(key) {\n",
              "      const quickchartButtonEl =\n",
              "        document.querySelector('#' + key + ' button');\n",
              "      quickchartButtonEl.disabled = true;  // To prevent multiple clicks.\n",
              "      quickchartButtonEl.classList.add('colab-df-spinner');\n",
              "      try {\n",
              "        const charts = await google.colab.kernel.invokeFunction(\n",
              "            'suggestCharts', [key], {});\n",
              "      } catch (error) {\n",
              "        console.error('Error during call to suggestCharts:', error);\n",
              "      }\n",
              "      quickchartButtonEl.classList.remove('colab-df-spinner');\n",
              "      quickchartButtonEl.classList.add('colab-df-quickchart-complete');\n",
              "    }\n",
              "    (() => {\n",
              "      let quickchartButtonEl =\n",
              "        document.querySelector('#df-bc1ce331-4e29-43cd-9a1c-a8e23f6180e8 button');\n",
              "      quickchartButtonEl.style.display =\n",
              "        google.colab.kernel.accessAllowed ? 'block' : 'none';\n",
              "    })();\n",
              "  </script>\n",
              "</div>\n",
              "    </div>\n",
              "  </div>\n"
            ]
          },
          "metadata": {},
          "execution_count": 2
        }
      ]
    },
    {
      "cell_type": "code",
      "source": [
        "df.isna().sum().sum()"
      ],
      "metadata": {
        "id": "Ux49cvf1LDxI",
        "colab": {
          "base_uri": "https://localhost:8080/"
        },
        "outputId": "4d5a3e90-02be-46a7-ea93-2c08995fefb1"
      },
      "execution_count": null,
      "outputs": [
        {
          "output_type": "execute_result",
          "data": {
            "text/plain": [
              "0"
            ]
          },
          "metadata": {},
          "execution_count": 3
        }
      ]
    },
    {
      "cell_type": "markdown",
      "source": [
        "Сформируем матрицу X и вектор y"
      ],
      "metadata": {
        "id": "S4EXK--FLRqr"
      }
    },
    {
      "cell_type": "code",
      "source": [
        "y = df['ViolentCrimesPerPop']\n",
        "X = df.drop(columns = ['ViolentCrimesPerPop'])"
      ],
      "metadata": {
        "id": "5vhcMYxJLHvA"
      },
      "execution_count": null,
      "outputs": []
    },
    {
      "cell_type": "markdown",
      "source": [
        "Разделим данные на Train и Test"
      ],
      "metadata": {
        "id": "fiED3uCcLqU3"
      }
    },
    {
      "cell_type": "code",
      "source": [
        "X_train, X_test, y_train, y_test = train_test_split(X, y, test_size=0.25, random_state=11)"
      ],
      "metadata": {
        "id": "Ighyo_DKLqo0"
      },
      "execution_count": null,
      "outputs": []
    },
    {
      "cell_type": "markdown",
      "source": [
        "Создадим и обучим модель линейной регрессии"
      ],
      "metadata": {
        "id": "pFWLLM6jLVzP"
      }
    },
    {
      "cell_type": "code",
      "source": [
        "lr = LinearRegression().fit(X_train, y_train)"
      ],
      "metadata": {
        "id": "pTE8h6AsLZbB"
      },
      "execution_count": null,
      "outputs": []
    },
    {
      "cell_type": "code",
      "source": [
        "y_pred_train = lr.predict(X_train)\n",
        "y_pred_test = lr.predict(X_test)"
      ],
      "metadata": {
        "id": "eU1UMpZyYemj"
      },
      "execution_count": null,
      "outputs": []
    },
    {
      "cell_type": "code",
      "source": [
        "print('Train: ', mean_squared_error(y_pred_train, y_train) ** 0.5, r2_score(y_pred_train, y_train))\n",
        "print('Test: ', mean_squared_error(y_pred_test, y_test) ** 0.5, r2_score(y_pred_test, y_test))"
      ],
      "metadata": {
        "colab": {
          "base_uri": "https://localhost:8080/"
        },
        "id": "QLY8MWxFY-CP",
        "outputId": "2a6f98ae-9b65-4032-9a6f-c925c39ebacd"
      },
      "execution_count": null,
      "outputs": [
        {
          "output_type": "stream",
          "name": "stdout",
          "text": [
            "Train:  0.12512367383838782 0.5781888116454542\n",
            "Test:  1.0148812665765286 -0.030031748742015196\n"
          ]
        }
      ]
    },
    {
      "cell_type": "markdown",
      "source": [
        "Работа с коэффициентами LR"
      ],
      "metadata": {
        "id": "T3cm4rS5LzXS"
      }
    },
    {
      "cell_type": "code",
      "source": [
        "lr.coef_[:10]"
      ],
      "metadata": {
        "id": "TXHJSbb4MSst",
        "colab": {
          "base_uri": "https://localhost:8080/"
        },
        "outputId": "286c90cc-58a0-4fd1-dcb5-bbb935dca5ee"
      },
      "execution_count": null,
      "outputs": [
        {
          "output_type": "execute_result",
          "data": {
            "text/plain": [
              "array([ 0.63687973, -0.06017736,  0.19459413, -0.04789801, -0.01455606,\n",
              "        0.02610605,  0.1067538 , -0.11580683, -0.19510809,  0.00938422])"
            ]
          },
          "metadata": {},
          "execution_count": 13
        }
      ]
    },
    {
      "cell_type": "code",
      "source": [
        "list(zip(X.columns, lr.coef_))[:10]"
      ],
      "metadata": {
        "colab": {
          "base_uri": "https://localhost:8080/"
        },
        "id": "YfeaTzW4dYVH",
        "outputId": "9fbedda3-6cb4-4b66-dec1-c7c8f128814e"
      },
      "execution_count": null,
      "outputs": [
        {
          "output_type": "execute_result",
          "data": {
            "text/plain": [
              "[('population', 0.636879732261416),\n",
              " ('householdsize', -0.06017736131882401),\n",
              " ('racepctblack', 0.19459412960814174),\n",
              " ('racePctWhite', -0.04789800561697154),\n",
              " ('racePctAsian', -0.014556055346417407),\n",
              " ('racePctHisp', 0.026106045609769257),\n",
              " ('agePct12t21', 0.10675380047845245),\n",
              " ('agePct12t29', -0.11580683105761064),\n",
              " ('agePct16t24', -0.19510809088788827),\n",
              " ('agePct65up', 0.009384222706693923)]"
            ]
          },
          "metadata": {},
          "execution_count": 14
        }
      ]
    },
    {
      "cell_type": "code",
      "source": [
        "sorted(list(zip(X.columns, lr.coef_)), key = lambda x: x[1])[-10:]"
      ],
      "metadata": {
        "colab": {
          "base_uri": "https://localhost:8080/"
        },
        "id": "A2KvPNwTdfYL",
        "outputId": "430d940f-0f72-4e12-c10f-33be879b9b43"
      },
      "execution_count": null,
      "outputs": [
        {
          "output_type": "execute_result",
          "data": {
            "text/plain": [
              "[('MedRent', 0.24932780986984607),\n",
              " ('PctPersDenseHous', 0.27535047978412175),\n",
              " ('PolicReqPerOffic', 0.29369481496861466),\n",
              " ('MalePctDivorce', 0.32815203629055334),\n",
              " ('PctHousOwnOcc', 0.5193875950093884),\n",
              " ('population', 0.636879732261416),\n",
              " ('PersPerOccupHous', 0.6786111393574492),\n",
              " ('PolicOperBudg', 0.84015992225309),\n",
              " ('LemasSwFTFieldPerPop', 0.9903995079032359),\n",
              " ('LemasSwFTPerPop', 2213.649003225676)]"
            ]
          },
          "metadata": {},
          "execution_count": 17
        }
      ]
    },
    {
      "cell_type": "code",
      "source": [
        "df['LemasSwFTPerPop']"
      ],
      "metadata": {
        "colab": {
          "base_uri": "https://localhost:8080/"
        },
        "id": "mIoRl0iZelkU",
        "outputId": "8224a2db-c9f5-499f-bb6a-9f76aed1bb7e"
      },
      "execution_count": null,
      "outputs": [
        {
          "output_type": "execute_result",
          "data": {
            "text/plain": [
              "0       0.130000\n",
              "1       0.217461\n",
              "2       0.217461\n",
              "3       0.217461\n",
              "4       0.217461\n",
              "          ...   \n",
              "1989    0.217461\n",
              "1990    0.217461\n",
              "1991    0.300000\n",
              "1992    0.250000\n",
              "1993    0.110000\n",
              "Name: LemasSwFTPerPop, Length: 1994, dtype: float64"
            ]
          },
          "metadata": {},
          "execution_count": 20
        }
      ]
    },
    {
      "cell_type": "code",
      "source": [
        "df['PolicPerPop']"
      ],
      "metadata": {
        "colab": {
          "base_uri": "https://localhost:8080/"
        },
        "id": "4-RxQVxCem6k",
        "outputId": "d588102b-7980-4356-8456-1490e16a6f8e"
      },
      "execution_count": null,
      "outputs": [
        {
          "output_type": "execute_result",
          "data": {
            "text/plain": [
              "0       0.130000\n",
              "1       0.217492\n",
              "2       0.217492\n",
              "3       0.217492\n",
              "4       0.217492\n",
              "          ...   \n",
              "1989    0.217492\n",
              "1990    0.217492\n",
              "1991    0.300000\n",
              "1992    0.250000\n",
              "1993    0.110000\n",
              "Name: PolicPerPop, Length: 1994, dtype: float64"
            ]
          },
          "metadata": {},
          "execution_count": 21
        }
      ]
    },
    {
      "cell_type": "markdown",
      "source": [
        "# Корреляция"
      ],
      "metadata": {
        "id": "_TfNRt8JMPlq"
      }
    },
    {
      "cell_type": "code",
      "source": [
        "df['LemasSwFTPerPop'].corr(df['PolicPerPop'])"
      ],
      "metadata": {
        "id": "w-k5PY7dMXrD",
        "colab": {
          "base_uri": "https://localhost:8080/"
        },
        "outputId": "b8b17484-d59c-4cd2-cabe-9e04f638be82"
      },
      "execution_count": null,
      "outputs": [
        {
          "output_type": "execute_result",
          "data": {
            "text/plain": [
              "0.9999938757673811"
            ]
          },
          "metadata": {},
          "execution_count": 22
        }
      ]
    },
    {
      "cell_type": "code",
      "source": [
        "X.corr()"
      ],
      "metadata": {
        "colab": {
          "base_uri": "https://localhost:8080/",
          "height": 444
        },
        "id": "Fp9N7jYFe8-g",
        "outputId": "f85a0f8e-3324-4383-800e-73c53214a526"
      },
      "execution_count": null,
      "outputs": [
        {
          "output_type": "execute_result",
          "data": {
            "text/plain": [
              "                     population  householdsize  racepctblack  racePctWhite  \\\n",
              "population             1.000000      -0.046148      0.231178     -0.300845   \n",
              "householdsize         -0.046148       1.000000     -0.067109     -0.235907   \n",
              "racepctblack           0.231178      -0.067109      1.000000     -0.794389   \n",
              "racePctWhite          -0.300845      -0.235907     -0.794389      1.000000   \n",
              "racePctAsian           0.181603       0.201996     -0.106738     -0.270266   \n",
              "...                         ...            ...           ...           ...   \n",
              "PolicOperBudg          0.595543      -0.007584      0.083179     -0.114860   \n",
              "LemasPctPolicOnPatr   -0.061583      -0.006426     -0.082660      0.052940   \n",
              "LemasGangUnitDeploy    0.076527      -0.000280      0.010987     -0.033209   \n",
              "LemasPctOfficDrugUn    0.466352      -0.094368      0.260793     -0.276234   \n",
              "PolicBudgPerPop       -0.035576      -0.054562      0.022237     -0.006323   \n",
              "\n",
              "                     racePctAsian  racePctHisp  agePct12t21  agePct12t29  \\\n",
              "population               0.181603     0.156218     0.006368     0.130344   \n",
              "householdsize            0.201996     0.468659     0.520461     0.367338   \n",
              "racepctblack            -0.106738    -0.066581     0.122338     0.153475   \n",
              "racePctWhite            -0.270266    -0.444166    -0.194015    -0.266852   \n",
              "racePctAsian             1.000000     0.266743    -0.025020     0.100727   \n",
              "...                           ...          ...          ...          ...   \n",
              "PolicOperBudg            0.067745     0.060263    -0.017679     0.012647   \n",
              "LemasPctPolicOnPatr      0.032389     0.024366     0.000652     0.013327   \n",
              "LemasGangUnitDeploy      0.065424     0.025956     0.011271     0.005145   \n",
              "LemasPctOfficDrugUn      0.101888     0.125353     0.001301     0.117290   \n",
              "PolicBudgPerPop         -0.011619     0.002234    -0.076589    -0.068575   \n",
              "\n",
              "                     agePct16t24  agePct65up  ...  PolicAveOTWorked  LandArea  \\\n",
              "population              0.075596   -0.102006  ...          0.116820  0.713652   \n",
              "householdsize           0.295225   -0.612666  ...          0.034583 -0.015078   \n",
              "racepctblack            0.134068    0.052934  ...         -0.051876  0.149758   \n",
              "racePctWhite           -0.183804    0.136483  ...         -0.026824 -0.131389   \n",
              "racePctAsian            0.052761   -0.272020  ...          0.133093 -0.001084   \n",
              "...                          ...         ...  ...               ...       ...   \n",
              "PolicOperBudg          -0.001258   -0.026586  ...          0.115837  0.399946   \n",
              "LemasPctPolicOnPatr     0.013687    0.005601  ...          0.019668 -0.067678   \n",
              "LemasGangUnitDeploy    -0.001001   -0.042756  ...          0.110277  0.109830   \n",
              "LemasPctOfficDrugUn     0.083180   -0.010168  ...         -0.028096  0.299632   \n",
              "PolicBudgPerPop        -0.049876    0.076586  ...          0.044429 -0.113166   \n",
              "\n",
              "                      PopDens  PctUsePubTrans  PolicCars  PolicOperBudg  \\\n",
              "population           0.231897        0.270356   0.609147       0.595543   \n",
              "householdsize       -0.004072       -0.051506  -0.032663      -0.007584   \n",
              "racepctblack         0.095053        0.147023   0.122017       0.083179   \n",
              "racePctWhite        -0.337458       -0.215636  -0.109191      -0.114860   \n",
              "racePctAsian         0.389944        0.296921  -0.017992       0.067745   \n",
              "...                       ...             ...        ...            ...   \n",
              "PolicOperBudg        0.131075        0.171587   0.802372       1.000000   \n",
              "LemasPctPolicOnPatr  0.055734        0.023457  -0.115349      -0.089736   \n",
              "LemasGangUnitDeploy -0.076634       -0.082946   0.078436       0.023349   \n",
              "LemasPctOfficDrugUn  0.228084        0.206644  -0.052426      -0.062677   \n",
              "PolicBudgPerPop      0.067199        0.080024   0.245532       0.259342   \n",
              "\n",
              "                     LemasPctPolicOnPatr  LemasGangUnitDeploy  \\\n",
              "population                     -0.061583             0.076527   \n",
              "householdsize                  -0.006426            -0.000280   \n",
              "racepctblack                   -0.082660             0.010987   \n",
              "racePctWhite                    0.052940            -0.033209   \n",
              "racePctAsian                    0.032389             0.065424   \n",
              "...                                  ...                  ...   \n",
              "PolicOperBudg                  -0.089736             0.023349   \n",
              "LemasPctPolicOnPatr             1.000000             0.007179   \n",
              "LemasGangUnitDeploy             0.007179             1.000000   \n",
              "LemasPctOfficDrugUn             0.021153            -0.015712   \n",
              "PolicBudgPerPop                -0.237240            -0.021100   \n",
              "\n",
              "                     LemasPctOfficDrugUn  PolicBudgPerPop  \n",
              "population                      0.466352        -0.035576  \n",
              "householdsize                  -0.094368        -0.054562  \n",
              "racepctblack                    0.260793         0.022237  \n",
              "racePctWhite                   -0.276234        -0.006323  \n",
              "racePctAsian                    0.101888        -0.011619  \n",
              "...                                  ...              ...  \n",
              "PolicOperBudg                  -0.062677         0.259342  \n",
              "LemasPctPolicOnPatr             0.021153        -0.237240  \n",
              "LemasGangUnitDeploy            -0.015712        -0.021100  \n",
              "LemasPctOfficDrugUn             1.000000         0.018649  \n",
              "PolicBudgPerPop                 0.018649         1.000000  \n",
              "\n",
              "[122 rows x 122 columns]"
            ],
            "text/html": [
              "\n",
              "  <div id=\"df-c0745b93-0464-41ef-aa94-b1381c334540\" class=\"colab-df-container\">\n",
              "    <div>\n",
              "<style scoped>\n",
              "    .dataframe tbody tr th:only-of-type {\n",
              "        vertical-align: middle;\n",
              "    }\n",
              "\n",
              "    .dataframe tbody tr th {\n",
              "        vertical-align: top;\n",
              "    }\n",
              "\n",
              "    .dataframe thead th {\n",
              "        text-align: right;\n",
              "    }\n",
              "</style>\n",
              "<table border=\"1\" class=\"dataframe\">\n",
              "  <thead>\n",
              "    <tr style=\"text-align: right;\">\n",
              "      <th></th>\n",
              "      <th>population</th>\n",
              "      <th>householdsize</th>\n",
              "      <th>racepctblack</th>\n",
              "      <th>racePctWhite</th>\n",
              "      <th>racePctAsian</th>\n",
              "      <th>racePctHisp</th>\n",
              "      <th>agePct12t21</th>\n",
              "      <th>agePct12t29</th>\n",
              "      <th>agePct16t24</th>\n",
              "      <th>agePct65up</th>\n",
              "      <th>...</th>\n",
              "      <th>PolicAveOTWorked</th>\n",
              "      <th>LandArea</th>\n",
              "      <th>PopDens</th>\n",
              "      <th>PctUsePubTrans</th>\n",
              "      <th>PolicCars</th>\n",
              "      <th>PolicOperBudg</th>\n",
              "      <th>LemasPctPolicOnPatr</th>\n",
              "      <th>LemasGangUnitDeploy</th>\n",
              "      <th>LemasPctOfficDrugUn</th>\n",
              "      <th>PolicBudgPerPop</th>\n",
              "    </tr>\n",
              "  </thead>\n",
              "  <tbody>\n",
              "    <tr>\n",
              "      <th>population</th>\n",
              "      <td>1.000000</td>\n",
              "      <td>-0.046148</td>\n",
              "      <td>0.231178</td>\n",
              "      <td>-0.300845</td>\n",
              "      <td>0.181603</td>\n",
              "      <td>0.156218</td>\n",
              "      <td>0.006368</td>\n",
              "      <td>0.130344</td>\n",
              "      <td>0.075596</td>\n",
              "      <td>-0.102006</td>\n",
              "      <td>...</td>\n",
              "      <td>0.116820</td>\n",
              "      <td>0.713652</td>\n",
              "      <td>0.231897</td>\n",
              "      <td>0.270356</td>\n",
              "      <td>0.609147</td>\n",
              "      <td>0.595543</td>\n",
              "      <td>-0.061583</td>\n",
              "      <td>0.076527</td>\n",
              "      <td>0.466352</td>\n",
              "      <td>-0.035576</td>\n",
              "    </tr>\n",
              "    <tr>\n",
              "      <th>householdsize</th>\n",
              "      <td>-0.046148</td>\n",
              "      <td>1.000000</td>\n",
              "      <td>-0.067109</td>\n",
              "      <td>-0.235907</td>\n",
              "      <td>0.201996</td>\n",
              "      <td>0.468659</td>\n",
              "      <td>0.520461</td>\n",
              "      <td>0.367338</td>\n",
              "      <td>0.295225</td>\n",
              "      <td>-0.612666</td>\n",
              "      <td>...</td>\n",
              "      <td>0.034583</td>\n",
              "      <td>-0.015078</td>\n",
              "      <td>-0.004072</td>\n",
              "      <td>-0.051506</td>\n",
              "      <td>-0.032663</td>\n",
              "      <td>-0.007584</td>\n",
              "      <td>-0.006426</td>\n",
              "      <td>-0.000280</td>\n",
              "      <td>-0.094368</td>\n",
              "      <td>-0.054562</td>\n",
              "    </tr>\n",
              "    <tr>\n",
              "      <th>racepctblack</th>\n",
              "      <td>0.231178</td>\n",
              "      <td>-0.067109</td>\n",
              "      <td>1.000000</td>\n",
              "      <td>-0.794389</td>\n",
              "      <td>-0.106738</td>\n",
              "      <td>-0.066581</td>\n",
              "      <td>0.122338</td>\n",
              "      <td>0.153475</td>\n",
              "      <td>0.134068</td>\n",
              "      <td>0.052934</td>\n",
              "      <td>...</td>\n",
              "      <td>-0.051876</td>\n",
              "      <td>0.149758</td>\n",
              "      <td>0.095053</td>\n",
              "      <td>0.147023</td>\n",
              "      <td>0.122017</td>\n",
              "      <td>0.083179</td>\n",
              "      <td>-0.082660</td>\n",
              "      <td>0.010987</td>\n",
              "      <td>0.260793</td>\n",
              "      <td>0.022237</td>\n",
              "    </tr>\n",
              "    <tr>\n",
              "      <th>racePctWhite</th>\n",
              "      <td>-0.300845</td>\n",
              "      <td>-0.235907</td>\n",
              "      <td>-0.794389</td>\n",
              "      <td>1.000000</td>\n",
              "      <td>-0.270266</td>\n",
              "      <td>-0.444166</td>\n",
              "      <td>-0.194015</td>\n",
              "      <td>-0.266852</td>\n",
              "      <td>-0.183804</td>\n",
              "      <td>0.136483</td>\n",
              "      <td>...</td>\n",
              "      <td>-0.026824</td>\n",
              "      <td>-0.131389</td>\n",
              "      <td>-0.337458</td>\n",
              "      <td>-0.215636</td>\n",
              "      <td>-0.109191</td>\n",
              "      <td>-0.114860</td>\n",
              "      <td>0.052940</td>\n",
              "      <td>-0.033209</td>\n",
              "      <td>-0.276234</td>\n",
              "      <td>-0.006323</td>\n",
              "    </tr>\n",
              "    <tr>\n",
              "      <th>racePctAsian</th>\n",
              "      <td>0.181603</td>\n",
              "      <td>0.201996</td>\n",
              "      <td>-0.106738</td>\n",
              "      <td>-0.270266</td>\n",
              "      <td>1.000000</td>\n",
              "      <td>0.266743</td>\n",
              "      <td>-0.025020</td>\n",
              "      <td>0.100727</td>\n",
              "      <td>0.052761</td>\n",
              "      <td>-0.272020</td>\n",
              "      <td>...</td>\n",
              "      <td>0.133093</td>\n",
              "      <td>-0.001084</td>\n",
              "      <td>0.389944</td>\n",
              "      <td>0.296921</td>\n",
              "      <td>-0.017992</td>\n",
              "      <td>0.067745</td>\n",
              "      <td>0.032389</td>\n",
              "      <td>0.065424</td>\n",
              "      <td>0.101888</td>\n",
              "      <td>-0.011619</td>\n",
              "    </tr>\n",
              "    <tr>\n",
              "      <th>...</th>\n",
              "      <td>...</td>\n",
              "      <td>...</td>\n",
              "      <td>...</td>\n",
              "      <td>...</td>\n",
              "      <td>...</td>\n",
              "      <td>...</td>\n",
              "      <td>...</td>\n",
              "      <td>...</td>\n",
              "      <td>...</td>\n",
              "      <td>...</td>\n",
              "      <td>...</td>\n",
              "      <td>...</td>\n",
              "      <td>...</td>\n",
              "      <td>...</td>\n",
              "      <td>...</td>\n",
              "      <td>...</td>\n",
              "      <td>...</td>\n",
              "      <td>...</td>\n",
              "      <td>...</td>\n",
              "      <td>...</td>\n",
              "      <td>...</td>\n",
              "    </tr>\n",
              "    <tr>\n",
              "      <th>PolicOperBudg</th>\n",
              "      <td>0.595543</td>\n",
              "      <td>-0.007584</td>\n",
              "      <td>0.083179</td>\n",
              "      <td>-0.114860</td>\n",
              "      <td>0.067745</td>\n",
              "      <td>0.060263</td>\n",
              "      <td>-0.017679</td>\n",
              "      <td>0.012647</td>\n",
              "      <td>-0.001258</td>\n",
              "      <td>-0.026586</td>\n",
              "      <td>...</td>\n",
              "      <td>0.115837</td>\n",
              "      <td>0.399946</td>\n",
              "      <td>0.131075</td>\n",
              "      <td>0.171587</td>\n",
              "      <td>0.802372</td>\n",
              "      <td>1.000000</td>\n",
              "      <td>-0.089736</td>\n",
              "      <td>0.023349</td>\n",
              "      <td>-0.062677</td>\n",
              "      <td>0.259342</td>\n",
              "    </tr>\n",
              "    <tr>\n",
              "      <th>LemasPctPolicOnPatr</th>\n",
              "      <td>-0.061583</td>\n",
              "      <td>-0.006426</td>\n",
              "      <td>-0.082660</td>\n",
              "      <td>0.052940</td>\n",
              "      <td>0.032389</td>\n",
              "      <td>0.024366</td>\n",
              "      <td>0.000652</td>\n",
              "      <td>0.013327</td>\n",
              "      <td>0.013687</td>\n",
              "      <td>0.005601</td>\n",
              "      <td>...</td>\n",
              "      <td>0.019668</td>\n",
              "      <td>-0.067678</td>\n",
              "      <td>0.055734</td>\n",
              "      <td>0.023457</td>\n",
              "      <td>-0.115349</td>\n",
              "      <td>-0.089736</td>\n",
              "      <td>1.000000</td>\n",
              "      <td>0.007179</td>\n",
              "      <td>0.021153</td>\n",
              "      <td>-0.237240</td>\n",
              "    </tr>\n",
              "    <tr>\n",
              "      <th>LemasGangUnitDeploy</th>\n",
              "      <td>0.076527</td>\n",
              "      <td>-0.000280</td>\n",
              "      <td>0.010987</td>\n",
              "      <td>-0.033209</td>\n",
              "      <td>0.065424</td>\n",
              "      <td>0.025956</td>\n",
              "      <td>0.011271</td>\n",
              "      <td>0.005145</td>\n",
              "      <td>-0.001001</td>\n",
              "      <td>-0.042756</td>\n",
              "      <td>...</td>\n",
              "      <td>0.110277</td>\n",
              "      <td>0.109830</td>\n",
              "      <td>-0.076634</td>\n",
              "      <td>-0.082946</td>\n",
              "      <td>0.078436</td>\n",
              "      <td>0.023349</td>\n",
              "      <td>0.007179</td>\n",
              "      <td>1.000000</td>\n",
              "      <td>-0.015712</td>\n",
              "      <td>-0.021100</td>\n",
              "    </tr>\n",
              "    <tr>\n",
              "      <th>LemasPctOfficDrugUn</th>\n",
              "      <td>0.466352</td>\n",
              "      <td>-0.094368</td>\n",
              "      <td>0.260793</td>\n",
              "      <td>-0.276234</td>\n",
              "      <td>0.101888</td>\n",
              "      <td>0.125353</td>\n",
              "      <td>0.001301</td>\n",
              "      <td>0.117290</td>\n",
              "      <td>0.083180</td>\n",
              "      <td>-0.010168</td>\n",
              "      <td>...</td>\n",
              "      <td>-0.028096</td>\n",
              "      <td>0.299632</td>\n",
              "      <td>0.228084</td>\n",
              "      <td>0.206644</td>\n",
              "      <td>-0.052426</td>\n",
              "      <td>-0.062677</td>\n",
              "      <td>0.021153</td>\n",
              "      <td>-0.015712</td>\n",
              "      <td>1.000000</td>\n",
              "      <td>0.018649</td>\n",
              "    </tr>\n",
              "    <tr>\n",
              "      <th>PolicBudgPerPop</th>\n",
              "      <td>-0.035576</td>\n",
              "      <td>-0.054562</td>\n",
              "      <td>0.022237</td>\n",
              "      <td>-0.006323</td>\n",
              "      <td>-0.011619</td>\n",
              "      <td>0.002234</td>\n",
              "      <td>-0.076589</td>\n",
              "      <td>-0.068575</td>\n",
              "      <td>-0.049876</td>\n",
              "      <td>0.076586</td>\n",
              "      <td>...</td>\n",
              "      <td>0.044429</td>\n",
              "      <td>-0.113166</td>\n",
              "      <td>0.067199</td>\n",
              "      <td>0.080024</td>\n",
              "      <td>0.245532</td>\n",
              "      <td>0.259342</td>\n",
              "      <td>-0.237240</td>\n",
              "      <td>-0.021100</td>\n",
              "      <td>0.018649</td>\n",
              "      <td>1.000000</td>\n",
              "    </tr>\n",
              "  </tbody>\n",
              "</table>\n",
              "<p>122 rows × 122 columns</p>\n",
              "</div>\n",
              "    <div class=\"colab-df-buttons\">\n",
              "\n",
              "  <div class=\"colab-df-container\">\n",
              "    <button class=\"colab-df-convert\" onclick=\"convertToInteractive('df-c0745b93-0464-41ef-aa94-b1381c334540')\"\n",
              "            title=\"Convert this dataframe to an interactive table.\"\n",
              "            style=\"display:none;\">\n",
              "\n",
              "  <svg xmlns=\"http://www.w3.org/2000/svg\" height=\"24px\" viewBox=\"0 -960 960 960\">\n",
              "    <path d=\"M120-120v-720h720v720H120Zm60-500h600v-160H180v160Zm220 220h160v-160H400v160Zm0 220h160v-160H400v160ZM180-400h160v-160H180v160Zm440 0h160v-160H620v160ZM180-180h160v-160H180v160Zm440 0h160v-160H620v160Z\"/>\n",
              "  </svg>\n",
              "    </button>\n",
              "\n",
              "  <style>\n",
              "    .colab-df-container {\n",
              "      display:flex;\n",
              "      gap: 12px;\n",
              "    }\n",
              "\n",
              "    .colab-df-convert {\n",
              "      background-color: #E8F0FE;\n",
              "      border: none;\n",
              "      border-radius: 50%;\n",
              "      cursor: pointer;\n",
              "      display: none;\n",
              "      fill: #1967D2;\n",
              "      height: 32px;\n",
              "      padding: 0 0 0 0;\n",
              "      width: 32px;\n",
              "    }\n",
              "\n",
              "    .colab-df-convert:hover {\n",
              "      background-color: #E2EBFA;\n",
              "      box-shadow: 0px 1px 2px rgba(60, 64, 67, 0.3), 0px 1px 3px 1px rgba(60, 64, 67, 0.15);\n",
              "      fill: #174EA6;\n",
              "    }\n",
              "\n",
              "    .colab-df-buttons div {\n",
              "      margin-bottom: 4px;\n",
              "    }\n",
              "\n",
              "    [theme=dark] .colab-df-convert {\n",
              "      background-color: #3B4455;\n",
              "      fill: #D2E3FC;\n",
              "    }\n",
              "\n",
              "    [theme=dark] .colab-df-convert:hover {\n",
              "      background-color: #434B5C;\n",
              "      box-shadow: 0px 1px 3px 1px rgba(0, 0, 0, 0.15);\n",
              "      filter: drop-shadow(0px 1px 2px rgba(0, 0, 0, 0.3));\n",
              "      fill: #FFFFFF;\n",
              "    }\n",
              "  </style>\n",
              "\n",
              "    <script>\n",
              "      const buttonEl =\n",
              "        document.querySelector('#df-c0745b93-0464-41ef-aa94-b1381c334540 button.colab-df-convert');\n",
              "      buttonEl.style.display =\n",
              "        google.colab.kernel.accessAllowed ? 'block' : 'none';\n",
              "\n",
              "      async function convertToInteractive(key) {\n",
              "        const element = document.querySelector('#df-c0745b93-0464-41ef-aa94-b1381c334540');\n",
              "        const dataTable =\n",
              "          await google.colab.kernel.invokeFunction('convertToInteractive',\n",
              "                                                    [key], {});\n",
              "        if (!dataTable) return;\n",
              "\n",
              "        const docLinkHtml = 'Like what you see? Visit the ' +\n",
              "          '<a target=\"_blank\" href=https://colab.research.google.com/notebooks/data_table.ipynb>data table notebook</a>'\n",
              "          + ' to learn more about interactive tables.';\n",
              "        element.innerHTML = '';\n",
              "        dataTable['output_type'] = 'display_data';\n",
              "        await google.colab.output.renderOutput(dataTable, element);\n",
              "        const docLink = document.createElement('div');\n",
              "        docLink.innerHTML = docLinkHtml;\n",
              "        element.appendChild(docLink);\n",
              "      }\n",
              "    </script>\n",
              "  </div>\n",
              "\n",
              "\n",
              "<div id=\"df-933fe990-521c-4334-b56f-6ab7d0032400\">\n",
              "  <button class=\"colab-df-quickchart\" onclick=\"quickchart('df-933fe990-521c-4334-b56f-6ab7d0032400')\"\n",
              "            title=\"Suggest charts\"\n",
              "            style=\"display:none;\">\n",
              "\n",
              "<svg xmlns=\"http://www.w3.org/2000/svg\" height=\"24px\"viewBox=\"0 0 24 24\"\n",
              "     width=\"24px\">\n",
              "    <g>\n",
              "        <path d=\"M19 3H5c-1.1 0-2 .9-2 2v14c0 1.1.9 2 2 2h14c1.1 0 2-.9 2-2V5c0-1.1-.9-2-2-2zM9 17H7v-7h2v7zm4 0h-2V7h2v10zm4 0h-2v-4h2v4z\"/>\n",
              "    </g>\n",
              "</svg>\n",
              "  </button>\n",
              "\n",
              "<style>\n",
              "  .colab-df-quickchart {\n",
              "      --bg-color: #E8F0FE;\n",
              "      --fill-color: #1967D2;\n",
              "      --hover-bg-color: #E2EBFA;\n",
              "      --hover-fill-color: #174EA6;\n",
              "      --disabled-fill-color: #AAA;\n",
              "      --disabled-bg-color: #DDD;\n",
              "  }\n",
              "\n",
              "  [theme=dark] .colab-df-quickchart {\n",
              "      --bg-color: #3B4455;\n",
              "      --fill-color: #D2E3FC;\n",
              "      --hover-bg-color: #434B5C;\n",
              "      --hover-fill-color: #FFFFFF;\n",
              "      --disabled-bg-color: #3B4455;\n",
              "      --disabled-fill-color: #666;\n",
              "  }\n",
              "\n",
              "  .colab-df-quickchart {\n",
              "    background-color: var(--bg-color);\n",
              "    border: none;\n",
              "    border-radius: 50%;\n",
              "    cursor: pointer;\n",
              "    display: none;\n",
              "    fill: var(--fill-color);\n",
              "    height: 32px;\n",
              "    padding: 0;\n",
              "    width: 32px;\n",
              "  }\n",
              "\n",
              "  .colab-df-quickchart:hover {\n",
              "    background-color: var(--hover-bg-color);\n",
              "    box-shadow: 0 1px 2px rgba(60, 64, 67, 0.3), 0 1px 3px 1px rgba(60, 64, 67, 0.15);\n",
              "    fill: var(--button-hover-fill-color);\n",
              "  }\n",
              "\n",
              "  .colab-df-quickchart-complete:disabled,\n",
              "  .colab-df-quickchart-complete:disabled:hover {\n",
              "    background-color: var(--disabled-bg-color);\n",
              "    fill: var(--disabled-fill-color);\n",
              "    box-shadow: none;\n",
              "  }\n",
              "\n",
              "  .colab-df-spinner {\n",
              "    border: 2px solid var(--fill-color);\n",
              "    border-color: transparent;\n",
              "    border-bottom-color: var(--fill-color);\n",
              "    animation:\n",
              "      spin 1s steps(1) infinite;\n",
              "  }\n",
              "\n",
              "  @keyframes spin {\n",
              "    0% {\n",
              "      border-color: transparent;\n",
              "      border-bottom-color: var(--fill-color);\n",
              "      border-left-color: var(--fill-color);\n",
              "    }\n",
              "    20% {\n",
              "      border-color: transparent;\n",
              "      border-left-color: var(--fill-color);\n",
              "      border-top-color: var(--fill-color);\n",
              "    }\n",
              "    30% {\n",
              "      border-color: transparent;\n",
              "      border-left-color: var(--fill-color);\n",
              "      border-top-color: var(--fill-color);\n",
              "      border-right-color: var(--fill-color);\n",
              "    }\n",
              "    40% {\n",
              "      border-color: transparent;\n",
              "      border-right-color: var(--fill-color);\n",
              "      border-top-color: var(--fill-color);\n",
              "    }\n",
              "    60% {\n",
              "      border-color: transparent;\n",
              "      border-right-color: var(--fill-color);\n",
              "    }\n",
              "    80% {\n",
              "      border-color: transparent;\n",
              "      border-right-color: var(--fill-color);\n",
              "      border-bottom-color: var(--fill-color);\n",
              "    }\n",
              "    90% {\n",
              "      border-color: transparent;\n",
              "      border-bottom-color: var(--fill-color);\n",
              "    }\n",
              "  }\n",
              "</style>\n",
              "\n",
              "  <script>\n",
              "    async function quickchart(key) {\n",
              "      const quickchartButtonEl =\n",
              "        document.querySelector('#' + key + ' button');\n",
              "      quickchartButtonEl.disabled = true;  // To prevent multiple clicks.\n",
              "      quickchartButtonEl.classList.add('colab-df-spinner');\n",
              "      try {\n",
              "        const charts = await google.colab.kernel.invokeFunction(\n",
              "            'suggestCharts', [key], {});\n",
              "      } catch (error) {\n",
              "        console.error('Error during call to suggestCharts:', error);\n",
              "      }\n",
              "      quickchartButtonEl.classList.remove('colab-df-spinner');\n",
              "      quickchartButtonEl.classList.add('colab-df-quickchart-complete');\n",
              "    }\n",
              "    (() => {\n",
              "      let quickchartButtonEl =\n",
              "        document.querySelector('#df-933fe990-521c-4334-b56f-6ab7d0032400 button');\n",
              "      quickchartButtonEl.style.display =\n",
              "        google.colab.kernel.accessAllowed ? 'block' : 'none';\n",
              "    })();\n",
              "  </script>\n",
              "</div>\n",
              "    </div>\n",
              "  </div>\n"
            ]
          },
          "metadata": {},
          "execution_count": 23
        }
      ]
    },
    {
      "cell_type": "markdown",
      "source": [
        "# Ridge и Lasso модели"
      ],
      "metadata": {
        "id": "5Qd411wNMggt"
      }
    },
    {
      "cell_type": "markdown",
      "source": [
        "Ridge"
      ],
      "metadata": {
        "id": "0JVGSKQgMnWd"
      }
    },
    {
      "cell_type": "code",
      "source": [
        "from sklearn.linear_model import Ridge"
      ],
      "metadata": {
        "id": "3yG8oLTyMly-"
      },
      "execution_count": null,
      "outputs": []
    },
    {
      "cell_type": "code",
      "source": [
        "lr = Ridge(2).fit(X_train, y_train)\n",
        "\n",
        "y_pred_train = lr.predict(X_train)\n",
        "y_pred_test = lr.predict(X_test)\n",
        "\n",
        "print('Train: ', mean_squared_error(y_pred_train, y_train) ** 0.5, r2_score(y_pred_train, y_train))\n",
        "print('Test: ', mean_squared_error(y_pred_test, y_test) ** 0.5, r2_score(y_pred_test, y_test))"
      ],
      "metadata": {
        "id": "GVZTi4xdMmjr",
        "colab": {
          "base_uri": "https://localhost:8080/"
        },
        "outputId": "48aab5f4-461c-4ae8-b296-d3c890a4e520"
      },
      "execution_count": null,
      "outputs": [
        {
          "output_type": "stream",
          "name": "stdout",
          "text": [
            "Train:  0.12807750334872312 0.5330030470605208\n",
            "Test:  0.1387190226768935 0.52939287138528\n"
          ]
        }
      ]
    },
    {
      "cell_type": "code",
      "source": [
        "list(zip(X.columns, lr.coef_))[:10]"
      ],
      "metadata": {
        "id": "Xte6_Z8-Ms_6",
        "colab": {
          "base_uri": "https://localhost:8080/"
        },
        "outputId": "69363ca2-d715-420c-82b0-fa948846abcc"
      },
      "execution_count": null,
      "outputs": [
        {
          "output_type": "execute_result",
          "data": {
            "text/plain": [
              "[('population', -0.022529033360955155),\n",
              " ('householdsize', 0.006910198520587943),\n",
              " ('racepctblack', 0.17436619175718046),\n",
              " ('racePctWhite', -0.05511585898470925),\n",
              " ('racePctAsian', -0.02511282033686321),\n",
              " ('racePctHisp', 0.040089030255100244),\n",
              " ('agePct12t21', 0.0026216927429522285),\n",
              " ('agePct12t29', -0.07973424574780728),\n",
              " ('agePct16t24', -0.0301691814444357),\n",
              " ('agePct65up', 0.033060933740723726)]"
            ]
          },
          "metadata": {},
          "execution_count": 28
        }
      ]
    },
    {
      "cell_type": "markdown",
      "source": [
        "Lasso"
      ],
      "metadata": {
        "id": "AfAiVV6hMtYs"
      }
    },
    {
      "cell_type": "code",
      "source": [
        "from sklearn.linear_model import Lasso"
      ],
      "metadata": {
        "id": "kufgOqrgMvBl"
      },
      "execution_count": null,
      "outputs": []
    },
    {
      "cell_type": "code",
      "source": [
        "lr = Lasso(0.0001).fit(X_train, y_train)\n",
        "\n",
        "y_pred_train = lr.predict(X_train)\n",
        "y_pred_test = lr.predict(X_test)\n",
        "\n",
        "print('Train: ', mean_squared_error(y_pred_train, y_train) ** 0.5, r2_score(y_pred_train, y_train))\n",
        "print('Test: ', mean_squared_error(y_pred_test, y_test) ** 0.5, r2_score(y_pred_test, y_test))"
      ],
      "metadata": {
        "id": "PaWZohSGMuiF",
        "colab": {
          "base_uri": "https://localhost:8080/"
        },
        "outputId": "7e6e1aaf-e339-42fa-9998-91c2a2382ca7"
      },
      "execution_count": null,
      "outputs": [
        {
          "output_type": "stream",
          "name": "stdout",
          "text": [
            "Train:  0.1279315840960136 0.537581218551147\n",
            "Test:  0.13922195048400507 0.5286843588194272\n"
          ]
        }
      ]
    },
    {
      "cell_type": "code",
      "source": [
        "list(zip(X.columns, lr.coef_))[:10]"
      ],
      "metadata": {
        "id": "ZDiG-s2pMuPF",
        "colab": {
          "base_uri": "https://localhost:8080/"
        },
        "outputId": "5c15bdda-d7fd-4737-93f9-5b749e96210c"
      },
      "execution_count": null,
      "outputs": [
        {
          "output_type": "execute_result",
          "data": {
            "text/plain": [
              "[('population', -0.0),\n",
              " ('householdsize', -0.0),\n",
              " ('racepctblack', 0.20536628024585166),\n",
              " ('racePctWhite', -0.0007009631223347618),\n",
              " ('racePctAsian', -2.405958556504305e-05),\n",
              " ('racePctHisp', 0.036196072102769095),\n",
              " ('agePct12t21', 0.0),\n",
              " ('agePct12t29', -0.13834127048917746),\n",
              " ('agePct16t24', -0.0),\n",
              " ('agePct65up', 0.0)]"
            ]
          },
          "metadata": {},
          "execution_count": 33
        }
      ]
    },
    {
      "cell_type": "markdown",
      "source": [
        "# Подбор гиперпараметров"
      ],
      "metadata": {
        "id": "DdDWFNLTM6eZ"
      }
    },
    {
      "cell_type": "code",
      "source": [
        "from sklearn.model_selection import GridSearchCV"
      ],
      "metadata": {
        "id": "q4P5DgQdM-Kk"
      },
      "execution_count": null,
      "outputs": []
    },
    {
      "cell_type": "code",
      "source": [
        "lr = Lasso(max_iter = 3000)\n",
        "params = {\n",
        "    'alpha': np.arange(0.00001, 0.00011, 0.00001)\n",
        "}\n",
        "\n",
        "gs = GridSearchCV(lr, params)\n",
        "gs.fit(X, y)"
      ],
      "metadata": {
        "id": "LwH0stoHNBzb",
        "colab": {
          "base_uri": "https://localhost:8080/",
          "height": 118
        },
        "outputId": "5322b765-f666-4ff2-d35f-ea1280889932"
      },
      "execution_count": null,
      "outputs": [
        {
          "output_type": "execute_result",
          "data": {
            "text/plain": [
              "GridSearchCV(estimator=Lasso(max_iter=3000),\n",
              "             param_grid={'alpha': array([1.e-05, 2.e-05, 3.e-05, 4.e-05, 5.e-05, 6.e-05, 7.e-05, 8.e-05,\n",
              "       9.e-05, 1.e-04])})"
            ],
            "text/html": [
              "<style>#sk-container-id-2 {color: black;background-color: white;}#sk-container-id-2 pre{padding: 0;}#sk-container-id-2 div.sk-toggleable {background-color: white;}#sk-container-id-2 label.sk-toggleable__label {cursor: pointer;display: block;width: 100%;margin-bottom: 0;padding: 0.3em;box-sizing: border-box;text-align: center;}#sk-container-id-2 label.sk-toggleable__label-arrow:before {content: \"▸\";float: left;margin-right: 0.25em;color: #696969;}#sk-container-id-2 label.sk-toggleable__label-arrow:hover:before {color: black;}#sk-container-id-2 div.sk-estimator:hover label.sk-toggleable__label-arrow:before {color: black;}#sk-container-id-2 div.sk-toggleable__content {max-height: 0;max-width: 0;overflow: hidden;text-align: left;background-color: #f0f8ff;}#sk-container-id-2 div.sk-toggleable__content pre {margin: 0.2em;color: black;border-radius: 0.25em;background-color: #f0f8ff;}#sk-container-id-2 input.sk-toggleable__control:checked~div.sk-toggleable__content {max-height: 200px;max-width: 100%;overflow: auto;}#sk-container-id-2 input.sk-toggleable__control:checked~label.sk-toggleable__label-arrow:before {content: \"▾\";}#sk-container-id-2 div.sk-estimator input.sk-toggleable__control:checked~label.sk-toggleable__label {background-color: #d4ebff;}#sk-container-id-2 div.sk-label input.sk-toggleable__control:checked~label.sk-toggleable__label {background-color: #d4ebff;}#sk-container-id-2 input.sk-hidden--visually {border: 0;clip: rect(1px 1px 1px 1px);clip: rect(1px, 1px, 1px, 1px);height: 1px;margin: -1px;overflow: hidden;padding: 0;position: absolute;width: 1px;}#sk-container-id-2 div.sk-estimator {font-family: monospace;background-color: #f0f8ff;border: 1px dotted black;border-radius: 0.25em;box-sizing: border-box;margin-bottom: 0.5em;}#sk-container-id-2 div.sk-estimator:hover {background-color: #d4ebff;}#sk-container-id-2 div.sk-parallel-item::after {content: \"\";width: 100%;border-bottom: 1px solid gray;flex-grow: 1;}#sk-container-id-2 div.sk-label:hover label.sk-toggleable__label {background-color: #d4ebff;}#sk-container-id-2 div.sk-serial::before {content: \"\";position: absolute;border-left: 1px solid gray;box-sizing: border-box;top: 0;bottom: 0;left: 50%;z-index: 0;}#sk-container-id-2 div.sk-serial {display: flex;flex-direction: column;align-items: center;background-color: white;padding-right: 0.2em;padding-left: 0.2em;position: relative;}#sk-container-id-2 div.sk-item {position: relative;z-index: 1;}#sk-container-id-2 div.sk-parallel {display: flex;align-items: stretch;justify-content: center;background-color: white;position: relative;}#sk-container-id-2 div.sk-item::before, #sk-container-id-2 div.sk-parallel-item::before {content: \"\";position: absolute;border-left: 1px solid gray;box-sizing: border-box;top: 0;bottom: 0;left: 50%;z-index: -1;}#sk-container-id-2 div.sk-parallel-item {display: flex;flex-direction: column;z-index: 1;position: relative;background-color: white;}#sk-container-id-2 div.sk-parallel-item:first-child::after {align-self: flex-end;width: 50%;}#sk-container-id-2 div.sk-parallel-item:last-child::after {align-self: flex-start;width: 50%;}#sk-container-id-2 div.sk-parallel-item:only-child::after {width: 0;}#sk-container-id-2 div.sk-dashed-wrapped {border: 1px dashed gray;margin: 0 0.4em 0.5em 0.4em;box-sizing: border-box;padding-bottom: 0.4em;background-color: white;}#sk-container-id-2 div.sk-label label {font-family: monospace;font-weight: bold;display: inline-block;line-height: 1.2em;}#sk-container-id-2 div.sk-label-container {text-align: center;}#sk-container-id-2 div.sk-container {/* jupyter's `normalize.less` sets `[hidden] { display: none; }` but bootstrap.min.css set `[hidden] { display: none !important; }` so we also need the `!important` here to be able to override the default hidden behavior on the sphinx rendered scikit-learn.org. See: https://github.com/scikit-learn/scikit-learn/issues/21755 */display: inline-block !important;position: relative;}#sk-container-id-2 div.sk-text-repr-fallback {display: none;}</style><div id=\"sk-container-id-2\" class=\"sk-top-container\"><div class=\"sk-text-repr-fallback\"><pre>GridSearchCV(estimator=Lasso(max_iter=3000),\n",
              "             param_grid={&#x27;alpha&#x27;: array([1.e-05, 2.e-05, 3.e-05, 4.e-05, 5.e-05, 6.e-05, 7.e-05, 8.e-05,\n",
              "       9.e-05, 1.e-04])})</pre><b>In a Jupyter environment, please rerun this cell to show the HTML representation or trust the notebook. <br />On GitHub, the HTML representation is unable to render, please try loading this page with nbviewer.org.</b></div><div class=\"sk-container\" hidden><div class=\"sk-item sk-dashed-wrapped\"><div class=\"sk-label-container\"><div class=\"sk-label sk-toggleable\"><input class=\"sk-toggleable__control sk-hidden--visually\" id=\"sk-estimator-id-4\" type=\"checkbox\" ><label for=\"sk-estimator-id-4\" class=\"sk-toggleable__label sk-toggleable__label-arrow\">GridSearchCV</label><div class=\"sk-toggleable__content\"><pre>GridSearchCV(estimator=Lasso(max_iter=3000),\n",
              "             param_grid={&#x27;alpha&#x27;: array([1.e-05, 2.e-05, 3.e-05, 4.e-05, 5.e-05, 6.e-05, 7.e-05, 8.e-05,\n",
              "       9.e-05, 1.e-04])})</pre></div></div></div><div class=\"sk-parallel\"><div class=\"sk-parallel-item\"><div class=\"sk-item\"><div class=\"sk-label-container\"><div class=\"sk-label sk-toggleable\"><input class=\"sk-toggleable__control sk-hidden--visually\" id=\"sk-estimator-id-5\" type=\"checkbox\" ><label for=\"sk-estimator-id-5\" class=\"sk-toggleable__label sk-toggleable__label-arrow\">estimator: Lasso</label><div class=\"sk-toggleable__content\"><pre>Lasso(max_iter=3000)</pre></div></div></div><div class=\"sk-serial\"><div class=\"sk-item\"><div class=\"sk-estimator sk-toggleable\"><input class=\"sk-toggleable__control sk-hidden--visually\" id=\"sk-estimator-id-6\" type=\"checkbox\" ><label for=\"sk-estimator-id-6\" class=\"sk-toggleable__label sk-toggleable__label-arrow\">Lasso</label><div class=\"sk-toggleable__content\"><pre>Lasso(max_iter=3000)</pre></div></div></div></div></div></div></div></div></div></div>"
            ]
          },
          "metadata": {},
          "execution_count": 37
        }
      ]
    },
    {
      "cell_type": "code",
      "source": [
        "gs.best_score_"
      ],
      "metadata": {
        "id": "5G7cW9T6NCMU",
        "colab": {
          "base_uri": "https://localhost:8080/"
        },
        "outputId": "b012191c-a337-4560-956b-40a8237c5fd8"
      },
      "execution_count": null,
      "outputs": [
        {
          "output_type": "execute_result",
          "data": {
            "text/plain": [
              "0.6545113409657523"
            ]
          },
          "metadata": {},
          "execution_count": 38
        }
      ]
    },
    {
      "cell_type": "code",
      "source": [
        "gs.best_params_"
      ],
      "metadata": {
        "colab": {
          "base_uri": "https://localhost:8080/"
        },
        "id": "fp5rsUMZjqJ0",
        "outputId": "35f8549d-aa4f-43f2-9c1c-74da7a4dec23"
      },
      "execution_count": null,
      "outputs": [
        {
          "output_type": "execute_result",
          "data": {
            "text/plain": [
              "{'alpha': 8e-05}"
            ]
          },
          "metadata": {},
          "execution_count": 39
        }
      ]
    }
  ]
}